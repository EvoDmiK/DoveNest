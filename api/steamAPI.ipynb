{
 "cells": [
  {
   "cell_type": "markdown",
   "id": "2eb8b9bc-f4d0-4f71-bd9a-6b026049fea1",
   "metadata": {},
   "source": [
    "# 99. 자료 출처\n",
    "## 99-1. 블로그\n",
    "- 위저원의 블로그 : Build a Steam Game Recomend Model (1/?) - 데이터 수집 경로 설정하기 | [[블로그 링크]](https://weejw.tistory.com/555)"
   ]
  },
  {
   "cell_type": "code",
   "execution_count": 1,
   "id": "ae3d4c64-975f-4e81-afc0-3c92eebd7dcd",
   "metadata": {},
   "outputs": [],
   "source": [
    "from multiprocessing import Pool, Process\n",
    "import pandas as pd\n",
    "import requests\n",
    "import os, re\n",
    "import time\n",
    "import json"
   ]
  },
  {
   "cell_type": "code",
   "execution_count": 2,
   "id": "d77620c8-fc16-446f-aca8-ecc3626224fa",
   "metadata": {},
   "outputs": [],
   "source": [
    "def return_or_print(response):\n",
    "    \n",
    "    if response.status_code == 200: return response.json()\n",
    "    else: print(f'no response data with code : {response.status_code}')\n",
    "\n",
    "    \n",
    "get_api  = lambda url: return_or_print(requests.get(url))\n",
    "\n",
    "def get_info(appid):\n",
    "    \n",
    "    response = requests.get(f'https://store.steampowered.com/api/appdetails?appids={appid}&l=korean')\n",
    "    return return_or_print(response)\n",
    "    \n",
    "    \n",
    "def get_reviews(appid):\n",
    "    \n",
    "    response = requests.get(f'https://store.steampowered.com/appreviews/{appid}?json=1')\n",
    "    return return_or_print(response)\n",
    "\n",
    "\n",
    "def get_requirements(info, platform = 'pc', typeof = 'minimum'):\n",
    "    \n",
    "    assert platform in ['pc', 'linux', 'mac'], 'platform must be pc, linux and mac'\n",
    "    assert typeof in ['minimum', 'recommended'], 'type of must be minimum, recommended'\n",
    "    \n",
    "    requirements = info[f'{platform}_requirements'][typeof]\n",
    "    requirements = re.sub('(<([^>]+)>)', '\\n', requirements)\n",
    "    \n",
    "    requirements = requirements.split('\\n')\n",
    "    requirements = [req for req in requirements if req != '']\n",
    "    \n",
    "    result = {}\n",
    "    for idx in range(1, len(requirements), 2): \n",
    "        \n",
    "        print(requirements[idx: idx + 2])\n",
    "        key, value = requirements[idx: idx + 2]\n",
    "        result[key] = value\n",
    "        \n",
    "    return result"
   ]
  },
  {
   "cell_type": "code",
   "execution_count": 3,
   "id": "7c093577-98af-4ad8-beaf-5c7caefce0f0",
   "metadata": {},
   "outputs": [],
   "source": [
    "steam_games = get_api('https://api.steampowered.com/ISteamApps/GetAppList/v2')['applist']['apps']"
   ]
  },
  {
   "cell_type": "code",
   "execution_count": 5,
   "id": "04baecca-4f25-44ec-b4d3-e80411b0ae3f",
   "metadata": {},
   "outputs": [],
   "source": [
    "appid = steam_games[-3]['appid']\n",
    "info  = get_info(appid)[str(appid)]['data']"
   ]
  },
  {
   "cell_type": "code",
   "execution_count": 6,
   "id": "b354c0ab-3ef1-4855-9d95-3c3a2dd43bc5",
   "metadata": {},
   "outputs": [
    {
     "ename": "KeyError",
     "evalue": "'supported_languages'",
     "output_type": "error",
     "traceback": [
      "\u001b[0;31m---------------------------------------------------------------------------\u001b[0m",
      "\u001b[0;31mKeyError\u001b[0m                                  Traceback (most recent call last)",
      "Cell \u001b[0;32mIn [6], line 4\u001b[0m\n\u001b[1;32m      2\u001b[0m appid, is_free    \u001b[38;5;241m=\u001b[39m info[\u001b[38;5;124m'\u001b[39m\u001b[38;5;124msteam_appid\u001b[39m\u001b[38;5;124m'\u001b[39m], info[\u001b[38;5;124m'\u001b[39m\u001b[38;5;124mis_free\u001b[39m\u001b[38;5;124m'\u001b[39m]\n\u001b[1;32m      3\u001b[0m short_description \u001b[38;5;241m=\u001b[39m info[\u001b[38;5;124m'\u001b[39m\u001b[38;5;124mshort_description\u001b[39m\u001b[38;5;124m'\u001b[39m]\n\u001b[0;32m----> 4\u001b[0m languages         \u001b[38;5;241m=\u001b[39m \u001b[43minfo\u001b[49m\u001b[43m[\u001b[49m\u001b[38;5;124;43m'\u001b[39;49m\u001b[38;5;124;43msupported_languages\u001b[39;49m\u001b[38;5;124;43m'\u001b[39;49m\u001b[43m]\u001b[49m\n\u001b[1;32m      5\u001b[0m image             \u001b[38;5;241m=\u001b[39m info[\u001b[38;5;124m'\u001b[39m\u001b[38;5;124mheader_image\u001b[39m\u001b[38;5;124m'\u001b[39m]\n\u001b[1;32m      6\u001b[0m web_site          \u001b[38;5;241m=\u001b[39m info[\u001b[38;5;124m'\u001b[39m\u001b[38;5;124mwebsite\u001b[39m\u001b[38;5;124m'\u001b[39m]\n",
      "\u001b[0;31mKeyError\u001b[0m: 'supported_languages'"
     ]
    }
   ],
   "source": [
    "name, typeof      = info['name'], info['type']\n",
    "appid, is_free    = info['steam_appid'], info['is_free']\n",
    "short_description = info['short_description']\n",
    "languages         = info['supported_languages']\n",
    "image             = info['header_image']\n",
    "web_site          = info['website']\n",
    "platforms         = info['platforms']\n",
    "release_date      = info['release_date']"
   ]
  },
  {
   "cell_type": "code",
   "execution_count": null,
   "id": "6d379ca7-7727-4f36-a38e-96e3e23ede7a",
   "metadata": {},
   "outputs": [],
   "source": [
    "get_reviews(appid)"
   ]
  },
  {
   "cell_type": "code",
   "execution_count": null,
   "id": "7e7d37d9-3dfd-4962-822a-cb1219992cad",
   "metadata": {},
   "outputs": [],
   "source": [
    "get_info(appid)[str(appid)]"
   ]
  },
  {
   "cell_type": "code",
   "execution_count": null,
   "id": "4d34cb82-966c-4de6-80a5-ff6b5e677f15",
   "metadata": {},
   "outputs": [],
   "source": []
  }
 ],
 "metadata": {
  "kernelspec": {
   "display_name": "dove",
   "language": "python",
   "name": "dove"
  },
  "language_info": {
   "codemirror_mode": {
    "name": "ipython",
    "version": 3
   },
   "file_extension": ".py",
   "mimetype": "text/x-python",
   "name": "python",
   "nbconvert_exporter": "python",
   "pygments_lexer": "ipython3",
   "version": "3.8.13"
  }
 },
 "nbformat": 4,
 "nbformat_minor": 5
}
