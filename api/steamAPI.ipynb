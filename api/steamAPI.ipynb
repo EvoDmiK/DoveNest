{
 "cells": [
  {
   "cell_type": "markdown",
   "id": "2eb8b9bc-f4d0-4f71-bd9a-6b026049fea1",
   "metadata": {},
   "source": [
    "# 99. 자료 출처\n",
    "## 99-1. 블로그\n",
    "- 위저원의 블로그 : Build a Steam Game Recomend Model (1/?) - 데이터 수집 경로 설정하기 | [[블로그 링크]](https://weejw.tistory.com/555)"
   ]
  },
  {
   "cell_type": "code",
   "execution_count": 3,
   "id": "ae3d4c64-975f-4e81-afc0-3c92eebd7dcd",
   "metadata": {},
   "outputs": [],
   "source": [
    "from multiprocessing import Pool, Process\n",
    "import pandas as pd\n",
    "import requests\n",
    "import os, re\n",
    "import time\n",
    "import json"
   ]
  },
  {
   "cell_type": "code",
   "execution_count": 14,
   "id": "d77620c8-fc16-446f-aca8-ecc3626224fa",
   "metadata": {},
   "outputs": [],
   "source": [
    "def return_or_print(response):\n",
    "    \n",
    "    if response.status_code == 200: return response.json()\n",
    "    else: print(f'no response data with code : {response.status_code}')\n",
    "\n",
    "    \n",
    "get_api  = lambda url: return_or_print(requests.get(url))\n",
    "\n",
    "def get_info(appid):\n",
    "    \n",
    "    response = requests.get(f'https://store.steampowered.com/api/appdetails?appids={appid}&l=korean')\n",
    "    return return_or_print(response)\n",
    "    \n",
    "    \n",
    "def get_reviews(appid):\n",
    "    \n",
    "    response = requests.get(f'https://store.steampowered.com/appreviews/{appid}?json=1')\n",
    "    return return_or_print(response)\n",
    "\n",
    "\n",
    "def get_requirements(info, platform = 'pc', typeof = 'minimum'):\n",
    "    \n",
    "    assert platform in ['pc', 'linux', 'mac'], 'platform must be pc, linux and mac'\n",
    "    assert typeof in ['minimum', 'recommended'], 'type of must be minimum, recommended'\n",
    "    \n",
    "    requirements = info[f'{platform}_requirements'][typeof]\n",
    "    requirements = re.sub('(<([^>]+)>)', '\\n', requirements)\n",
    "    \n",
    "    requirements = requirements.split('\\n')\n",
    "    requirements = [req for req in requirements if req != '']\n",
    "    \n",
    "    result = {}\n",
    "    for idx in range(1, len(requirements), 2): \n",
    "        \n",
    "        print(requirements[idx: idx + 2])\n",
    "        key, value = requirements[idx: idx + 2]\n",
    "        result[key] = value\n",
    "        \n",
    "    return result"
   ]
  },
  {
   "cell_type": "code",
   "execution_count": 5,
   "id": "7c093577-98af-4ad8-beaf-5c7caefce0f0",
   "metadata": {},
   "outputs": [],
   "source": [
    "steam_games = get_api('https://api.steampowered.com/ISteamApps/GetAppList/v2')['applist']['apps']"
   ]
  },
  {
   "cell_type": "code",
   "execution_count": 6,
   "id": "04baecca-4f25-44ec-b4d3-e80411b0ae3f",
   "metadata": {},
   "outputs": [],
   "source": [
    "appid = steam_games[-1]['appid']\n",
    "info  = get_info(appid)[str(appid)]['data']"
   ]
  },
  {
   "cell_type": "code",
   "execution_count": 7,
   "id": "b354c0ab-3ef1-4855-9d95-3c3a2dd43bc5",
   "metadata": {},
   "outputs": [],
   "source": [
    "name, typeof      = info['name'], info['type']\n",
    "appid, is_free    = info['steam_appid'], info['is_free']\n",
    "short_description = info['short_description']\n",
    "languages         = info['supported_languages']\n",
    "image             = info['header_image']\n",
    "web_site          = info['website']\n",
    "platforms         = info['platforms']\n",
    "release_date      = info['release_date']"
   ]
  },
  {
   "cell_type": "code",
   "execution_count": 9,
   "id": "1b0c9414-06f6-42ed-80ff-7853ad8e7e5c",
   "metadata": {},
   "outputs": [
    {
     "data": {
      "text/plain": [
       "{'minimum': '<strong>최소:</strong><br><ul class=\"bb_ul\"><li>64비트 프로세서와 운영 체제가 필요합니다<br></li><li><strong>운영체제:</strong> Windows 7<br></li><li><strong>프로세서:</strong> Intel Core i5-2300 | AMD FX-4350<br></li><li><strong>메모리:</strong> 8 GB RAM<br></li><li><strong>그래픽:</strong> Nvidia GeForce GTS 450, 1 GB | AMD Radeon HD 5770, 1 GB<br></li><li><strong>DirectX:</strong> 버전 11<br></li><li><strong>저장공간:</strong> 15 GB 사용 가능 공간</li></ul>',\n",
       " 'recommended': '<strong>권장:</strong><br><ul class=\"bb_ul\"><li>64비트 프로세서와 운영 체제가 필요합니다</li></ul>'}"
      ]
     },
     "execution_count": 9,
     "metadata": {},
     "output_type": "execute_result"
    }
   ],
   "source": [
    "info['pc_requirements']"
   ]
  },
  {
   "cell_type": "code",
   "execution_count": 15,
   "id": "473f0bef-eaf3-43f8-8d55-320d6a2b5181",
   "metadata": {},
   "outputs": [
    {
     "name": "stdout",
     "output_type": "stream",
     "text": [
      "['64비트 프로세서와 운영 체제가 필요합니다', '운영체제:']\n",
      "[' Windows 7', '프로세서:']\n",
      "[' Intel Core i5-2300 | AMD FX-4350', '메모리:']\n",
      "[' 8 GB RAM', '그래픽:']\n",
      "[' Nvidia GeForce GTS 450, 1 GB | AMD Radeon HD 5770, 1 GB', 'DirectX:']\n",
      "[' 버전 11', '저장공간:']\n",
      "[' 15 GB 사용 가능 공간']\n"
     ]
    },
    {
     "ename": "ValueError",
     "evalue": "not enough values to unpack (expected 2, got 1)",
     "output_type": "error",
     "traceback": [
      "\u001b[0;31m---------------------------------------------------------------------------\u001b[0m",
      "\u001b[0;31mValueError\u001b[0m                                Traceback (most recent call last)",
      "Cell \u001b[0;32mIn [15], line 1\u001b[0m\n\u001b[0;32m----> 1\u001b[0m win_minimum \u001b[38;5;241m=\u001b[39m \u001b[43mget_requirements\u001b[49m\u001b[43m(\u001b[49m\u001b[43minfo\u001b[49m\u001b[43m,\u001b[49m\u001b[43m \u001b[49m\u001b[38;5;124;43m'\u001b[39;49m\u001b[38;5;124;43mpc\u001b[39;49m\u001b[38;5;124;43m'\u001b[39;49m\u001b[43m)\u001b[49m\n\u001b[1;32m      2\u001b[0m win_minimum\n",
      "Cell \u001b[0;32mIn [14], line 36\u001b[0m, in \u001b[0;36mget_requirements\u001b[0;34m(info, platform, typeof)\u001b[0m\n\u001b[1;32m     33\u001b[0m \u001b[38;5;28;01mfor\u001b[39;00m idx \u001b[38;5;129;01min\u001b[39;00m \u001b[38;5;28mrange\u001b[39m(\u001b[38;5;241m1\u001b[39m, \u001b[38;5;28mlen\u001b[39m(requirements), \u001b[38;5;241m2\u001b[39m): \n\u001b[1;32m     35\u001b[0m     \u001b[38;5;28mprint\u001b[39m(requirements[idx: idx \u001b[38;5;241m+\u001b[39m \u001b[38;5;241m2\u001b[39m])\n\u001b[0;32m---> 36\u001b[0m     key, value \u001b[38;5;241m=\u001b[39m requirements[idx: idx \u001b[38;5;241m+\u001b[39m \u001b[38;5;241m2\u001b[39m]\n\u001b[1;32m     37\u001b[0m     result[key] \u001b[38;5;241m=\u001b[39m value\n\u001b[1;32m     39\u001b[0m \u001b[38;5;28;01mreturn\u001b[39;00m result\n",
      "\u001b[0;31mValueError\u001b[0m: not enough values to unpack (expected 2, got 1)"
     ]
    }
   ],
   "source": [
    "win_minimum = get_requirements(info, 'pc')\n",
    "win_minimum"
   ]
  },
  {
   "cell_type": "code",
   "execution_count": null,
   "id": "82f3c313-0676-4ca9-9eb5-3224f9b038c3",
   "metadata": {},
   "outputs": [],
   "source": [
    "win_recommen = get_requirements(info, 'pc', 'recommended')\n",
    "win_recommen"
   ]
  },
  {
   "cell_type": "code",
   "execution_count": 34,
   "id": "2e196d9b-2b0d-4736-9a9e-db58b542f8d4",
   "metadata": {},
   "outputs": [],
   "source": [
    "def save_json(idx, games):\n",
    "    \n",
    "    database = {}\n",
    "    \n",
    "    for game in games:\n",
    "        appid     = game['appid']\n",
    "        \n",
    "        try:\n",
    "            json_path = f'jsons/{appid}' \n",
    "            \n",
    "            try:\n",
    "                info = get_info(appid)[str(appid)]['data']\n",
    "                \n",
    "                os.makedirs(json_path, exist_ok = True)\n",
    "                json.dump(info, open(f'{json_path}/{appid}.json', 'w'), indent = 4)\n",
    "            \n",
    "            except Exception as e:\n",
    "                print(f'[Error. 001] json file can\\'t save : [{appid}] {e}\\n')\n",
    "                \n",
    "            database['appid']     = appid\n",
    "            database['json_path'] = f'{json_path}/{appid}.json'\n",
    "        \n",
    "        except Exception as e:\n",
    "            print(f'[Error. 002] api data receieve failed : [{appid}] {e}\\n')\n",
    "        time.sleep(5)\n",
    "        \n",
    "    print(f'[Done] process : {idx} done.\\n')"
   ]
  },
  {
   "cell_type": "code",
   "execution_count": 35,
   "id": "52e93df8-a568-4ab4-a19d-23789e70d281",
   "metadata": {},
   "outputs": [
    {
     "data": {
      "text/plain": [
       "(50, 50, 50, 50)"
      ]
     },
     "execution_count": 35,
     "metadata": {},
     "output_type": "execute_result"
    }
   ],
   "source": [
    "_1st_jobs = steam_games[:50]\n",
    "_2nd_jobs = steam_games[50 : 100]\n",
    "_3rd_jobs = steam_games[100 : 150]\n",
    "_4th_jobs = steam_games[150 : 200]\n",
    "\n",
    "jobs = [_1st_jobs, _2nd_jobs, _3rd_jobs, _4th_jobs]\n",
    "len(_1st_jobs), len(_2nd_jobs), len(_3rd_jobs), len(_4th_jobs)"
   ]
  },
  {
   "cell_type": "code",
   "execution_count": 36,
   "id": "c75febf3-a09a-4be5-8311-63cd593774e2",
   "metadata": {},
   "outputs": [],
   "source": [
    "!rm -rf jsons"
   ]
  },
  {
   "cell_type": "code",
   "execution_count": 37,
   "id": "db00d77f-033a-4deb-a668-15eafb75d872",
   "metadata": {},
   "outputs": [
    {
     "name": "stdout",
     "output_type": "stream",
     "text": [
      "[Error. 001] json file can't save : [2107760] 'data'\n",
      "[Error. 001] json file can't save : [1941401] 'data'\n",
      "\n",
      "\n",
      "[Error. 001] json file can't save : [2170321] 'data'\n",
      "\n",
      "[Error. 001] json file can't save : [1825161] 'data'\n",
      "\n",
      "[Error. 001] json file can't save : [1897482] 'data'\n",
      "\n",
      "[Error. 001] json file can't save : [2112761] 'data'\n",
      "\n",
      "[Error. 001] json file can't save : [1829051] 'data'\n",
      "\n",
      "[Error. 001] json file can't save : [1808781] 'data'\n",
      "\n",
      "[Error. 001] json file can't save : [1983382] 'data'\n",
      "\n",
      "[Error. 001] json file can't save : [1828741] 'data'\n",
      "\n",
      "[Error. 001] json file can't save : [216938] 'data'\n",
      "\n",
      "[Error. 001] json file can't save : [660010] 'data'\n",
      "\n",
      "[Error. 001] json file can't save : [660130] 'data'\n",
      "\n",
      "[Error. 001] json file can't save : [1118314] 'data'\n",
      "\n",
      "[Error. 001] json file can't save : [1275822] 'data'\n",
      "\n",
      "[Error. 001] json file can't save : [2107121] 'data'\n",
      "\n",
      "[Error. 001] json file can't save : [1343832] 'data'\n",
      "\n",
      "[Error. 001] json file can't save : [2107123] 'data'\n",
      "\n",
      "[Error. 001] json file can't save : [662172] 'data'\n",
      "\n",
      "[Error. 001] json file can't save : [1360782] 'data'\n",
      "\n",
      "[Error. 001] json file can't save : [2107140] 'data'\n",
      "\n",
      "[Error. 001] json file can't save : [1820332] 'data'\n",
      "\n",
      "[Error. 001] json file can't save : [1927051] 'data'\n",
      "\n",
      "[Error. 001] json file can't save : [1496152] 'data'\n",
      "\n",
      "[Error. 001] json file can't save : [1977312] 'data'\n",
      "\n",
      "[Error. 001] json file can't save : [1700632] 'data'\n",
      "\n",
      "[Error. 001] json file can't save : [1567401] 'data'\n",
      "\n",
      "[Error. 001] json file can't save : [2016512] 'data'\n",
      "\n",
      "[Error. 001] json file can't save : [2092072] 'data'\n",
      "\n",
      "[Error. 001] json file can't save : [2107310] 'data'\n",
      "\n",
      "[Error. 001] json file can't save : [2119422] 'data'\n",
      "\n",
      "[Error. 001] json file can't save : [596501] 'data'\n",
      "\n",
      "[Error. 001] json file can't save : [2177061] 'data'\n",
      "\n",
      "[Error. 001] json file can't save : [2156011] 'data'\n",
      "\n",
      "[Error. 001] json file can't save : [1383152] 'data'\n",
      "\n",
      "[Error. 001] json file can't save : [2106360] 'data'\n",
      "\n",
      "[Error. 001] json file can't save : [2108050] 'data'\n",
      "\n",
      "[Error. 001] json file can't save : [2108390] 'data'\n",
      "\n",
      "[Done] process : 4 done.\n",
      "\n",
      "[Done] process : 3 done.\n",
      "\n",
      "[Done] process : 2 done.\n",
      "\n",
      "[Done] process : 1 done.\n",
      "\n"
     ]
    },
    {
     "data": {
      "text/plain": [
       "'[Done] 수행 시간 : 267.9750초'"
      ]
     },
     "execution_count": 37,
     "metadata": {},
     "output_type": "execute_result"
    }
   ],
   "source": [
    "start = time.time()\n",
    "procs = []\n",
    "\n",
    "for idx, job in enumerate(jobs, 1):\n",
    "    p = Process(target = save_json, args = (idx, job, ))\n",
    "    p.start()\n",
    "    procs.append(p)\n",
    "    \n",
    "for p in procs: p.join()\n",
    "\n",
    "f'[Done] 수행 시간 : {time.time() - start:.4f}초'"
   ]
  },
  {
   "cell_type": "code",
   "execution_count": 38,
   "id": "725eeb9f-fd33-4af9-b0ae-066a05e4c7db",
   "metadata": {},
   "outputs": [
    {
     "data": {
      "text/plain": [
       "{}"
      ]
     },
     "execution_count": 38,
     "metadata": {},
     "output_type": "execute_result"
    }
   ],
   "source": [
    "database"
   ]
  },
  {
   "cell_type": "code",
   "execution_count": null,
   "id": "6d379ca7-7727-4f36-a38e-96e3e23ede7a",
   "metadata": {},
   "outputs": [],
   "source": []
  }
 ],
 "metadata": {
  "kernelspec": {
   "display_name": "dove",
   "language": "python",
   "name": "dove"
  },
  "language_info": {
   "codemirror_mode": {
    "name": "ipython",
    "version": 3
   },
   "file_extension": ".py",
   "mimetype": "text/x-python",
   "name": "python",
   "nbconvert_exporter": "python",
   "pygments_lexer": "ipython3",
   "version": "3.8.13"
  }
 },
 "nbformat": 4,
 "nbformat_minor": 5
}
