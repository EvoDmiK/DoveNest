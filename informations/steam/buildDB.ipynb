{
 "cells": [
  {
   "cell_type": "code",
   "execution_count": 1,
   "id": "133e375e-67ed-42f1-b49f-7f181bf6a297",
   "metadata": {},
   "outputs": [],
   "source": [
    "from imutils.paths import list_files\n",
    "import pandas as pd\n",
    "import os"
   ]
  },
  {
   "cell_type": "code",
   "execution_count": 2,
   "id": "b4f5a694-4a47-4133-bd06-0b74142bb19b",
   "metadata": {},
   "outputs": [],
   "source": [
    "ROOT_PATH = f'/home/jovyan/project/DoveNest'"
   ]
  },
  {
   "cell_type": "code",
   "execution_count": 3,
   "id": "182301eb-90a0-4d9c-8c5d-65a77b904b09",
   "metadata": {},
   "outputs": [],
   "source": [
    "json_paths = sorted(list_files('jsons'))"
   ]
  },
  {
   "cell_type": "code",
   "execution_count": 4,
   "id": "003c8d8e-378f-4508-8f3e-4ec3e1cac480",
   "metadata": {},
   "outputs": [],
   "source": [
    "df = {'app_id' : [],\n",
    "      'json_path' : []}"
   ]
  },
  {
   "cell_type": "code",
   "execution_count": 12,
   "id": "504af8e3-5fa5-4a7b-a6de-64bb1f8076b7",
   "metadata": {},
   "outputs": [],
   "source": [
    "for json_path in json_paths:\n",
    "    \n",
    "    appid = json_path.split(os.path.sep)[-2]\n",
    "    path   = f'{ROOT_PATH}/steam/{json_path}'\n",
    "    \n",
    "    df['app_id'].append(appid)\n",
    "    df['json_path'].append(path)"
   ]
  },
  {
   "cell_type": "code",
   "execution_count": 15,
   "id": "6c081a0b-8434-449a-9fda-559ec208d7b6",
   "metadata": {},
   "outputs": [
    {
     "data": {
      "text/plain": [
       "(136445, 136445)"
      ]
     },
     "execution_count": 15,
     "metadata": {},
     "output_type": "execute_result"
    }
   ],
   "source": [
    "len(df['app_id']), len(df['json_path'])"
   ]
  },
  {
   "cell_type": "code",
   "execution_count": 16,
   "id": "4facdef1-ca10-429b-8f97-ff21dc43c709",
   "metadata": {},
   "outputs": [
    {
     "data": {
      "text/html": [
       "<div>\n",
       "<style scoped>\n",
       "    .dataframe tbody tr th:only-of-type {\n",
       "        vertical-align: middle;\n",
       "    }\n",
       "\n",
       "    .dataframe tbody tr th {\n",
       "        vertical-align: top;\n",
       "    }\n",
       "\n",
       "    .dataframe thead th {\n",
       "        text-align: right;\n",
       "    }\n",
       "</style>\n",
       "<table border=\"1\" class=\"dataframe\">\n",
       "  <thead>\n",
       "    <tr style=\"text-align: right;\">\n",
       "      <th></th>\n",
       "      <th>app_id</th>\n",
       "      <th>json_path</th>\n",
       "    </tr>\n",
       "  </thead>\n",
       "  <tbody>\n",
       "    <tr>\n",
       "      <th>0</th>\n",
       "      <td>10</td>\n",
       "      <td>/home/jovyan/project/DoveNest/steam/jsons/10/1...</td>\n",
       "    </tr>\n",
       "    <tr>\n",
       "      <th>1</th>\n",
       "      <td>100</td>\n",
       "      <td>/home/jovyan/project/DoveNest/steam/jsons/100/...</td>\n",
       "    </tr>\n",
       "    <tr>\n",
       "      <th>2</th>\n",
       "      <td>1000000</td>\n",
       "      <td>/home/jovyan/project/DoveNest/steam/jsons/1000...</td>\n",
       "    </tr>\n",
       "    <tr>\n",
       "      <th>3</th>\n",
       "      <td>1000010</td>\n",
       "      <td>/home/jovyan/project/DoveNest/steam/jsons/1000...</td>\n",
       "    </tr>\n",
       "    <tr>\n",
       "      <th>4</th>\n",
       "      <td>1000030</td>\n",
       "      <td>/home/jovyan/project/DoveNest/steam/jsons/1000...</td>\n",
       "    </tr>\n",
       "    <tr>\n",
       "      <th>...</th>\n",
       "      <td>...</td>\n",
       "      <td>...</td>\n",
       "    </tr>\n",
       "    <tr>\n",
       "      <th>136440</th>\n",
       "      <td>999950</td>\n",
       "      <td>/home/jovyan/project/DoveNest/steam/jsons/9999...</td>\n",
       "    </tr>\n",
       "    <tr>\n",
       "      <th>136441</th>\n",
       "      <td>999960</td>\n",
       "      <td>/home/jovyan/project/DoveNest/steam/jsons/9999...</td>\n",
       "    </tr>\n",
       "    <tr>\n",
       "      <th>136442</th>\n",
       "      <td>999970</td>\n",
       "      <td>/home/jovyan/project/DoveNest/steam/jsons/9999...</td>\n",
       "    </tr>\n",
       "    <tr>\n",
       "      <th>136443</th>\n",
       "      <td>999980</td>\n",
       "      <td>/home/jovyan/project/DoveNest/steam/jsons/9999...</td>\n",
       "    </tr>\n",
       "    <tr>\n",
       "      <th>136444</th>\n",
       "      <td>999990</td>\n",
       "      <td>/home/jovyan/project/DoveNest/steam/jsons/9999...</td>\n",
       "    </tr>\n",
       "  </tbody>\n",
       "</table>\n",
       "<p>136445 rows × 2 columns</p>\n",
       "</div>"
      ],
      "text/plain": [
       "         app_id                                          json_path\n",
       "0            10  /home/jovyan/project/DoveNest/steam/jsons/10/1...\n",
       "1           100  /home/jovyan/project/DoveNest/steam/jsons/100/...\n",
       "2       1000000  /home/jovyan/project/DoveNest/steam/jsons/1000...\n",
       "3       1000010  /home/jovyan/project/DoveNest/steam/jsons/1000...\n",
       "4       1000030  /home/jovyan/project/DoveNest/steam/jsons/1000...\n",
       "...         ...                                                ...\n",
       "136440   999950  /home/jovyan/project/DoveNest/steam/jsons/9999...\n",
       "136441   999960  /home/jovyan/project/DoveNest/steam/jsons/9999...\n",
       "136442   999970  /home/jovyan/project/DoveNest/steam/jsons/9999...\n",
       "136443   999980  /home/jovyan/project/DoveNest/steam/jsons/9999...\n",
       "136444   999990  /home/jovyan/project/DoveNest/steam/jsons/9999...\n",
       "\n",
       "[136445 rows x 2 columns]"
      ]
     },
     "execution_count": 16,
     "metadata": {},
     "output_type": "execute_result"
    }
   ],
   "source": [
    "columns = ['app_id', 'json_path']\n",
    "df      = pd.DataFrame(df, columns = columns)\n",
    "df"
   ]
  },
  {
   "cell_type": "code",
   "execution_count": 17,
   "id": "f629c6e3-792b-41d1-ab0d-76c19efa231a",
   "metadata": {},
   "outputs": [
    {
     "ename": "ModuleNotFoundError",
     "evalue": "No module named 'sqlalchemy'",
     "output_type": "error",
     "traceback": [
      "\u001b[0;31m---------------------------------------------------------------------------\u001b[0m",
      "\u001b[0;31mModuleNotFoundError\u001b[0m                       Traceback (most recent call last)",
      "Cell \u001b[0;32mIn [17], line 1\u001b[0m\n\u001b[0;32m----> 1\u001b[0m \u001b[38;5;28;01mfrom\u001b[39;00m \u001b[38;5;21;01msqlalchemy\u001b[39;00m \u001b[38;5;28;01mimport\u001b[39;00m create_engine\n",
      "\u001b[0;31mModuleNotFoundError\u001b[0m: No module named 'sqlalchemy'"
     ]
    }
   ],
   "source": [
    "from sqlalchemy import create_engine"
   ]
  },
  {
   "cell_type": "code",
   "execution_count": null,
   "id": "eb65aad5-90af-40a9-9b18-1e74ada02152",
   "metadata": {},
   "outputs": [],
   "source": []
  }
 ],
 "metadata": {
  "kernelspec": {
   "display_name": "dove",
   "language": "python",
   "name": "dove"
  },
  "language_info": {
   "codemirror_mode": {
    "name": "ipython",
    "version": 3
   },
   "file_extension": ".py",
   "mimetype": "text/x-python",
   "name": "python",
   "nbconvert_exporter": "python",
   "pygments_lexer": "ipython3",
   "version": "3.8.13"
  }
 },
 "nbformat": 4,
 "nbformat_minor": 5
}
