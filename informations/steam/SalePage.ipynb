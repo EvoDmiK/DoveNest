{
 "cells": [
  {
   "cell_type": "code",
   "execution_count": 1,
   "id": "5d840e27-87d1-4560-ab2d-1c88c42749a2",
   "metadata": {},
   "outputs": [],
   "source": [
    "from bs4 import BeautifulSoup as bs\n",
    "from datetime import datetime\n",
    "from pandasql import sqldf\n",
    "import requests as req\n",
    "import pandas as pd\n",
    "import sqlite3\n",
    "import time\n",
    "import os\n",
    "import re"
   ]
  },
  {
   "cell_type": "code",
   "execution_count": 2,
   "id": "355d9a20-5576-4e04-8569-043d7a9b991a",
   "metadata": {},
   "outputs": [
    {
     "data": {
      "text/plain": [
       "2.2505650520324707"
      ]
     },
     "execution_count": 2,
     "metadata": {},
     "output_type": "execute_result"
    }
   ],
   "source": [
    "whole_page = \"\"\n",
    "\n",
    "start_time = time.time()\n",
    "\n",
    "for idx in range(5):\n",
    "    url = f'https://store.steampowered.com/search/?specials=1&filter=topsellers&page={idx}'\n",
    "    res = req.get(url)\n",
    "    whole_page += res.text\n",
    "\n",
    "time.time() - start_time"
   ]
  },
  {
   "cell_type": "code",
   "execution_count": 3,
   "id": "52587173-9340-41a2-aeee-625ad03b2bbb",
   "metadata": {},
   "outputs": [
    {
     "data": {
      "text/plain": [
       "10.029686450958252"
      ]
     },
     "execution_count": 3,
     "metadata": {},
     "output_type": "execute_result"
    }
   ],
   "source": [
    "start_time = time.time()\n",
    "soup       = bs(whole_page, 'html.parser')\n",
    "sales      = soup.select('div#search_resultsRows > a') \n",
    "time.time() - start_time"
   ]
  },
  {
   "cell_type": "code",
   "execution_count": 4,
   "id": "7fcee425-5657-4599-8e79-43189f2559f4",
   "metadata": {},
   "outputs": [
    {
     "data": {
      "text/plain": [
       "<sqlite3.Cursor at 0x7f625bb84f80>"
      ]
     },
     "execution_count": 4,
     "metadata": {},
     "output_type": "execute_result"
    }
   ],
   "source": [
    "dbpath = 'steamsale.db'\n",
    "conn   = sqlite3.connect(dbpath)\n",
    "cursor = conn.cursor()\n",
    "\n",
    "query = \"DROP TABLE steamsale;\"\n",
    "cursor.execute(query)"
   ]
  },
  {
   "cell_type": "code",
   "execution_count": 11,
   "id": "0c8eab89-6bac-473f-8e05-f355a2f83d6a",
   "metadata": {},
   "outputs": [
    {
     "data": {
      "text/plain": [
       "<sqlite3.Cursor at 0x7f625bb84f80>"
      ]
     },
     "execution_count": 11,
     "metadata": {},
     "output_type": "execute_result"
    }
   ],
   "source": [
    "query = \"\"\"\n",
    "CREATE TABLE IF NOT EXISTS steamsale(\n",
    "id INTEGER PRIMARY KEY AUTOINCREMENT,\n",
    "appid INTEGER NOT NULL,\n",
    "percent INTEGER NOT NULL,\n",
    "original INTEGER NOT NULL,\n",
    "discounted INTEGER NOT NULL,\n",
    "date DATE NOT NULL);\"\"\"\n",
    "\n",
    "cursor.execute(query)"
   ]
  },
  {
   "cell_type": "code",
   "execution_count": 6,
   "id": "e1e66d0a-f0e5-4bf7-aae0-5464a0a01c62",
   "metadata": {},
   "outputs": [
    {
     "name": "stdout",
     "output_type": "stream",
     "text": [
      "list index out of range\n",
      "list index out of range\n",
      "list index out of range\n",
      "list index out of range\n",
      "list index out of range\n",
      "list index out of range\n",
      "list index out of range\n",
      "list index out of range\n",
      "list index out of range\n",
      "list index out of range\n",
      "list index out of range\n",
      "list index out of range\n"
     ]
    }
   ],
   "source": [
    "def preprop(string, dtype = 'discount'): \n",
    "    \n",
    "    if dtype == 'discount': string = string.replace(' ', '').split('₩')[-1]\n",
    "    string = string.replace(',', '').replace('₩', '')\n",
    "    \n",
    "    return int(string)\n",
    "    \n",
    "\n",
    "sale_list = []\n",
    "for idx, sale in enumerate(sales):\n",
    "    try:\n",
    "        appid      = sale['data-ds-appid']\n",
    "\n",
    "        percent    = sale.select('.search_discount > span')[0].text\n",
    "        percent    = int(percent.replace('-', '').replace('%', ''))\n",
    "\n",
    "        original   = preprop(sale.select('strike')[0].text)\n",
    "        discounted = preprop(sale.select(\".discounted\")[0].text)\n",
    "\n",
    "        sale_list.append([appid, title, percent, original, discounted, f'{Y}:{M}:{D}'])\n",
    "\n",
    "        today = f'{Y}-{str(M).zfill(2)}-{str(D).zfill(2)}'\n",
    "        query = f\"\"\"\n",
    "                INSERT INTO steamsale\n",
    "                (appid, percent, original, discounted, date)\n",
    "                VALUES({appid}, {percent}, {original}, {discounted}, {today});\n",
    "                \"\"\"\n",
    "\n",
    "        cursor.execute(query)\n",
    "              \n",
    "    except Exception as e: print(e)"
   ]
  },
  {
   "cell_type": "code",
   "execution_count": null,
   "id": "4ce739b5-7d63-44ac-b027-de101ddaa6d7",
   "metadata": {},
   "outputs": [],
   "source": [
    "sorted(sale_list, key = lambda x: x[2], reverse = True)"
   ]
  },
  {
   "cell_type": "code",
   "execution_count": 12,
   "id": "f8eca882-1d9c-4a96-b3a8-46f63d8fc746",
   "metadata": {},
   "outputs": [
    {
     "name": "stdout",
     "output_type": "stream",
     "text": [
      "[(1, 289070, 90, 65000, 6500, 2012), (2, 648800, 33, 21000, 14070, 2012), (3, 381210, 65, 21000, 7350, 2012), (4, 227300, 75, 24800, 6200, 2012), (5, 368260, 33, 67800, 45430, 2012), (6, 397540, 85, 64900, 9730, 2012), (7, 477160, 70, 20500, 6150, 2012), (8, 1016920, 75, 19500, 4870, 2012), (9, 1286680, 50, 65000, 32500, 2012), (10, 270880, 75, 24800, 6200, 2012), (11, 495420, 50, 31000, 15500, 2012), (12, 1549180, 75, 11000, 2750, 2012), (13, 2251120, 15, 27000, 22950, 2012), (14, 1035760, 10, 17500, 15750, 2012), (15, 729000, 60, 20500, 8200, 2012), (16, 933820, 75, 33000, 8250, 2012), (17, 8870, 75, 32000, 8000, 2012), (18, 363890, 85, 86000, 12900, 2012), (19, 1599660, 33, 58800, 39400, 2012), (20, 645402, 84, 32500, 5200, 2012), (21, 947510, 88, 45000, 5400, 2012), (22, 960910, 50, 19900, 9950, 2012), (23, 559650, 75, 22000, 5500, 2012), (24, 1227890, 30, 20500, 14350, 2012), (25, 740080, 80, 14000, 2800, 2012), (26, 304212, 70, 22500, 6750, 2012), (27, 1209460, 30, 22500, 15750, 2012), (28, 1549970, 50, 35000, 17500, 2012), (29, 1343670, 30, 15900, 11130, 2012), (30, 49520, 75, 21000, 5250, 2012), (31, 925580, 70, 22500, 6750, 2012), (32, 465200, 75, 20500, 5120, 2012), (33, 513710, 50, 36000, 18000, 2012), (34, 558244, 70, 22500, 6750, 2012), (35, 656350, 35, 20500, 13320, 2012), (36, 2102730, 20, 12500, 10000, 2012), (37, 418240, 90, 43000, 4300, 2012), (38, 531130, 70, 22500, 6750, 2012), (39, 609320, 80, 15500, 3100, 2012), (40, 1843760, 25, 15500, 11620, 2012), (41, 227310, 70, 12400, 3720, 2012), (42, 1634040, 50, 12500, 6250, 2012), (43, 1056760, 70, 22500, 6750, 2012), (44, 1266840, 40, 27000, 16200, 2012), (45, 289070, 90, 65000, 6500, 2012), (46, 648800, 33, 21000, 14070, 2012), (47, 381210, 65, 21000, 7350, 2012), (48, 227300, 75, 24800, 6200, 2012), (49, 368260, 33, 67800, 45430, 2012), (50, 397540, 85, 64900, 9730, 2012), (51, 477160, 70, 20500, 6150, 2012), (52, 1016920, 75, 19500, 4870, 2012), (53, 1286680, 50, 65000, 32500, 2012), (54, 270880, 75, 24800, 6200, 2012), (55, 495420, 50, 31000, 15500, 2012), (56, 1549180, 75, 11000, 2750, 2012), (57, 2251120, 15, 27000, 22950, 2012), (58, 1035760, 10, 17500, 15750, 2012), (59, 729000, 60, 20500, 8200, 2012), (60, 933820, 75, 33000, 8250, 2012), (61, 8870, 75, 32000, 8000, 2012), (62, 363890, 85, 86000, 12900, 2012), (63, 1599660, 33, 58800, 39400, 2012), (64, 645402, 84, 32500, 5200, 2012), (65, 947510, 88, 45000, 5400, 2012), (66, 960910, 50, 19900, 9950, 2012), (67, 559650, 75, 22000, 5500, 2012), (68, 1227890, 30, 20500, 14350, 2012), (69, 740080, 80, 14000, 2800, 2012), (70, 304212, 70, 22500, 6750, 2012), (71, 1209460, 30, 22500, 15750, 2012), (72, 1549970, 50, 35000, 17500, 2012), (73, 1343670, 30, 15900, 11130, 2012), (74, 49520, 75, 21000, 5250, 2012), (75, 925580, 70, 22500, 6750, 2012), (76, 465200, 75, 20500, 5120, 2012), (77, 513710, 50, 36000, 18000, 2012), (78, 558244, 70, 22500, 6750, 2012), (79, 656350, 35, 20500, 13320, 2012), (80, 2102730, 20, 12500, 10000, 2012), (81, 418240, 90, 43000, 4300, 2012), (82, 531130, 70, 22500, 6750, 2012), (83, 609320, 80, 15500, 3100, 2012), (84, 1843760, 25, 15500, 11620, 2012), (85, 227310, 70, 12400, 3720, 2012), (86, 1634040, 50, 12500, 6250, 2012), (87, 1056760, 70, 22500, 6750, 2012), (88, 1266840, 40, 27000, 16200, 2012), (89, 1079260, 20, 12500, 10000, 2012), (90, 1622941, 40, 31000, 18600, 2012), (91, 2185780, 24, 5600, 4260, 2012), (92, 1123770, 60, 19800, 7920, 2012), (93, 1096900, 45, 82000, 45100, 2012), (94, 674750, 90, 4400, 440, 2012), (95, 1622940, 40, 31000, 18600, 2012), (96, 1390150, 25, 10500, 7870, 2012), (97, 976890, 60, 25000, 10000, 2012), (98, 1811080, 10, 14800, 13320, 2012), (99, 359840, 90, 17000, 1700, 2012), (100, 509980, 20, 21500, 17200, 2012), (101, 1927720, 20, 8500, 6800, 2012), (102, 235580, 10, 32000, 28800, 2012), (103, 1632320, 35, 10500, 6820, 2012), (104, 16870, 10, 32000, 28800, 2012), (105, 1786790, 20, 20500, 16400, 2012), (106, 1414180, 50, 26000, 13000, 2012), (107, 304214, 70, 6000, 1800, 2012), (108, 1899750, 40, 7500, 4500, 2012), (109, 799200, 50, 7500, 3750, 2012), (110, 1399240, 15, 31000, 26350, 2012), (111, 1337010, 60, 17500, 7000, 2012), (112, 1555110, 51, 8500, 4160, 2012), (113, 1190130, 60, 16500, 6600, 2012), (114, 388470, 70, 4800, 1440, 2012), (115, 1155970, 25, 11500, 8620, 2012), (116, 1927740, 20, 8500, 6800, 2012), (117, 1883650, 25, 8500, 6370, 2012), (118, 1415692, 30, 14800, 10360, 2012), (119, 1557310, 50, 7500, 3750, 2012), (120, 1985790, 50, 7500, 3750, 2012), (121, 2215260, 67, 16500, 5440, 2012), (122, 1489630, 20, 31000, 24800, 2012), (123, 967050, 30, 5500, 3850, 2012), (124, 1099640, 30, 20500, 14350, 2012), (125, 1734080, 50, 5500, 2750, 2012), (126, 1858750, 15, 27000, 22950, 2012), (127, 858210, 40, 15500, 9300, 2012), (128, 388475, 70, 3700, 1110, 2012), (129, 2144530, 20, 35000, 28000, 2012), (130, 1274230, 30, 14500, 10150, 2012), (131, 1763310, 50, 5500, 2750, 2012), (132, 8980, 67, 31700, 10460, 2012), (133, 1328890, 25, 20500, 15370, 2012), (134, 1167680, 50, 17500, 8750, 2012), (135, 1324970, 50, 7500, 3750, 2012), (136, 304530, 90, 31000, 3100, 2012), (137, 1967640, 10, 4800, 4320, 2012), (138, 837510, 80, 87500, 17500, 2012)]\n"
     ]
    }
   ],
   "source": [
    "query = \"SELECT * FROM steamsale\"\n",
    "cursor.execute(query)\n",
    "\n",
    "print(cursor.fetchall())"
   ]
  },
  {
   "cell_type": "code",
   "execution_count": 8,
   "id": "2f842956-e5fa-447d-a061-75b4d4311ede",
   "metadata": {},
   "outputs": [
    {
     "name": "stdout",
     "output_type": "stream",
     "text": [
      "Completed\n"
     ]
    }
   ],
   "source": [
    "with conn:\n",
    "    with open('backup.sql', 'w') as f:\n",
    "        for line in conn.iterdump():\n",
    "            f.write('%s\\n' % line)\n",
    "        print('Completed')"
   ]
  },
  {
   "cell_type": "code",
   "execution_count": 10,
   "id": "56cac93d-fac6-40ab-a0fd-f0b5e01bd100",
   "metadata": {},
   "outputs": [
    {
     "data": {
      "text/plain": [
       "(1, 289070, 90, 65000, 6500, 2012)"
      ]
     },
     "execution_count": 10,
     "metadata": {},
     "output_type": "execute_result"
    }
   ],
   "source": [
    "query = f\"\"\"\n",
    "            SELECT *\n",
    "            FROM steamsale\n",
    "            WHERE date={Y}-{str(M).zfill(2)}-{str(D).zfill(2)}\n",
    "        \"\"\"\n",
    "\n",
    "cursor.execute(query)\n",
    "cursor.fetchone()"
   ]
  },
  {
   "cell_type": "code",
   "execution_count": null,
   "id": "24ad73ca-6198-47fc-9d9c-ecc74b225162",
   "metadata": {},
   "outputs": [],
   "source": []
  },
  {
   "cell_type": "code",
   "execution_count": null,
   "id": "7d8a6aba-8bb4-46dd-9bd6-112077348dda",
   "metadata": {},
   "outputs": [],
   "source": []
  }
 ],
 "metadata": {
  "kernelspec": {
   "display_name": "dove",
   "language": "python",
   "name": "dove"
  },
  "language_info": {
   "codemirror_mode": {
    "name": "ipython",
    "version": 3
   },
   "file_extension": ".py",
   "mimetype": "text/x-python",
   "name": "python",
   "nbconvert_exporter": "python",
   "pygments_lexer": "ipython3",
   "version": "3.8.13"
  }
 },
 "nbformat": 4,
 "nbformat_minor": 5
}
