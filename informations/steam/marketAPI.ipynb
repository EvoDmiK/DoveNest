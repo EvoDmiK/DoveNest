{
 "cells": [
  {
   "cell_type": "code",
   "execution_count": 1,
   "id": "6736baf1-25e7-4d7d-8e89-027019e67f67",
   "metadata": {},
   "outputs": [],
   "source": [
    "from imutils.paths import list_files\n",
    "from datetime import datetime\n",
    "import traceback\n",
    "import requests\n",
    "import os, re\n",
    "import time\n",
    "import json"
   ]
  },
  {
   "cell_type": "code",
   "execution_count": 2,
   "id": "65095990-5155-4b18-95d1-33c3d99c71fa",
   "metadata": {},
   "outputs": [],
   "source": [
    "IS_JUPYTER = True\n",
    "ROOT_PATH  = '/home/jovyan/project' if IS_JUPYTER else '/config/workspace/project'\n",
    "DATA_PATH  = f'{ROOT_PATH}/DoveNest/informations/jsons'\n",
    "\n",
    "JSON_PATH        = f'{ROOT_PATH}/utils/keys'\n",
    "JSON_BACKUP_PATH = f'{ROOT_PATH}/BACKUPS/keys'"
   ]
  },
  {
   "cell_type": "code",
   "execution_count": 3,
   "id": "2f810a8d-b97f-4e30-9756-7663432d69e3",
   "metadata": {},
   "outputs": [],
   "source": [
    "unix2datetime = lambda unixtime: str(datetime.fromtimestamp(unixtime))\n",
    "load_json = lambda json_path: json.loads(open(json_path, 'r').read())\n",
    "save_json = lambda data, json_path: json.dump(data, open(json_path, 'w'))\n",
    "\n",
    "def repair_keys(json_path):\n",
    "    try: keys = load_json(f'{json_path}/keys.json')\n",
    "        \n",
    "    except Exception as e:\n",
    "        print(f'[ERR.K-002] json 파일이 깨져 열 수 없습니다. {e}')\n",
    "        text = open(f'{JSON_BACKUP_PATH}/keys.txt', 'r').read().split('\\n')\n",
    "        keys = {platform : key \n",
    "                for platform, key in zip(['youtube', 'steam'], text)}\n",
    "        \n",
    "        save_paths = [JSON_PATH, JSON_BACKUP_PATH]\n",
    "        \n",
    "        print(save_paths)\n",
    "        for save_path in save_paths:\n",
    "            \n",
    "            print(save_path)\n",
    "            os.makedirs(save_path, exist_ok = True)\n",
    "            save_json(keys, f'{save_path}/keys.json')\n",
    "        \n",
    "    finally: return keys\n",
    "\n",
    "def return_or_print(response):\n",
    "    \n",
    "    if response.status_code == 200: return response.json()\n",
    "    else: print(f'no response data with code : {response.status_code}')\n",
    "\n",
    "    \n",
    "get_api  = lambda url: return_or_print(requests.get(url))\n",
    "\n",
    "def get_info(appid):\n",
    "    \n",
    "    response = requests.get(f'https://store.steampowered.com/api/appdetails?appids={appid}&l=korean')\n",
    "    return return_or_print(response)"
   ]
  },
  {
   "cell_type": "code",
   "execution_count": 4,
   "id": "cb2b45c3-c308-4cae-ac9d-449706ddcbcf",
   "metadata": {},
   "outputs": [],
   "source": [
    "def get_json(appid):\n",
    "    \n",
    "    json_path = f'{DATA_PATH}/{appid}/{appid}.json'\n",
    "    if os.path.isfile(json_path):\n",
    "        json_data = json.loads(open(json_path, 'r').read())\n",
    "        \n",
    "        return json_data\n",
    "\n",
    "    else:\n",
    "        print(f'[ERR-J0001] <{appid}> json 파일이 존재하지 않습니다.')\n",
    "        return {}"
   ]
  },
  {
   "cell_type": "code",
   "execution_count": 5,
   "id": "3f9a0b2f-2e03-428f-b6d7-2eb91300bc7f",
   "metadata": {},
   "outputs": [],
   "source": [
    "if os.path.isfile(f'{JSON_PATH}/keys.json'):\n",
    "    key = repair_keys(JSON_PATH)['steam']\n",
    "        \n",
    "else:\n",
    "    print(f'[ERR.K-001] json 파일이 존재하지 않아 백업 데이터를 로딩합니다.')\n",
    "    key = repair_keys(JSON_BACKUP_PATH)['steam']"
   ]
  },
  {
   "cell_type": "code",
   "execution_count": 6,
   "id": "cefb6ab5-8b72-4deb-9981-ded49f97ee31",
   "metadata": {},
   "outputs": [
    {
     "data": {
      "text/plain": [
       "dict_keys(['0', '1', '2', '3', '4', 'specials', 'coming_soon', 'top_sellers', 'new_releases', 'genres', 'trailerslideshow', 'status'])"
      ]
     },
     "execution_count": 6,
     "metadata": {},
     "output_type": "execute_result"
    }
   ],
   "source": [
    "sales = get_api(\"http://store.steampowered.com/api/featuredcategories/?l=koreana\")\n",
    "sales.keys()"
   ]
  },
  {
   "cell_type": "code",
   "execution_count": 7,
   "id": "a148447a-3b9b-4df2-9baa-30dcb3a99c76",
   "metadata": {},
   "outputs": [
    {
     "name": "stdout",
     "output_type": "stream",
     "text": [
      "Project Zomboid 인디, RPG, 시뮬레이션, 앞서 해보기 \n",
      " https://cdn.akamai.steamstatic.com/steam/apps/108600/header.jpg?t=1667832656\n",
      "{'id': 108600, 'type': 0, 'name': 'Project Zomboid', 'discounted': False, 'discount_percent': 0, 'original_price': 2050000, 'final_price': 2050000, 'currency': 'KRW', 'large_capsule_image': 'https://cdn.akamai.steamstatic.com/steam/apps/108600/capsule_616x353.jpg?t=1667832656', 'small_capsule_image': 'https://cdn.akamai.steamstatic.com/steam/apps/108600/capsule_184x69.jpg?t=1667832656', 'windows_available': True, 'mac_available': True, 'linux_available': True, 'streamingvideo_available': False, 'header_image': 'https://cdn.akamai.steamstatic.com/steam/apps/108600/header.jpg?t=1667832656', 'headline': '구매 후 앞서 해보기 가능'}\n",
      "Football Manager 2023 시뮬레이션, 스포츠 \n",
      " https://cdn.akamai.steamstatic.com/steam/apps/1904540/header.jpg?t=1668082258\n",
      "{'id': 1904540, 'type': 0, 'name': 'Football Manager 2023', 'discounted': False, 'discount_percent': 0, 'original_price': 5900000, 'final_price': 5900000, 'currency': 'KRW', 'large_capsule_image': 'https://cdn.akamai.steamstatic.com/steam/apps/1904540/capsule_616x353.jpg?t=1668082258', 'small_capsule_image': 'https://cdn.akamai.steamstatic.com/steam/apps/1904540/capsule_184x69.jpg?t=1668082258', 'windows_available': True, 'mac_available': True, 'linux_available': False, 'streamingvideo_available': False, 'header_image': 'https://cdn.akamai.steamstatic.com/steam/apps/1904540/header.jpg?t=1668082258'}\n",
      "원피스 오디세이 액션, 어드벤처, 캐주얼, RPG \n",
      " https://cdn.akamai.steamstatic.com/steam/apps/814000/header_koreana.jpg?t=1672243996\n",
      "{'id': 814000, 'type': 0, 'name': '원피스 오디세이', 'discounted': False, 'discount_percent': 0, 'original_price': 6980000, 'final_price': 6980000, 'currency': 'KRW', 'large_capsule_image': 'https://cdn.akamai.steamstatic.com/steam/apps/814000/capsule_616x353_koreana.jpg?t=1672243996', 'small_capsule_image': 'https://cdn.akamai.steamstatic.com/steam/apps/814000/capsule_184x69_koreana.jpg?t=1672243996', 'windows_available': True, 'mac_available': False, 'linux_available': False, 'streamingvideo_available': False, 'header_image': 'https://cdn.akamai.steamstatic.com/steam/apps/814000/header_koreana.jpg?t=1672243996'}\n",
      "원피스 오디세이 액션, 어드벤처, 캐주얼, RPG \n",
      " https://cdn.akamai.steamstatic.com/steam/apps/814000/header_koreana.jpg?t=1672243996\n",
      "{'id': 814000, 'type': 0, 'name': '원피스 오디세이', 'discounted': False, 'discount_percent': 0, 'original_price': 6980000, 'final_price': 6980000, 'currency': 'KRW', 'large_capsule_image': 'https://cdn.akamai.steamstatic.com/steam/apps/814000/capsule_616x353_koreana.jpg?t=1672243996', 'small_capsule_image': 'https://cdn.akamai.steamstatic.com/steam/apps/814000/capsule_184x69_koreana.jpg?t=1672243996', 'windows_available': True, 'mac_available': False, 'linux_available': False, 'streamingvideo_available': False, 'header_image': 'https://cdn.akamai.steamstatic.com/steam/apps/814000/header_koreana.jpg?t=1672243996'}\n",
      "Longvinter 액션, 어드벤처, 대규모 멀티플레이어, RPG, 시뮬레이션, 앞서 해보기 \n",
      " https://cdn.akamai.steamstatic.com/steam/apps/1635450/header.jpg?t=1663306639\n",
      "{'id': 1635450, 'type': 0, 'name': 'Longvinter', 'discounted': False, 'discount_percent': 0, 'original_price': 1850000, 'final_price': 1850000, 'currency': 'KRW', 'large_capsule_image': 'https://cdn.akamai.steamstatic.com/steam/apps/1635450/capsule_616x353.jpg?t=1663306639', 'small_capsule_image': 'https://cdn.akamai.steamstatic.com/steam/apps/1635450/capsule_184x69.jpg?t=1663306639', 'windows_available': True, 'mac_available': False, 'linux_available': False, 'streamingvideo_available': False, 'header_image': 'https://cdn.akamai.steamstatic.com/steam/apps/1635450/header.jpg?t=1663306639'}\n",
      "Raft 어드벤처, 인디, 시뮬레이션 \n",
      " https://cdn.akamai.steamstatic.com/steam/apps/648800/header.jpg?t=1655744208\n",
      "{'id': 648800, 'type': 0, 'name': 'Raft', 'discounted': True, 'discount_percent': 33, 'original_price': 2100000, 'final_price': 1407000, 'currency': 'KRW', 'large_capsule_image': 'https://cdn.akamai.steamstatic.com/steam/apps/648800/capsule_616x353.jpg?t=1655744208', 'small_capsule_image': 'https://cdn.akamai.steamstatic.com/steam/apps/648800/capsule_184x69.jpg?t=1655744208', 'windows_available': True, 'mac_available': False, 'linux_available': False, 'streamingvideo_available': False, 'discount_expiration': 1673892000, 'header_image': 'https://cdn.akamai.steamstatic.com/steam/apps/648800/header.jpg?t=1655744208'}\n",
      "[ERR-J0001] <21432> json 파일이 존재하지 않습니다.\n",
      "호그와트 레거시 액션, 어드벤처, RPG \n",
      " https://cdn.akamai.steamstatic.com/steam/apps/990080/header.jpg?t=1668268562\n",
      "{'id': 990080, 'type': 0, 'name': '호그와트 레거시', 'discounted': False, 'discount_percent': 0, 'original_price': 6880000, 'final_price': 6880000, 'currency': 'KRW', 'large_capsule_image': 'https://cdn.akamai.steamstatic.com/steam/apps/990080/capsule_616x353.jpg?t=1668268562', 'small_capsule_image': 'https://cdn.akamai.steamstatic.com/steam/apps/990080/capsule_184x69.jpg?t=1668268562', 'windows_available': True, 'mac_available': False, 'linux_available': False, 'streamingvideo_available': False, 'header_image': 'https://cdn.akamai.steamstatic.com/steam/apps/990080/header.jpg?t=1668268562', 'controller_support': 'full'}\n",
      "호그와트 레거시 액션, 어드벤처, RPG \n",
      " https://cdn.akamai.steamstatic.com/steam/apps/990080/header.jpg?t=1668268562\n",
      "{'id': 990080, 'type': 0, 'name': '호그와트 레거시', 'discounted': False, 'discount_percent': 0, 'original_price': 6880000, 'final_price': 6880000, 'currency': 'KRW', 'large_capsule_image': 'https://cdn.akamai.steamstatic.com/steam/apps/990080/capsule_616x353.jpg?t=1668268562', 'small_capsule_image': 'https://cdn.akamai.steamstatic.com/steam/apps/990080/capsule_184x69.jpg?t=1668268562', 'windows_available': True, 'mac_available': False, 'linux_available': False, 'streamingvideo_available': False, 'header_image': 'https://cdn.akamai.steamstatic.com/steam/apps/990080/header.jpg?t=1668268562', 'controller_support': 'full'}\n",
      "ELDEN RING 액션, RPG \n",
      " https://cdn.akamai.steamstatic.com/steam/apps/1245620/header.jpg?t=1672223247\n",
      "{'id': 1245620, 'type': 0, 'name': 'ELDEN RING', 'discounted': False, 'discount_percent': 0, 'original_price': 6480000, 'final_price': 6480000, 'currency': 'KRW', 'large_capsule_image': 'https://cdn.akamai.steamstatic.com/steam/apps/1245620/capsule_616x353.jpg?t=1672223247', 'small_capsule_image': 'https://cdn.akamai.steamstatic.com/steam/apps/1245620/capsule_184x69.jpg?t=1672223247', 'windows_available': True, 'mac_available': False, 'linux_available': False, 'streamingvideo_available': False, 'header_image': 'https://cdn.akamai.steamstatic.com/steam/apps/1245620/header.jpg?t=1672223247', 'controller_support': 'full'}\n"
     ]
    }
   ],
   "source": [
    "for game in sales['top_sellers']['items']:\n",
    "    \n",
    "    appid = game['id']\n",
    "    try:\n",
    "        datas     = get_json(appid)\n",
    "        genre     = ', '.join([d['description'] for d in datas[\"genres\"]])\n",
    "        thumbnail = datas['header_image'] \n",
    "        \n",
    "        print(game['name'], genre,'\\n', thumbnail)\n",
    "        \n",
    "        print(game)\n",
    "    except: pass"
   ]
  },
  {
   "cell_type": "code",
   "execution_count": null,
   "id": "9b2ae079-5933-45d9-9051-f0e8b4c41c22",
   "metadata": {},
   "outputs": [],
   "source": []
  }
 ],
 "metadata": {
  "kernelspec": {
   "display_name": "dove",
   "language": "python",
   "name": "dove"
  },
  "language_info": {
   "codemirror_mode": {
    "name": "ipython",
    "version": 3
   },
   "file_extension": ".py",
   "mimetype": "text/x-python",
   "name": "python",
   "nbconvert_exporter": "python",
   "pygments_lexer": "ipython3",
   "version": "3.8.13"
  }
 },
 "nbformat": 4,
 "nbformat_minor": 5
}
