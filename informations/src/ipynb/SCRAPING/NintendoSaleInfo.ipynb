{
 "cells": [
  {
   "cell_type": "code",
   "execution_count": 1,
   "id": "df71292f-3318-4463-8458-3c88a294926b",
   "metadata": {},
   "outputs": [],
   "source": [
    "import json\n",
    "import os\n",
    "import re\n",
    "\n",
    "from bs4 import BeautifulSoup as bs\n",
    "import requests as req"
   ]
  },
  {
   "cell_type": "code",
   "execution_count": 2,
   "id": "58017d5c-6bfa-4332-849f-83ef2d54d793",
   "metadata": {},
   "outputs": [],
   "source": [
    "res  = req.get('https://store.nintendo.co.kr/games/sale').text\n",
    "soup = bs(res, 'html.parser')"
   ]
  },
  {
   "cell_type": "code",
   "execution_count": 3,
   "id": "bee34fc3-c9a9-4f4a-b641-351dac282189",
   "metadata": {},
   "outputs": [],
   "source": [
    "items = soup.select('div.category-product-item')"
   ]
  },
  {
   "cell_type": "code",
   "execution_count": 4,
   "id": "69fc3bd2-7ef8-4acf-9fe1-47f37729f406",
   "metadata": {},
   "outputs": [
    {
     "name": "stdout",
     "output_type": "stream",
     "text": [
      "name             : 틀린 그림 찾기 전집 -우뇌의 달인- for Nintendo Switch\n",
      "thumbnail        : https://store.nintendo.co.kr/media/catalog/product/cache/559013652f8c31ac036888adc145c37f/7/d/7d43b0d0516e50eca65b65bd6fe03a6c4313ae580ecc76375810b0011934786b.jpg\n",
      "store       page : https://store.nintendo.co.kr/70010000035689\n",
      "released    date : 발매 21.4.22\n",
      "original   price : ₩32,800\n",
      "discounted price : ₩8,800\n",
      "discount   ratio : -73%\n",
      "\n",
      "name             : 슈퍼로봇대전 X\n",
      "thumbnail        : https://store.nintendo.co.kr/media/catalog/product/cache/559013652f8c31ac036888adc145c37f/f/i/file_163_1.jpg\n",
      "store       page : https://store.nintendo.co.kr/70010000019769\n",
      "released    date : 발매 20.1.10\n",
      "original   price : ₩59,800\n",
      "discounted price : ₩14,800\n",
      "discount   ratio : -75%\n",
      "\n",
      "name             : NARUTO -나루토- 질풍전 나루티밋 스톰 4 ROAD TO BORUTO\n",
      "thumbnail        : https://store.nintendo.co.kr/media/catalog/product/cache/559013652f8c31ac036888adc145c37f/3/d/3d56b912082641856ce3f2f66b79a032349a7a2b7414613feb0a8ac4fe613d87_1.jpg\n",
      "store       page : https://store.nintendo.co.kr/70010000016050\n",
      "released    date : 발매 20.4.23\n",
      "original   price : ₩54,800\n",
      "discounted price : ₩13,800\n",
      "discount   ratio : -75%\n",
      "\n",
      "name             : 짱구는 못말려 나와 박사의 여름 방학~끝나지 않는 7일간의 여행~\n",
      "thumbnail        : https://store.nintendo.co.kr/media/catalog/product/cache/559013652f8c31ac036888adc145c37f/4/7/47886196be35f80bb6dab834e591f5bbdfd9ae5ed6fa445a8db7b8c2830016e3.jpg\n",
      "store       page : https://store.nintendo.co.kr/70010000049558\n",
      "released    date : 발매 22.5.4\n",
      "original   price : ₩59,800\n",
      "discounted price : ₩44,850\n",
      "discount   ratio : -25%\n",
      "\n",
      "name             : Cube Farmer\n",
      "thumbnail        : https://store.nintendo.co.kr/media/catalog/product/cache/559013652f8c31ac036888adc145c37f/9/1/9165d295b828188b4fa966a9ba468e3f63fba3ebb2df6552a049c9d7cd8a77e0_1680250330.jpeg\n",
      "store       page : https://store.nintendo.co.kr/70010000065028\n",
      "released    date : 발매 23.4.6\n",
      "original   price : ₩25,000\n",
      "discounted price : ₩1,000\n",
      "discount   ratio : -96%\n",
      "\n"
     ]
    }
   ],
   "source": [
    "clear_price = lambda x: int(re.sub('[^0-9]*', '', x))\n",
    "\n",
    "for idx, item in enumerate(items[:5]):\n",
    "    \n",
    "    try:\n",
    "        release_date = item.select('div.category-product-item-released')[0].text.strip()\n",
    "        store_page   = item.select('a.category-product-item-title-link')[0]['href']\n",
    "        thumbnail    = item.select('span > img')[0]['data-src']\n",
    "        original     = item.select('span > span.price')[1].text\n",
    "        discount     = item.select('span > span.price')[0].text\n",
    "        name         = item.select('a.category-product-item-title-link')[0].text\n",
    "\n",
    "        discount_ratio = 100 - round(clear_price(discount) * 100/ clear_price(original))\n",
    "        discount_ratio = f'-{discount_ratio}%'\n",
    "        \n",
    "        print(f'name             : {name.strip()}')\n",
    "        print(f'thumbnail        : {thumbnail}')\n",
    "        print(f'store       page : {store_page}')\n",
    "        print(f'released    date : {release_date}')\n",
    "        print(f'original   price : {original}')\n",
    "        print(f'discounted price : {discount}')\n",
    "        print(f'discount   ratio : {discount_ratio}')\n",
    "        print()\n",
    "        \n",
    "    except: pass"
   ]
  }
 ],
 "metadata": {
  "kernelspec": {
   "display_name": "dove",
   "language": "python",
   "name": "dove"
  },
  "language_info": {
   "codemirror_mode": {
    "name": "ipython",
    "version": 3
   },
   "file_extension": ".py",
   "mimetype": "text/x-python",
   "name": "python",
   "nbconvert_exporter": "python",
   "pygments_lexer": "ipython3",
   "version": "3.8.13"
  }
 },
 "nbformat": 4,
 "nbformat_minor": 5
}
