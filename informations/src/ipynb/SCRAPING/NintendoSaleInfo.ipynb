{
 "cells": [
  {
   "cell_type": "code",
   "execution_count": 1,
   "id": "df71292f-3318-4463-8458-3c88a294926b",
   "metadata": {},
   "outputs": [],
   "source": [
    "import json\n",
    "import os\n",
    "import re\n",
    "\n",
    "from bs4 import BeautifulSoup as bs\n",
    "import requests as req"
   ]
  },
  {
   "cell_type": "code",
   "execution_count": 2,
   "id": "58017d5c-6bfa-4332-849f-83ef2d54d793",
   "metadata": {},
   "outputs": [],
   "source": [
    "res  = req.get('https://store.nintendo.co.kr/games/sale').text\n",
    "soup = bs(res, 'html.parser')"
   ]
  },
  {
   "cell_type": "code",
   "execution_count": 3,
   "id": "bee34fc3-c9a9-4f4a-b641-351dac282189",
   "metadata": {},
   "outputs": [],
   "source": [
    "items = soup.select('div.category-product-item')"
   ]
  },
  {
   "cell_type": "code",
   "execution_count": 4,
   "id": "69fc3bd2-7ef8-4acf-9fe1-47f37729f406",
   "metadata": {},
   "outputs": [
    {
     "name": "stdout",
     "output_type": "stream",
     "text": [
      "name             : 페르소나5 더 로열 (PERSONA5 THE ROYAL)\n",
      "thumbnail        : https://store.nintendo.co.kr/media/catalog/product/cache/559013652f8c31ac036888adc145c37f/2/0/206a3b6840d9f5a709db879bdf003de07b184b8065473a0447eb2ed3b350fee7.jpg\n",
      "store       page : https://store.nintendo.co.kr/70010000043097\n",
      "released    date : 발매 22.10.21\n",
      "original   price : ₩69,800\n",
      "discounted price : ₩48,860\n",
      "discount   ratio : -30%\n",
      "\n",
      "name             : 원피스 해적무쌍 4\n",
      "thumbnail        : https://store.nintendo.co.kr/media/catalog/product/cache/559013652f8c31ac036888adc145c37f/a/9/a9dd0c4e6007218b400a69e18b9f8124e84ff351f422e76381fd9295606d368a_6.jpg\n",
      "store       page : https://store.nintendo.co.kr/70010000018442\n",
      "released    date : 발매 20.3.26\n",
      "original   price : ₩64,800\n",
      "discounted price : ₩18,800\n",
      "discount   ratio : -71%\n",
      "\n",
      "name             : 귀멸의 칼날 히노카미 혈풍담\n",
      "thumbnail        : https://store.nintendo.co.kr/media/catalog/product/cache/559013652f8c31ac036888adc145c37f/f/3/f3a8932e77fa73b125ff63edb914f5fc0c44565a41afb21857de4b38f8dd72c8.jpg\n",
      "store       page : https://store.nintendo.co.kr/70010000048382\n",
      "released    date : 발매 22.6.9\n",
      "original   price : ₩59,800\n",
      "discounted price : ₩35,880\n",
      "discount   ratio : -40%\n",
      "\n",
      "name             : 페르소나4 더 골든 (Persona 4 The Golden)\n",
      "thumbnail        : https://store.nintendo.co.kr/media/catalog/product/cache/559013652f8c31ac036888adc145c37f/4/4/441524f7a599c58e14fb34a8e536e5343868e9929474a38233e43b911ce46329.jpg\n",
      "store       page : https://store.nintendo.co.kr/70010000060322\n",
      "released    date : 발매 23.1.19\n",
      "original   price : ₩19,800\n",
      "discounted price : ₩15,840\n",
      "discount   ratio : -20%\n",
      "\n",
      "name             : 틀린 그림 찾기 전집 -우뇌의 달인- for Nintendo Switch\n",
      "thumbnail        : https://store.nintendo.co.kr/media/catalog/product/cache/559013652f8c31ac036888adc145c37f/7/d/7d43b0d0516e50eca65b65bd6fe03a6c4313ae580ecc76375810b0011934786b.jpg\n",
      "store       page : https://store.nintendo.co.kr/70010000035689\n",
      "released    date : 발매 21.4.22\n",
      "original   price : ₩32,800\n",
      "discounted price : ₩8,800\n",
      "discount   ratio : -73%\n",
      "\n"
     ]
    }
   ],
   "source": [
    "clear_price = lambda x: int(re.sub('[^0-9]*', '', x))\n",
    "\n",
    "for idx, item in enumerate(items[:5]):\n",
    "    \n",
    "    try:\n",
    "        release_date = item.select('div.category-product-item-released')[0].text.strip()\n",
    "        store_page   = item.select('a.category-product-item-title-link')[0]['href']\n",
    "        thumbnail    = item.select('span > img')[0]['data-src']\n",
    "        original     = item.select('span > span.price')[1].text\n",
    "        discount     = item.select('span > span.price')[0].text\n",
    "        name         = item.select('a.category-product-item-title-link')[0].text\n",
    "\n",
    "        discount_ratio = 100 - round(clear_price(discount) * 100/ clear_price(original))\n",
    "        discount_ratio = f'-{discount_ratio}%'\n",
    "        \n",
    "        print(f'name             : {name.strip()}')\n",
    "        print(f'thumbnail        : {thumbnail}')\n",
    "        print(f'store       page : {store_page}')\n",
    "        print(f'released    date : {release_date}')\n",
    "        print(f'original   price : {original}')\n",
    "        print(f'discounted price : {discount}')\n",
    "        print(f'discount   ratio : {discount_ratio}')\n",
    "        print()\n",
    "        \n",
    "    except: pass"
   ]
  }
 ],
 "metadata": {
  "kernelspec": {
   "display_name": "dove",
   "language": "python",
   "name": "dove"
  },
  "language_info": {
   "codemirror_mode": {
    "name": "ipython",
    "version": 3
   },
   "file_extension": ".py",
   "mimetype": "text/x-python",
   "name": "python",
   "nbconvert_exporter": "python",
   "pygments_lexer": "ipython3",
   "version": "3.8.13"
  }
 },
 "nbformat": 4,
 "nbformat_minor": 5
}
