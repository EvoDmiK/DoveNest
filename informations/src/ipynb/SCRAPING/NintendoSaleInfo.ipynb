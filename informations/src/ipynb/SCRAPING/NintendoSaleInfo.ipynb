{
 "cells": [
  {
   "cell_type": "code",
   "execution_count": 1,
   "id": "df71292f-3318-4463-8458-3c88a294926b",
   "metadata": {},
   "outputs": [],
   "source": [
    "import json\n",
    "import os\n",
    "import re\n",
    "\n",
    "from bs4 import BeautifulSoup as bs\n",
    "import requests as req"
   ]
  },
  {
   "cell_type": "code",
   "execution_count": 2,
   "id": "58017d5c-6bfa-4332-849f-83ef2d54d793",
   "metadata": {},
   "outputs": [],
   "source": [
    "res  = req.get('https://store.nintendo.co.kr/games/sale').text\n",
    "soup = bs(res, 'html.parser')"
   ]
  },
  {
   "cell_type": "code",
   "execution_count": 3,
   "id": "bee34fc3-c9a9-4f4a-b641-351dac282189",
   "metadata": {},
   "outputs": [],
   "source": [
    "items = soup.select('div.category-product-item')"
   ]
  },
  {
   "cell_type": "code",
   "execution_count": 4,
   "id": "69fc3bd2-7ef8-4acf-9fe1-47f37729f406",
   "metadata": {},
   "outputs": [
    {
     "name": "stdout",
     "output_type": "stream",
     "text": [
      "name             : 틀린 그림 찾기 전집 -우뇌의 달인- for Nintendo Switch\n",
      "thumbnail        : https://store.nintendo.co.kr/media/catalog/product/cache/559013652f8c31ac036888adc145c37f/7/d/7d43b0d0516e50eca65b65bd6fe03a6c4313ae580ecc76375810b0011934786b.jpg\n",
      "store       page : https://store.nintendo.co.kr/70010000035689\n",
      "released    date : 발매 21.4.22\n",
      "original   price : ₩32,800\n",
      "discounted price : ₩8,800\n",
      "discount   ratio : -73%\n",
      "\n",
      "name             : 프린세스 메이커 -꿈꾸는 요정-\n",
      "thumbnail        : https://store.nintendo.co.kr/media/catalog/product/cache/559013652f8c31ac036888adc145c37f/a/7/a768961526d3985af840476c619ef9e2ff34b00b701cf984d933f45984e115d4.jpg\n",
      "store       page : https://store.nintendo.co.kr/70010000009369\n",
      "released    date : 발매 20.1.30\n",
      "original   price : ₩29,800\n",
      "discounted price : ₩11,920\n",
      "discount   ratio : -60%\n",
      "\n",
      "name             : 케이던스 오브 하이랄: 크립트 오브 더 네크로댄서 feat. 젤다의 전설\n",
      "thumbnail        : https://store.nintendo.co.kr/media/catalog/product/cache/559013652f8c31ac036888adc145c37f/1/9/1920x1080_cadence_eshop_banner_v3.jpg\n",
      "store       page : https://store.nintendo.co.kr/70010000021176\n",
      "released    date : 발매 19.6.14\n",
      "original   price : ₩29,800\n",
      "discounted price : ₩14,900\n",
      "discount   ratio : -50%\n",
      "\n",
      "name             : 짱구는 못말려 나와 박사의 여름 방학~끝나지 않는 7일간의 여행~\n",
      "thumbnail        : https://store.nintendo.co.kr/media/catalog/product/cache/559013652f8c31ac036888adc145c37f/4/7/47886196be35f80bb6dab834e591f5bbdfd9ae5ed6fa445a8db7b8c2830016e3.jpg\n",
      "store       page : https://store.nintendo.co.kr/70010000049558\n",
      "released    date : 발매 22.5.4\n",
      "original   price : ₩59,800\n",
      "discounted price : ₩44,850\n",
      "discount   ratio : -25%\n",
      "\n",
      "name             : 니디 걸 오버도즈 : NEEDY GIRL OVERDOSE\n",
      "thumbnail        : https://store.nintendo.co.kr/media/catalog/product/cache/559013652f8c31ac036888adc145c37f/0/4/04e6d97a12c8d3cec699a1c2d1e4df9c4668047c0a2cb6c26b91b5b687906475.jpg\n",
      "store       page : https://store.nintendo.co.kr/70010000054209\n",
      "released    date : 발매 22.10.27\n",
      "original   price : ₩29,800\n",
      "discounted price : ₩17,880\n",
      "discount   ratio : -40%\n",
      "\n"
     ]
    }
   ],
   "source": [
    "clear_price = lambda x: int(re.sub('[^0-9]*', '', x))\n",
    "\n",
    "for idx, item in enumerate(items[:5]):\n",
    "    \n",
    "    try:\n",
    "        release_date = item.select('div.category-product-item-released')[0].text.strip()\n",
    "        store_page   = item.select('a.category-product-item-title-link')[0]['href']\n",
    "        thumbnail    = item.select('span > img')[0]['data-src']\n",
    "        original     = item.select('span > span.price')[1].text\n",
    "        discount     = item.select('span > span.price')[0].text\n",
    "        name         = item.select('a.category-product-item-title-link')[0].text\n",
    "\n",
    "        discount_ratio = 100 - round(clear_price(discount) * 100/ clear_price(original))\n",
    "        discount_ratio = f'-{discount_ratio}%'\n",
    "        \n",
    "        print(f'name             : {name.strip()}')\n",
    "        print(f'thumbnail        : {thumbnail}')\n",
    "        print(f'store       page : {store_page}')\n",
    "        print(f'released    date : {release_date}')\n",
    "        print(f'original   price : {original}')\n",
    "        print(f'discounted price : {discount}')\n",
    "        print(f'discount   ratio : {discount_ratio}')\n",
    "        print()\n",
    "        \n",
    "    except: pass"
   ]
  }
 ],
 "metadata": {
  "kernelspec": {
   "display_name": "dove",
   "language": "python",
   "name": "dove"
  },
  "language_info": {
   "codemirror_mode": {
    "name": "ipython",
    "version": 3
   },
   "file_extension": ".py",
   "mimetype": "text/x-python",
   "name": "python",
   "nbconvert_exporter": "python",
   "pygments_lexer": "ipython3",
   "version": "3.8.13"
  }
 },
 "nbformat": 4,
 "nbformat_minor": 5
}
