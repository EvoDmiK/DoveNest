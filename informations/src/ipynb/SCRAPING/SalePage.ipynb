{
 "cells": [
  {
   "cell_type": "code",
   "execution_count": 1,
   "id": "5d840e27-87d1-4560-ab2d-1c88c42749a2",
   "metadata": {},
   "outputs": [],
   "source": [
    "from bs4 import BeautifulSoup as bs\n",
    "from datetime import datetime\n",
    "from pandasql import sqldf\n",
    "import requests as req\n",
    "import pandas as pd\n",
    "import numpy as np\n",
    "import sqlite3\n",
    "import json\n",
    "import time\n",
    "import os\n",
    "import re"
   ]
  },
  {
   "cell_type": "code",
   "execution_count": 2,
   "id": "c71d9a0d-24a7-495e-8bdc-f4e8720c486f",
   "metadata": {},
   "outputs": [
    {
     "data": {
      "text/plain": [
       "'/home/jovyan/project/DoveNest/informations/src/ipynb/SCRAPING'"
      ]
     },
     "execution_count": 2,
     "metadata": {},
     "output_type": "execute_result"
    }
   ],
   "source": [
    "os.getcwd()"
   ]
  },
  {
   "cell_type": "code",
   "execution_count": 3,
   "id": "a1b4a7da-0be3-409a-93eb-2bf75f77a3cd",
   "metadata": {},
   "outputs": [],
   "source": [
    "NOW     = datetime.now()\n",
    "Y, M, D = NOW.year, NOW.month, NOW.day\n",
    "\n",
    "## 미리 API를 통해 받아둔 게임 정보 JSON파일 경로\n",
    "ROOT_PATH = '/home/jovyan/project/DoveNest'\n",
    "DATA_PATH = f'{ROOT_PATH}/informations/jsons'\n",
    "DB_PATH   = f'{ROOT_PATH}/informations/db'\n",
    "\n",
    "today =  f'{Y}{str(M).zfill(2)}{str(D).zfill(2)}'\n",
    "\n",
    "## json 파일을 불러와주는 함수\n",
    "load_json     = lambda json_path: json.loads(open(json_path, 'r').read())"
   ]
  },
  {
   "cell_type": "code",
   "execution_count": 4,
   "id": "9ef8f068-afd5-47d1-9b00-d0818af4ec43",
   "metadata": {},
   "outputs": [],
   "source": [
    "## steam API 관련 클래스 생성\n",
    "class SteamAPI:\n",
    "    \n",
    "    ## api URL들을 저장해주는 딕셔너리\n",
    "    URLS = {\n",
    "        'sales'       : 'http://store.steampowered.com/api/featuredcategories/?l=koreana',\n",
    "        'library'     : 'https://api.steampowered.com/IPlayerService/GetOwnedGames/v0001',\n",
    "        'steam_page'  : 'https://store.steampowered.com/app',\n",
    "        'get_summary' : 'https://partner.steam-api.com/ISteamUser/GetPlayerSummaries/v2/',\n",
    "    }\n",
    "\n",
    "\n",
    "    #! 게임 정보를 불러와 주는 api 함수 appid (상점에 있는 내용)을 기반으로 데이터를 불러옴.\n",
    "    ## 원래 api를 호출하여 사용하려고 했으나, 한 번 호출하는데 0.3 ~ 0.6초 가량 걸리고,\n",
    "    ## 하루 API 허가 호출량이 정해져있어 미리 api로 호출하여 저장해둔 json 데이터를 불러와 사용하는 것으로 변경\n",
    "    def get_info(appid):\n",
    "        \n",
    "        json_path = f'{DATA_PATH}/{appid}/{appid}.json'\n",
    "        \n",
    "        if os.path.isfile(json_path): \n",
    "            return load_json(json_path)\n",
    "        \n",
    "        else:\n",
    "            # print(f'[ERR.J-0001] <{appid}> json 파일이 존재하지 않습니다.')\n",
    "            return {}\n",
    "\n",
    "\n",
    "    ## api key와 steam user_id64를 입력받아서 해당 유저의 라이브러리 정보를 불러오는 함수\n",
    "    def get_user_library(key, user_id):\n",
    "        \n",
    "        library_url = f'{SteamAPI.URLS[\"library\"]}/?key={key}&steamid={user_id}&format=json'\n",
    "        games = get_api(library_url)['response']['games']\n",
    "        \n",
    "        user_datas = []\n",
    "        for game in games:\n",
    "            try:\n",
    "                last_play_time = unix2datetime(game['rtime_last_played'])\n",
    "                \n",
    "                info = [game['appid'], game['playtime_forever'], str(last_play_time)]\n",
    "                user_datas.append(info)\n",
    "                \n",
    "            except Exception as e:\n",
    "                print(traceback.format_exc(), e)\n",
    "                \n",
    "        return user_datas\n",
    "\n",
    "\n",
    "    ## 가장 많이 플레이한 게임 리스트 5개 반환해주는 함수\n",
    "    def most_played(library, platform = 'steam'):\n",
    "\n",
    "        library = sorted(library, key = lambda x: x[1], reverse = True)[:5]\n",
    "        information = []\n",
    "\n",
    "        for lib in library:\n",
    "            appid, played_time, last_played = lib\n",
    "            \n",
    "            try:\n",
    "                datas       = load_json(f'{DATA_PATH}/{appid}/{appid}.json')\n",
    "                played_time = f'{mt.ceil(played_time / 60)} 시간' if played_time / 60 > 1 else f'{int(played_time)} 분'\n",
    "\n",
    "                info  = {   \n",
    "                            'image' : datas['header_image'],\n",
    "                            'name'  : datas['name'],\n",
    "                            'genre' : ', '.join([data['description'] for data in datas['genres']][:3]),\n",
    "                            'played_time' : played_time,\n",
    "                            'last_played' : last_played\n",
    "                        }\n",
    "                \n",
    "                information.append(info)\n",
    "\n",
    "            except:\n",
    "                pass \n",
    "                # print(f'[WARN.D.A-0001] <{appid}> 현재 그 게임은 {platform}에서 제공 되지 않습니다.')\n",
    "\n",
    "        return information\n",
    "\n",
    "\n",
    "    ## 게임 관련 통계 만들어주는 함수\n",
    "    def get_stats(library, platform = 'steam'):\n",
    "        \n",
    "        genres, developers = [], []\n",
    "        num_games = 0\n",
    "\n",
    "        for lib in library:\n",
    "            appid, _, _ = lib\n",
    "            \n",
    "            try:\n",
    "                datas = load_json(f'{DATA_PATH}/{appid}/{appid}.json')\n",
    "                genres     += [data['description'] for data in datas['genres']]\n",
    "                developers += [data  for  data  in datas['developers']]\n",
    "\n",
    "                num_games += 1\n",
    "            except Exception as e:\n",
    "                pass\n",
    "                # print(f'[WARN.D.A-0001] <{appid}> 현재 그 게임은 {platform}에서 제공 되지 않습니다. {e}')\n",
    "\n",
    "        genres, developers = Counter(genres), Counter(developers)\n",
    "        return genres, developers, num_games\n",
    "\n",
    "\n",
    "    ## 게임에서 장르 가져와주는 함수\n",
    "    def get_genre(appid, platform, datas = None):\n",
    "        try:\n",
    "            if datas == None: datas     = SteamAPI.get_info(appid)\n",
    "            genre     = ', '.join([data['description'] for data in datas['genres']][:3])\n",
    "\n",
    "    \n",
    "        except Exception as e:\n",
    "            genre     = f'{platform}에서 제공하지 않음.'\n",
    "            # print(f'[WARN.D.A-0001] <{appid}> 현재 그 게임은 {platform}에서 제공 되지 않습니다. {e}')\n",
    "\n",
    "        return genre\n",
    "\n",
    "\n",
    "    ## 현재 스팀에서 가장 인기 있는 게임들\n",
    "    def get_trendy(sales, platform, top_sellers, top_names, nums):\n",
    "        \n",
    "        num1, num2 = nums\n",
    "        for game in sales['top_sellers']['items'][num1 : num2]:\n",
    "\n",
    "            appid = game['id']\n",
    "            name  = game['name']\n",
    "\n",
    "            genre = SteamAPI.get_genre(appid, platform)\n",
    "\n",
    "            info  = {   \n",
    "                        'image'      : game['header_image'],\n",
    "                        'name'       : name,\n",
    "                        'genre'      : genre,\n",
    "                        'discounted' : game['discounted'],\n",
    "                        'steam_page' : f'{SteamAPI.URLS[\"steam_page\"]}/{appid}'\n",
    "                    }\n",
    "\n",
    "            if name not in top_names:\n",
    "                top_sellers.append(info)\n",
    "                top_names.append(name)\n",
    "\n",
    "            else:\n",
    "                print(f'[WARN.D-0001] 중복된 데이터 입니다. {name}')\n",
    "\n",
    "        return top_sellers, top_names"
   ]
  },
  {
   "cell_type": "code",
   "execution_count": 5,
   "id": "86f6ca28-479e-4a84-87e7-f7b90495fc21",
   "metadata": {},
   "outputs": [],
   "source": [
    "def preprop(string, dtype = 'discount'): \n",
    "    \n",
    "    if dtype == 'discount': string = string.replace(' ', '').split('₩')[-1]\n",
    "    string = string.replace(',', '').replace('₩', '')\n",
    "    \n",
    "    return int(string)\n",
    "    "
   ]
  },
  {
   "cell_type": "code",
   "execution_count": 6,
   "id": "e8d49095-19c4-4b65-990a-7c3805f8d188",
   "metadata": {},
   "outputs": [],
   "source": [
    "## DB에 있는 데이터를 조회하는 함수 고급 쿼리 부분은 좀 더 구현해야 한다.\n",
    "def search_table(cursor, table_name, columns = '*', **kwargs):\n",
    "\n",
    "    ## keyword argument 값에서 데이터가 없는 경우 기본값 지정\n",
    "\n",
    "    ## 이부분도 너무 킹받게 짜졌다,, 안되는거 그냥 덕지덕지 수정했더니...\n",
    "    sorting_col = kwargs['sorting_col'] if 'sorting_col' in kwargs.keys() else columns\n",
    "    sorting_col = sorting_col if sorting_col != '*' else  \\\n",
    "                ('appid' if type(sorting_col) != list else sorting_col[0])\n",
    "\n",
    "    conditions  = kwargs['conditions']  if 'conditions' in kwargs.keys() else None\n",
    "    how_many    = kwargs['how_many']    if 'how_many' in kwargs.keys() else 1\n",
    "    reverse     = kwargs['desc']        if 'desc' in kwargs.keys() else False\n",
    "\n",
    "\n",
    "    col_indexes = {k : v for v, k in enumerate(['id', 'appid', 'percent', 'original', \n",
    "                                                'discounted', 'date'])}\n",
    "\n",
    "    ## 코드가 너무 킹받게 짜졌다..\n",
    "    col_indexes = col_indexes if columns == '*' else \\\n",
    "                ({k : v for v, k in enumerate(columns)} \\\n",
    "                if type(columns) == list else {columns : 0})\n",
    "\n",
    "    col_keys = [col for col in col_indexes.keys()]\n",
    "    try:\n",
    "        assert sorting_col in col_keys, f'''\\n[ERR.DB.Co-0001] 선택하신 조건에 맞는 컬럼이 존재하지 않아 선택 하신 옵션으로 정렬 할 수 없었습니다. \\\n",
    "                                            {col_keys}에서 골라 주십시오.'''\n",
    "\n",
    "        columns = ', '.join(columns) if type(columns) == list else columns\n",
    "\n",
    "\n",
    "        ## 데이터 조회할 때 그 어떤 조건도 없는 경우 그냥 테이블에서 컬럼만 받아 사용\n",
    "        if conditions == None:\n",
    "            query = f\"\"\"\n",
    "                        SELECT DISTINCT {columns} FROM {table_name}\n",
    "                    \"\"\"\n",
    "\n",
    "        else:\n",
    "            ## 고급 쿼리에 사용할 거\n",
    "            conditions = np.array(conditions)\n",
    "\n",
    "            ## WHERE 문으로 찾을 column, 조건, 데이터를 받아 조회해준다.\n",
    "            if len(conditions) == 3:\n",
    "                col, cond, data = conditions\n",
    "\n",
    "                symbols = ['>', '<', '!=', '=', '>=', '<=', 'IN']\n",
    "                assert cond in symbols, f'\\n[ERR.DB.Co-0002] 조건이 올바르지 않습니다. {symbols}에서 선택해 넣어주십시오.'\n",
    "\n",
    "\n",
    "                query = f\"\"\"\n",
    "                            SELECT DISTINCT {columns} FROM {table_name}\n",
    "                            WHERE {col} {cond} {data};\n",
    "                        \"\"\"\n",
    "\n",
    "            ## 데이터를 찾을 column과 찾을 data만 있는 경우\n",
    "            ## 기본값으로 동일한 데이터만 찾도록 지정해주었다.\n",
    "            elif len(conditions) == 2:\n",
    "                col, data = conditions\n",
    "                query = f\"\"\"\n",
    "                            SELECT DISTINCT {columns} FROM {table_name}\n",
    "                            WHERE {col}={data};\n",
    "                        \"\"\"\n",
    "\n",
    "        cursor.execute(query)\n",
    "\n",
    "        ## 데이터 정렬에 사용할 인덱스 값들.\n",
    "        col_index = col_indexes[sorting_col]\n",
    "\n",
    "    except Exception as e:\n",
    "        print(f'[ERR.DB.Q-0001] 쿼리에 문제가 발생하였습니다. 확인 후 수정바랍니다. {e}')\n",
    "        query     = f'SELECT * FROM {table_name}'\n",
    "        col_index = 0\n",
    "\n",
    "    ## how_many가 0을 포함한 음의 정수가 된다면 모든 데이터를 조회해준다.\n",
    "    return sorted(cursor.fetchmany(how_many), \n",
    "                  key = lambda x: x[col_index], reverse = reverse) "
   ]
  },
  {
   "cell_type": "code",
   "execution_count": 7,
   "id": "355d9a20-5576-4e04-8569-043d7a9b991a",
   "metadata": {},
   "outputs": [
    {
     "data": {
      "text/plain": [
       "0.3834528923034668"
      ]
     },
     "execution_count": 7,
     "metadata": {},
     "output_type": "execute_result"
    }
   ],
   "source": [
    "whole_page = \"\"\n",
    "\n",
    "start_time = time.time()\n",
    "\n",
    "for idx in range(1):\n",
    "    url = f'https://store.steampowered.com/search/?specials=1&filter=topsellers&page={idx}'\n",
    "    res = req.get(url)\n",
    "    whole_page += res.text\n",
    "\n",
    "time.time() - start_time"
   ]
  },
  {
   "cell_type": "code",
   "execution_count": 8,
   "id": "52587173-9340-41a2-aeee-625ad03b2bbb",
   "metadata": {},
   "outputs": [
    {
     "data": {
      "text/plain": [
       "1.6462464332580566"
      ]
     },
     "execution_count": 8,
     "metadata": {},
     "output_type": "execute_result"
    }
   ],
   "source": [
    "start_time = time.time()\n",
    "soup       = bs(whole_page, 'html.parser')\n",
    "sales      = soup.select('div#search_resultsRows > a') \n",
    "time.time() - start_time"
   ]
  },
  {
   "cell_type": "code",
   "execution_count": 9,
   "id": "abba3516-e099-4299-b60c-fdd6b6290775",
   "metadata": {},
   "outputs": [
    {
     "data": {
      "text/plain": [
       "'Tom Clancy’s The Division® 2'"
      ]
     },
     "execution_count": 9,
     "metadata": {},
     "output_type": "execute_result"
    }
   ],
   "source": [
    "sales[0].select('span.title')[0].text"
   ]
  },
  {
   "cell_type": "code",
   "execution_count": 13,
   "id": "7fcee425-5657-4599-8e79-43189f2559f4",
   "metadata": {},
   "outputs": [],
   "source": [
    "dbpath = '../../../db/test.db'\n",
    "conn   = sqlite3.connect(dbpath)\n",
    "cursor = conn.cursor()"
   ]
  },
  {
   "cell_type": "code",
   "execution_count": 14,
   "id": "0c8eab89-6bac-473f-8e05-f355a2f83d6a",
   "metadata": {},
   "outputs": [
    {
     "data": {
      "text/plain": [
       "<sqlite3.Cursor at 0x7f6afabb5b90>"
      ]
     },
     "execution_count": 14,
     "metadata": {},
     "output_type": "execute_result"
    }
   ],
   "source": [
    "query = \"\"\"\n",
    "CREATE TABLE IF NOT EXISTS steamsale(\n",
    "id INTEGER PRIMARY KEY AUTOINCREMENT,\n",
    "appid INTEGER NOT NULL,\n",
    "percent INTEGER NOT NULL,\n",
    "original INTEGER NOT NULL,\n",
    "discounted INTEGER NOT NULL,\n",
    "date TEXT NOT NULL);\"\"\"\n",
    "\n",
    "cursor.execute(query)"
   ]
  },
  {
   "cell_type": "code",
   "execution_count": 15,
   "id": "e1e66d0a-f0e5-4bf7-aae0-5464a0a01c62",
   "metadata": {},
   "outputs": [
    {
     "name": "stdout",
     "output_type": "stream",
     "text": [
      "Tom Clancy’s The Division® 2\n",
      "Sid Meier’s Civilization® VI\n",
      "Cyberpunk 2077\n",
      "Skul: The Hero Slayer\n",
      "Forza Horizon 5\n",
      "NBA 2K23\n",
      "Human: Fall Flat\n",
      "Project Hospital\n",
      "Borderlands 3\n",
      "Muse Dash\n",
      "Muse Dash - Just as planned\n",
      "Bright Memory: Infinite\n",
      "Forza Horizon 4\n",
      "A Dance of Fire and Ice\n",
      "The Callisto Protocol™\n",
      "Ruined King: A League of Legends Story™\n",
      "Unrailed!\n",
      "SANABI\n",
      "Tiny Tina's Wonderlands\n",
      "Green Hell\n",
      "DEATH STRANDING DIRECTOR'S CUT\n",
      "WW2 Rebuilder\n",
      "Command & Conquer™ Remastered Collection\n",
      "DYNASTY WARRIORS 9 Empires\n",
      "Airborne Kingdom\n",
      "Touhou Mystia's Izakaya\n",
      "list index out of range\n",
      "list index out of range\n",
      "DYNASTY WARRIORS 8: Xtreme Legends Complete Edition\n",
      "Warhammer 40,000: Chaos Gate - Daemonhunters\n",
      "Sid Meier’s Civilization® VI: Rise and Fall\n",
      "The Division 2 - Warlords of New York - Expansion\n",
      "Sid Meier's Civilization® VI: Gathering Storm\n",
      "Endzone - A World Apart\n",
      "Biped\n",
      "Ship of Fools\n",
      "list index out of range\n",
      "My Time at Sandrock\n",
      "list index out of range\n",
      "list index out of range\n",
      "Chrono Ark\n",
      "list index out of range\n",
      "Project Hospital - Hospital Services\n",
      "Choo-Choo Charles\n",
      "Sailing Era\n",
      "Dealer's Life 2\n",
      "Borderlands 2\n",
      "Thymesia\n",
      "Project Hospital - Traumatology Department\n",
      "Legion TD 2 - Multiplayer Tower Defense\n"
     ]
    }
   ],
   "source": [
    "sale_list = []\n",
    "for idx, sale in enumerate(sales):\n",
    "    try:\n",
    "        appid      = sale['data-ds-appid']\n",
    "\n",
    "        percent    = sale.select('.search_discount > span')[0].text\n",
    "        percent    = int(percent.replace('-', '').replace('%', ''))\n",
    "\n",
    "        original   = preprop(sale.select('strike')[0].text)\n",
    "        discounted = preprop(sale.select(\".discounted\")[0].text)\n",
    "        \n",
    "        name  = sale.select('span.title')[0].text\n",
    "        print(name)\n",
    "        \n",
    "        today = f'{Y}{str(M).zfill(2)}{str(D).zfill(2)}'\n",
    "        query = f\"\"\"\n",
    "                INSERT INTO steamsale\n",
    "                (appid, percent, original, discounted, date)\n",
    "                VALUES({appid}, {percent}, {original}, {discounted}, {today});\n",
    "                \"\"\"\n",
    "\n",
    "        cursor.execute(query)\n",
    "              \n",
    "    except Exception as e: print(e)"
   ]
  },
  {
   "cell_type": "code",
   "execution_count": null,
   "id": "2f842956-e5fa-447d-a061-75b4d4311ede",
   "metadata": {},
   "outputs": [],
   "source": [
    "with conn:\n",
    "    with open('../db/test_backup.sql', 'w') as f:\n",
    "        for line in conn.iterdump():\n",
    "            f.write('%s\\n' % line)\n",
    "        print('Completed')"
   ]
  },
  {
   "cell_type": "code",
   "execution_count": null,
   "id": "fac1286b-ece8-498f-a7b0-c0dd27ee521a",
   "metadata": {},
   "outputs": [],
   "source": [
    "db_datas = search_table(cursor, 'steamsale', columns = '*', \n",
    "            sorting_col = 'id', desc = False, how_many = 0, \n",
    "             conditions = ['date', today])"
   ]
  },
  {
   "cell_type": "code",
   "execution_count": null,
   "id": "7ba3ea4b-e67a-49a9-80cf-ea37ddad5a59",
   "metadata": {},
   "outputs": [],
   "source": [
    "for idx, db_data in enumerate(db_datas[:100], 1):\n",
    "    _, appid, percent, original, discounted, date = db_data\n",
    "\n",
    "    platform = 'steam'\n",
    "    json_data = SteamAPI.get_info(appid)\n",
    "    genre = SteamAPI.get_genre(appid, platform, datas = json_data)\n",
    "    \n",
    "    try: print(idx, appid, json_data['name'], genre)\n",
    "    except: pass"
   ]
  },
  {
   "cell_type": "code",
   "execution_count": null,
   "id": "6ff6b410-05e0-4b51-9d30-9ff7b378dc4d",
   "metadata": {},
   "outputs": [],
   "source": []
  },
  {
   "cell_type": "code",
   "execution_count": null,
   "id": "aa7da263-663d-4d0c-a6ac-c969334a7f05",
   "metadata": {},
   "outputs": [],
   "source": []
  },
  {
   "cell_type": "code",
   "execution_count": null,
   "id": "897db051-9ce1-4414-a836-d8cc6e30bb4c",
   "metadata": {},
   "outputs": [],
   "source": []
  }
 ],
 "metadata": {
  "kernelspec": {
   "display_name": "dove",
   "language": "python",
   "name": "dove"
  },
  "language_info": {
   "codemirror_mode": {
    "name": "ipython",
    "version": 3
   },
   "file_extension": ".py",
   "mimetype": "text/x-python",
   "name": "python",
   "nbconvert_exporter": "python",
   "pygments_lexer": "ipython3",
   "version": "3.8.13"
  }
 },
 "nbformat": 4,
 "nbformat_minor": 5
}
