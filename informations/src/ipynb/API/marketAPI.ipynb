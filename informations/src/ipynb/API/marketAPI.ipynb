{
 "cells": [
  {
   "cell_type": "code",
   "execution_count": 1,
   "id": "6736baf1-25e7-4d7d-8e89-027019e67f67",
   "metadata": {},
   "outputs": [],
   "source": [
    "from datetime import datetime\n",
    "import traceback\n",
    "import time\n",
    "import json\n",
    "import os\n",
    "import re\n",
    "\n",
    "from imutils.paths import list_files\n",
    "import requests"
   ]
  },
  {
   "cell_type": "code",
   "execution_count": 2,
   "id": "65095990-5155-4b18-95d1-33c3d99c71fa",
   "metadata": {},
   "outputs": [],
   "source": [
    "IS_JUPYTER = True\n",
    "ROOT_PATH  = '/home/jovyan/project' if IS_JUPYTER else '/config/workspace/project'\n",
    "DATA_PATH  = f'{ROOT_PATH}/DoveNest/informations/jsons'\n",
    "\n",
    "JSON_PATH        = f'{ROOT_PATH}/utils/configs'\n",
    "JSON_BACKUP_PATH = f'{ROOT_PATH}/BACKUPS/configs'"
   ]
  },
  {
   "cell_type": "code",
   "execution_count": 3,
   "id": "a7187364-1c07-44ab-b19d-25dbf738b027",
   "metadata": {},
   "outputs": [],
   "source": [
    "URLS = {\n",
    "              'features' : 'http://store.steampowered.com/api/featured/',\n",
    "            'categories' : 'http://store.steampowered.com/api/featuredcategories/?l=koreana'\n",
    "        }"
   ]
  },
  {
   "cell_type": "code",
   "execution_count": 4,
   "id": "2f810a8d-b97f-4e30-9756-7663432d69e3",
   "metadata": {},
   "outputs": [],
   "source": [
    "unix2datetime = lambda unixtime: str(datetime.fromtimestamp(unixtime))\n",
    "load_json = lambda json_path: json.loads(open(json_path, 'r').read())\n",
    "save_json = lambda data, json_path: json.dump(data, open(json_path, 'w'))\n",
    "\n",
    "def repair_keys(json_path):\n",
    "    try: keys = load_json(f'{json_path}/config.json')\n",
    "        \n",
    "    except Exception as e:\n",
    "        print(f'[ERR.K-002] json 파일이 깨져 열 수 없습니다. {e}')\n",
    "        text = open(f'{JSON_BACKUP_PATH}/config.txt', 'r').read().split('\\n')\n",
    "        keys = {platform : key \n",
    "                for platform, key in zip(['youtube', 'steam'], text)}\n",
    "        \n",
    "        save_paths = [JSON_PATH, JSON_BACKUP_PATH]\n",
    "        \n",
    "        print(save_paths)\n",
    "        for save_path in save_paths:\n",
    "            \n",
    "            print(save_path)\n",
    "            os.makedirs(save_path, exist_ok = True)\n",
    "            save_json(keys, f'{save_path}/config.json')\n",
    "        \n",
    "    finally: return keys\n",
    "\n",
    "def return_or_print(response):\n",
    "    \n",
    "    if response.status_code == 200: return response.json()\n",
    "    else: print(f'no response data with code : {response.status_code}')\n",
    "\n",
    "    \n",
    "get_api  = lambda url: return_or_print(requests.get(url))\n",
    "\n",
    "def get_info(appid):\n",
    "    \n",
    "    response = requests.get(f'https://store.steampowered.com/api/appdetails?appids={appid}&l=korean')\n",
    "    return return_or_print(response)"
   ]
  },
  {
   "cell_type": "code",
   "execution_count": 5,
   "id": "cb2b45c3-c308-4cae-ac9d-449706ddcbcf",
   "metadata": {},
   "outputs": [],
   "source": [
    "def get_json(appid):\n",
    "    \n",
    "    json_path = f'{DATA_PATH}/{appid}/{appid}.json'\n",
    "    if os.path.isfile(json_path):\n",
    "        json_data = json.loads(open(json_path, 'r').read())\n",
    "        \n",
    "        return json_data\n",
    "\n",
    "    else:\n",
    "        print(f'[ERR-J0001] <{appid}> json 파일이 존재하지 않습니다.')\n",
    "        json_data = get_info(appid)\n",
    "        return {}"
   ]
  },
  {
   "cell_type": "code",
   "execution_count": 6,
   "id": "3f9a0b2f-2e03-428f-b6d7-2eb91300bc7f",
   "metadata": {},
   "outputs": [],
   "source": [
    "if os.path.isfile(f'{JSON_PATH}/config.json'):\n",
    "    key = repair_keys(JSON_PATH)['steam']\n",
    "        \n",
    "else:\n",
    "    print(f'[ERR.K-001] json 파일이 존재하지 않아 백업 데이터를 로딩합니다.')\n",
    "    key = repair_keys(JSON_BACKUP_PATH)['steam']"
   ]
  },
  {
   "cell_type": "code",
   "execution_count": 7,
   "id": "cefb6ab5-8b72-4deb-9981-ded49f97ee31",
   "metadata": {},
   "outputs": [
    {
     "data": {
      "text/plain": [
       "dict_keys(['0', '1', '2', '3', '4', '5', '6', 'specials', 'coming_soon', 'top_sellers', 'new_releases', 'genres', 'trailerslideshow', 'status'])"
      ]
     },
     "execution_count": 7,
     "metadata": {},
     "output_type": "execute_result"
    }
   ],
   "source": [
    "sales = get_api(URLS['categories'])\n",
    "sales.keys()"
   ]
  },
  {
   "cell_type": "code",
   "execution_count": 8,
   "id": "a148447a-3b9b-4df2-9baa-30dcb3a99c76",
   "metadata": {},
   "outputs": [
    {
     "name": "stdout",
     "output_type": "stream",
     "text": [
      "[ERR-J0001] <2000950> json 파일이 존재하지 않습니다.\n",
      "Call of Duty®: Modern Warfare® 'genres'\n",
      "[ERR-J0001] <1669000> json 파일이 존재하지 않습니다.\n",
      "Age of Wonders 4 'genres'\n"
     ]
    }
   ],
   "source": [
    "top_games, top_names = [], []\n",
    "for game in sales['top_sellers']['items']:\n",
    "    \n",
    "    appid = game['id']\n",
    "    try:\n",
    "        datas     = get_json(appid)\n",
    "        genre     = ', '.join([d['description'] for d in datas[\"genres\"]])\n",
    "        thumbnail = datas['header_image'] \n",
    "        \n",
    "        return_data = [game['name'], genre, thumbnail]\n",
    "        \n",
    "        if game['name'] not in top_names: \n",
    "            top_games.append(return_data)\n",
    "            top_names.append(game['name'])\n",
    "            \n",
    "        else: print(f'[WRN.D-001] 중복된 데이터 입니다. {game[\"name\"]}')\n",
    "        \n",
    "    except Exception as e:         \n",
    "        print(game['name'], e)\n",
    "        \n"
   ]
  },
  {
   "cell_type": "code",
   "execution_count": 9,
   "id": "f185be37-cdb4-466e-a87d-584313e90724",
   "metadata": {},
   "outputs": [],
   "source": [
    "features = get_api(URLS['features'])\n",
    "sample   = features['featured_win'][0]"
   ]
  },
  {
   "cell_type": "code",
   "execution_count": 13,
   "id": "e049c764-7aa7-4613-816c-5ea2de1bec3e",
   "metadata": {},
   "outputs": [
    {
     "data": {
      "text/plain": [
       "{'id': 'cat_genres', 'name': '장르'}"
      ]
     },
     "execution_count": 13,
     "metadata": {},
     "output_type": "execute_result"
    }
   ],
   "source": [
    "sales['genres']"
   ]
  },
  {
   "cell_type": "code",
   "execution_count": null,
   "id": "cda2d50a-491d-4e36-a8a7-a316ba9ea0ee",
   "metadata": {},
   "outputs": [],
   "source": []
  }
 ],
 "metadata": {
  "kernelspec": {
   "display_name": "dove",
   "language": "python",
   "name": "dove"
  },
  "language_info": {
   "codemirror_mode": {
    "name": "ipython",
    "version": 3
   },
   "file_extension": ".py",
   "mimetype": "text/x-python",
   "name": "python",
   "nbconvert_exporter": "python",
   "pygments_lexer": "ipython3",
   "version": "3.8.13"
  }
 },
 "nbformat": 4,
 "nbformat_minor": 5
}
