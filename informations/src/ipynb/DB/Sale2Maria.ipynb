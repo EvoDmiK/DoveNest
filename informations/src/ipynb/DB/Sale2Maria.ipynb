{
 "cells": [
  {
   "cell_type": "code",
   "execution_count": 1,
   "id": "967f6f34-b941-4948-b788-1e96ee83ba64",
   "metadata": {},
   "outputs": [],
   "source": [
    "from traceback import format_exc\n",
    "from datetime import datetime\n",
    "import json\n",
    "import time\n",
    "import os\n",
    "import re\n",
    "\n",
    "from easydict import EasyDict as edict\n",
    "from bs4 import BeautifulSoup as bs\n",
    "import requests as req\n",
    "import pymysql as sql\n",
    "import schedule\n",
    "import redis"
   ]
  },
  {
   "cell_type": "code",
   "execution_count": 2,
   "id": "1d76f805-9bb5-443e-89f4-65f278d708c2",
   "metadata": {},
   "outputs": [],
   "source": [
    "CONFIG_PATH = '/home/jovyan/project/utils/configs'\n",
    "ROOT_PATH   = '/home/jovyan/project/DoveNest/informations'\n",
    "\n",
    "load_json   = lambda path: edict(json.loads(open(path, 'r').read()))\n",
    "CONFIGS     = load_json(f'{CONFIG_PATH}/config.json')\n",
    "PORTS       = load_json(f'{CONFIG_PATH}/ports.json')\n",
    "\n",
    "PASSWD      = CONFIGS.sql_passwd\n",
    "HOST        = CONFIGS.global_host\n",
    "USER        = CONFIGS.sql_user\n",
    "PORT        = PORTS.sql_port\n",
    "\n",
    "NIN_URL     = 'https://store.nintendo.co.kr/games/sale'\n",
    "STE_URL     = 'https://store.steampowered.com/search/?specials=1&filter=topsellers&page='\n",
    "\n",
    "NOW         = datetime.now()\n",
    "Y, M, D     = NOW.year, NOW.month, NOW.day\n",
    "\n",
    "RED_PORT    = PORTS.redis_port\n",
    "red_conn    = redis.Redis(host = HOST, port = RED_PORT, \n",
    "                          decode_responses = True, db = 1)"
   ]
  },
  {
   "cell_type": "code",
   "execution_count": 3,
   "id": "ad76a66a-5c7a-482f-a130-b8f7b2ed13e1",
   "metadata": {},
   "outputs": [],
   "source": [
    "class saleDB:\n",
    "    \n",
    "    def connect_db():\n",
    "        \n",
    "        conn   = sql.connect(host = HOST, port = PORT, user = USER, \n",
    "                            passwd=PASSWD, db = 'TEST')\n",
    "        cursor = conn.cursor()\n",
    "        \n",
    "        return conn, cursor"
   ]
  },
  {
   "cell_type": "code",
   "execution_count": 4,
   "id": "5a41b923-cf37-40ca-bf7c-98743ae6ace1",
   "metadata": {},
   "outputs": [],
   "source": [
    "conn, cursor = saleDB.connect_db()"
   ]
  },
  {
   "cell_type": "code",
   "execution_count": 5,
   "id": "61ce488f-a9f1-4c3e-9514-dbc99f291e07",
   "metadata": {},
   "outputs": [
    {
     "data": {
      "text/plain": [
       "0"
      ]
     },
     "execution_count": 5,
     "metadata": {},
     "output_type": "execute_result"
    }
   ],
   "source": [
    "cursor.execute('drop table discount_info')"
   ]
  },
  {
   "cell_type": "code",
   "execution_count": 6,
   "id": "efc4b64f-785b-44bc-9c86-48798e024f3f",
   "metadata": {},
   "outputs": [
    {
     "data": {
      "text/plain": [
       "0"
      ]
     },
     "execution_count": 6,
     "metadata": {},
     "output_type": "execute_result"
    }
   ],
   "source": [
    "query = f'''\n",
    "            CREATE TABLE IF NOT EXISTS discount_info(\n",
    "                idx   INTEGER NOT NULL,\n",
    "                appid TEXT    NOT NULL,\n",
    "                title TEXT    NOT NULL,\n",
    "                storepage TEXT,\n",
    "                thumbnail TEXT,\n",
    "                percent INTEGER NOT NULL,\n",
    "                original TEXT NOT NULL,\n",
    "                discounted TEXT NOT NULL,\n",
    "                platform TEXT NOT NULL,\n",
    "                date TEXT NOT NULL);\n",
    "        '''\n",
    "\n",
    "cursor.execute(query)"
   ]
  },
  {
   "cell_type": "code",
   "execution_count": 7,
   "id": "b251f747-db04-4954-8ac5-d27c7c3ef709",
   "metadata": {},
   "outputs": [],
   "source": [
    "res  = req.get(NIN_URL).text\n",
    "soup = bs(res, 'html.parser') "
   ]
  },
  {
   "cell_type": "code",
   "execution_count": 8,
   "id": "461146ff-62be-4bd1-9f19-82434b046fac",
   "metadata": {},
   "outputs": [],
   "source": [
    "clear = lambda x: int(re.sub('[^0-9]*', '', x)) \n",
    "items = soup.select('div.category-product-item')"
   ]
  },
  {
   "cell_type": "code",
   "execution_count": 9,
   "id": "0d77b7a0-09cf-4ae3-a485-12894805b284",
   "metadata": {},
   "outputs": [
    {
     "name": "stdout",
     "output_type": "stream",
     "text": [
      "list index out of range\n",
      "list index out of range\n",
      "list index out of range\n"
     ]
    }
   ],
   "source": [
    "query      = '''\n",
    "                INSERT INTO discount_info (idx, appid, title, storepage,\n",
    "                thumbnail, percent, original, discounted, platform, date)\n",
    "                VALUES (%s, %s, %s, %s, %s, %s, %s, %s, %s, %s)\n",
    "             '''\n",
    "\n",
    "for idx, item in enumerate(items):\n",
    "    \n",
    "    try:\n",
    "        store_page = item.select('a.category-product-item-title-link')[0]['href']\n",
    "        thumbnail  = item.select('span > img')[0]['data-src']\n",
    "        original   = item.select('span > span.price')[1].text\n",
    "        discount   = item.select('span > span.price')[0].text\n",
    "        title      = item.select('a.category-product-item-title-link')[0].text.strip()\n",
    "        appid      = store_page.split('.kr/')[1]\n",
    "    \n",
    "        platform   = 'nintendo'\n",
    "        percent    = 100 - round(clear(discount) * 100 / clear(original))\n",
    "        today      = f'{Y}{str(M).zfill(2)}{str(D).zfill(2)}'\n",
    "\n",
    "        data_tuple = (idx, appid, title, store_page, thumbnail, percent,\n",
    "                      original, discount, platform, today)\n",
    "        \n",
    "        cursor.execute(query, data_tuple)\n",
    "    except Exception as e: print(e)"
   ]
  },
  {
   "cell_type": "code",
   "execution_count": 10,
   "id": "51ac7d46-fb28-43cc-90a0-2285b98d7d8a",
   "metadata": {},
   "outputs": [
    {
     "data": {
      "text/plain": [
       "765"
      ]
     },
     "execution_count": 10,
     "metadata": {},
     "output_type": "execute_result"
    }
   ],
   "source": [
    "cursor.execute('select * from discount_info')"
   ]
  },
  {
   "cell_type": "code",
   "execution_count": 11,
   "id": "2a299ddd-c4f7-48df-8cd0-72a43df02f63",
   "metadata": {},
   "outputs": [],
   "source": [
    "conn.commit()"
   ]
  },
  {
   "cell_type": "code",
   "execution_count": 12,
   "id": "81e8dbaa-512a-4c03-9a64-04d2d8cd8e4b",
   "metadata": {},
   "outputs": [],
   "source": [
    "whole_page = ''\n",
    "for idx in range(1, 10):\n",
    "    \n",
    "    url         = f'{STE_URL}{idx}'\n",
    "    whole_page += req.get(url).text\n",
    "    \n",
    "soup  = bs(whole_page, 'html.parser')\n",
    "items = soup.select('div#search_resultsRows > a')"
   ]
  },
  {
   "cell_type": "code",
   "execution_count": 13,
   "id": "1721b3f1-70d2-48d6-8acd-8995e7c4207b",
   "metadata": {},
   "outputs": [],
   "source": [
    "length = cursor.execute('select * from discount_info')\n",
    "for idx, item in enumerate(items, 1):\n",
    "    \n",
    "    try:\n",
    "        appid = item['data-ds-appid']\n",
    "        title = item.select('span.title')[0].text\n",
    "        \n",
    "        store_page = f'https://store.steampowered.com/app/{appid}'\n",
    "        json_      = json.loads(red_conn.get(f'id:{appid}'))\n",
    "        thumbnail  = json_['data']['header_image']\n",
    "        \n",
    "        percent = item.select('.search_discount > span')[0].text\n",
    "        percent = int(clear(percent))\n",
    "        \n",
    "        original = item.select('strike')[0].text.strip()\n",
    "        discount = item.select('.discounted')[0].text.split('₩')[-1]\n",
    "        discount = f'₩{discount}'\n",
    "        \n",
    "        platform = 'steam'\n",
    "        today    = f'{Y}{str(M).zfill(2)}{str(D).zfill(2)}'\n",
    "        \n",
    "\n",
    "\n",
    "        \n",
    "        data_tuple = (idx, appid, title, store_page, thumbnail, percent,\n",
    "                      original, discount, platform, today)\n",
    "    \n",
    "        cursor.execute(query, data_tuple)\n",
    "    except Exception as e: print(format_exc())"
   ]
  },
  {
   "cell_type": "code",
   "execution_count": 17,
   "id": "de20d0a4-15e3-4d7b-b4c8-6912023054cb",
   "metadata": {},
   "outputs": [
    {
     "data": {
      "text/plain": [
       "990"
      ]
     },
     "execution_count": 17,
     "metadata": {},
     "output_type": "execute_result"
    }
   ],
   "source": [
    "cursor.execute(f'select * from discount_info where date={today}')"
   ]
  },
  {
   "cell_type": "code",
   "execution_count": 15,
   "id": "2d5cb429-257c-42f3-9da8-0a3fc0c60aea",
   "metadata": {},
   "outputs": [],
   "source": [
    "conn.commit()"
   ]
  },
  {
   "cell_type": "code",
   "execution_count": null,
   "id": "96f3c3f1-ff43-4498-bfb7-91a0dd84028f",
   "metadata": {},
   "outputs": [],
   "source": []
  }
 ],
 "metadata": {
  "kernelspec": {
   "display_name": "dove",
   "language": "python",
   "name": "dove"
  },
  "language_info": {
   "codemirror_mode": {
    "name": "ipython",
    "version": 3
   },
   "file_extension": ".py",
   "mimetype": "text/x-python",
   "name": "python",
   "nbconvert_exporter": "python",
   "pygments_lexer": "ipython3",
   "version": "3.8.13"
  }
 },
 "nbformat": 4,
 "nbformat_minor": 5
}
