{
 "cells": [
  {
   "cell_type": "code",
   "execution_count": null,
   "id": "5aa29277-3361-42e0-b3ef-5406e3af5cd6",
   "metadata": {},
   "outputs": [],
   "source": [
    "import json\n",
    "import os\n",
    "import re\n",
    "\n",
    "from easydict import EasyDict as edict\n",
    "import requests as req\n",
    "import pymysql as sql"
   ]
  },
  {
   "cell_type": "code",
   "execution_count": null,
   "id": "cf348768-5d35-4819-a7d7-996872abe978",
   "metadata": {},
   "outputs": [],
   "source": [
    "ROOT_PATH   = '/'.join(os.getcwd().split('/')[:-5])\n",
    "CONFIG_PATH = f'{ROOT_PATH}/utils/configs/config.json'\n",
    "PORTS_PATH  = f'{ROOT_PATH}/utils/configs/ports.json'\n",
    "\n",
    "config      = json.loads(open(CONFIG_PATH, 'r').read())\n",
    "ports       = json.loads(open(PORTS_PATH, 'r').read())\n",
    "\n",
    "config      = edict(config)\n",
    "ports       = edict(ports)"
   ]
  },
  {
   "cell_type": "code",
   "execution_count": null,
   "id": "030865c3-af7e-4c6c-9192-64cc2463184e",
   "metadata": {},
   "outputs": [],
   "source": [
    "host   = config.global_host\n",
    "port   = ports.sql_port\n",
    "user   = config.sql_user\n",
    "passwd = config.sql_passwd"
   ]
  },
  {
   "cell_type": "code",
   "execution_count": null,
   "id": "59b27cb4-83a8-4f76-8911-9df553843c60",
   "metadata": {},
   "outputs": [],
   "source": [
    "conn   = sql.connect(host = host, user = user, port = port, \n",
    "                     password = passwd, db = 'TEST')\n",
    "\n",
    "cursor = conn.cursor()"
   ]
  },
  {
   "cell_type": "code",
   "execution_count": null,
   "id": "a6125715-74dc-452d-9939-d4046e290aa5",
   "metadata": {},
   "outputs": [],
   "source": [
    "def return_or_print(response):\n",
    "    \n",
    "    if response.status_code == 200: return response.json()\n",
    "    else: print(f'no response data with code : {response.status_code}')\n",
    "\n",
    "    \n",
    "get_api  = lambda url: return_or_print(req.get(url))"
   ]
  },
  {
   "cell_type": "code",
   "execution_count": null,
   "id": "63f1e7ab-6469-4683-a80e-e2b5c951d362",
   "metadata": {},
   "outputs": [],
   "source": [
    "steam_games = get_api('https://api.steampowered.com/ISteamApps/GetAppList/v2')['applist']['apps']"
   ]
  },
  {
   "cell_type": "code",
   "execution_count": null,
   "id": "d683573c-67ac-4e78-bfcb-19c43275921c",
   "metadata": {},
   "outputs": [],
   "source": [
    "def get_info(appid):\n",
    "    \n",
    "    response = requests.get(f'https://store.steampowered.com/api/appdetails?appids={appid}&l=korean')\n",
    "    return return_or_print(response)"
   ]
  }
 ],
 "metadata": {
  "kernelspec": {
   "display_name": "dove",
   "language": "python",
   "name": "dove"
  },
  "language_info": {
   "codemirror_mode": {
    "name": "ipython",
    "version": 3
   },
   "file_extension": ".py",
   "mimetype": "text/x-python",
   "name": "python",
   "nbconvert_exporter": "python",
   "pygments_lexer": "ipython3",
   "version": "3.8.13"
  }
 },
 "nbformat": 4,
 "nbformat_minor": 5
}
