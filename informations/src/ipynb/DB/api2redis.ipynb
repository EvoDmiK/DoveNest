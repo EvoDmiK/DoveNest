{
 "cells": [
  {
   "cell_type": "code",
   "execution_count": 1,
   "id": "7f8c8138-4451-44ca-b3b9-237c8f3c678b",
   "metadata": {},
   "outputs": [],
   "source": [
    "import time\n",
    "import json\n",
    "import os\n",
    "\n",
    "from easydict import EasyDict as edict\n",
    "from imutils.paths import list_files\n",
    "import requests as req\n",
    "import redis\n",
    "\n",
    "sep = os.path.sep"
   ]
  },
  {
   "cell_type": "code",
   "execution_count": 2,
   "id": "829f0022-08e8-48f7-8af1-dc00b428b1c5",
   "metadata": {},
   "outputs": [],
   "source": [
    "ROOT_PATH = sep.join(os.getcwd().split(sep)[:-5])\n",
    "JSON_PATH = f'{ROOT_PATH}/utils/configs'\n",
    "\n",
    "read_json = lambda path: edict(json.loads(open(path, 'r').read()))\n",
    "CONFIGS   = read_json(f'{JSON_PATH}/config.json')\n",
    "PORTS     = read_json(f'{JSON_PATH}/ports.json')\n",
    "\n",
    "URLS        = {'appdetail' : 'https://store.steampowered.com/api/appdetails?appids'}"
   ]
  },
  {
   "cell_type": "code",
   "execution_count": 3,
   "id": "407b183e-ea73-4b24-bd91-f1e044931e34",
   "metadata": {},
   "outputs": [],
   "source": [
    "def return_or_print(url):\n",
    "    \n",
    "    res = req.get(url)\n",
    "    if res.status_code == 200: return res.json()\n",
    "    else: print(f'no response with code {res.status_code}')\n",
    "    \n",
    "    \n",
    "def get_info(appid):\n",
    "    \n",
    "    res = return_or_print(f\"{URLS['appdetail']}={appid}&l=korean\")\n",
    "    return res"
   ]
  },
  {
   "cell_type": "code",
   "execution_count": 4,
   "id": "48072e43-3cd0-43ba-9298-2b52e27627ca",
   "metadata": {},
   "outputs": [],
   "source": [
    "key         = CONFIGS.steam\n",
    "host        = CONFIGS.global_host\n",
    "port        = PORTS.redis_port\n",
    "conn        = redis.StrictRedis(host = host, port = port, db = 2)"
   ]
  },
  {
   "cell_type": "code",
   "execution_count": 5,
   "id": "1c8e144d-d8fd-4f97-bf21-102e9eed73ee",
   "metadata": {},
   "outputs": [],
   "source": [
    "apps = return_or_print('https://api.steampowered.com/ISteamApps/GetAppList/v2')['applist']['apps']"
   ]
  },
  {
   "cell_type": "code",
   "execution_count": 6,
   "id": "fb771779-2fc1-45ee-a431-470d92e71a1b",
   "metadata": {},
   "outputs": [],
   "source": [
    "sample = apps[150]['appid']\n",
    "info   = get_info(sample)[str(sample)]['data']"
   ]
  },
  {
   "cell_type": "code",
   "execution_count": 7,
   "id": "105dc45b-e9dd-45b6-ae6d-d5398946213a",
   "metadata": {},
   "outputs": [
    {
     "data": {
      "text/plain": [
       "4.289260387420654"
      ]
     },
     "execution_count": 7,
     "metadata": {},
     "output_type": "execute_result"
    }
   ],
   "source": [
    "stime = time.time()\n",
    "\n",
    "for idx, app in enumerate(apps[:3], 1):\n",
    "    \n",
    "    _id  = app['appid']\n",
    "    \n",
    "    try:\n",
    "        info = get_info(_id)[str(_id)]['data']\n",
    "        data = {\n",
    "                    'name' : info['name'],\n",
    "                    'data' : info\n",
    "                }\n",
    "        \n",
    "        conn.set(f'id:{_id}', json.dumps(data))\n",
    "    # except Exception as e: print(f'[{idx}]{_id} - {e}')\n",
    "    except: pass\n",
    "    \n",
    "    finally: \n",
    "\n",
    "        time.sleep(1)\n",
    "        \n",
    "time.time() - stime"
   ]
  },
  {
   "cell_type": "code",
   "execution_count": null,
   "id": "9c57a783-9e63-4dd1-a491-85487acfbcab",
   "metadata": {},
   "outputs": [],
   "source": []
  }
 ],
 "metadata": {
  "kernelspec": {
   "display_name": "DS",
   "language": "python",
   "name": "ds"
  },
  "language_info": {
   "codemirror_mode": {
    "name": "ipython",
    "version": 3
   },
   "file_extension": ".py",
   "mimetype": "text/x-python",
   "name": "python",
   "nbconvert_exporter": "python",
   "pygments_lexer": "ipython3",
   "version": "3.10.12"
  }
 },
 "nbformat": 4,
 "nbformat_minor": 5
}
