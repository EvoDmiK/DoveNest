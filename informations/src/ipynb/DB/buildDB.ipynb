{
 "cells": [
  {
   "cell_type": "code",
   "execution_count": 1,
   "id": "133e375e-67ed-42f1-b49f-7f181bf6a297",
   "metadata": {},
   "outputs": [],
   "source": [
    "from imutils.paths import list_files\n",
    "from tqdm import tqdm\n",
    "import requests\n",
    "import os, re\n",
    "import time"
   ]
  },
  {
   "cell_type": "code",
   "execution_count": 2,
   "id": "3a21e86c-51ff-472d-96e7-5190e9476ef8",
   "metadata": {},
   "outputs": [],
   "source": [
    "IS_JUPYTER = True\n",
    "ROOT_PATH  = '/home/jovyan/project' if IS_JUPYTER else '/config/workspace/project'\n",
    "DATA_PATH  = f'{ROOT_PATH}/DoveNest/informations/jsons'"
   ]
  },
  {
   "cell_type": "code",
   "execution_count": 3,
   "id": "eb65aad5-90af-40a9-9b18-1e74ada02152",
   "metadata": {},
   "outputs": [],
   "source": [
    "def return_or_print(response):\n",
    "    \n",
    "    if response.status_code == 200: return response.json()\n",
    "    else: print(f'no response data with code : {response.status_code}')\n",
    "\n",
    "    \n",
    "get_api  = lambda url: return_or_print(requests.get(url))\n",
    "\n",
    "def get_info(appid):\n",
    "    \n",
    "    response = requests.get(f'https://store.steampowered.com/api/appdetails?appids={appid}&l=korean')\n",
    "    return return_or_print(response)\n",
    "    \n",
    "    \n",
    "def get_reviews(appid):\n",
    "    \n",
    "    response = requests.get(f'https://store.steampowered.com/appreviews/{appid}?json=1')\n",
    "    return return_or_print(response)"
   ]
  },
  {
   "cell_type": "code",
   "execution_count": 4,
   "id": "d0df0f04-3dd9-4adc-8103-5f49f79719c8",
   "metadata": {},
   "outputs": [
    {
     "data": {
      "text/plain": [
       "(153430, 5)"
      ]
     },
     "execution_count": 4,
     "metadata": {},
     "output_type": "execute_result"
    }
   ],
   "source": [
    "apps = requests.get('https://api.steampowered.com/ISteamApps/GetAppList/v2/').json()['applist']['apps']\n",
    "apps = sorted([app['appid'] for app in apps])\n",
    "len(apps), apps[0]"
   ]
  },
  {
   "cell_type": "code",
   "execution_count": 5,
   "id": "ad70801f-c204-44f1-b323-ea23b691e352",
   "metadata": {},
   "outputs": [
    {
     "data": {
      "text/plain": [
       "(137078, '10')"
      ]
     },
     "execution_count": 5,
     "metadata": {},
     "output_type": "execute_result"
    }
   ],
   "source": [
    "jsons = sorted(list_files(DATA_PATH))\n",
    "jsons = [j.split(os.path.sep)[-2] for j in jsons]\n",
    "len(jsons), jsons[0]"
   ]
  },
  {
   "cell_type": "code",
   "execution_count": 6,
   "id": "ac8a5bf5-20d7-4bb9-a647-858c2d755381",
   "metadata": {},
   "outputs": [
    {
     "name": "stderr",
     "output_type": "stream",
     "text": [
      "100% 153430/153430 [16:50<00:00, 151.85it/s]\n"
     ]
    },
    {
     "data": {
      "text/plain": [
       "1010.4683392047882"
      ]
     },
     "execution_count": 6,
     "metadata": {},
     "output_type": "execute_result"
    }
   ],
   "source": [
    "s = time.time()\n",
    "not_apps = [app for app in tqdm(apps) if app not in jsons]\n",
    "time.time() - s"
   ]
  },
  {
   "cell_type": "code",
   "execution_count": null,
   "id": "d6c23afc-8697-4d19-896a-db6d65d897c5",
   "metadata": {},
   "outputs": [],
   "source": []
  }
 ],
 "metadata": {
  "kernelspec": {
   "display_name": "dove",
   "language": "python",
   "name": "dove"
  },
  "language_info": {
   "codemirror_mode": {
    "name": "ipython",
    "version": 3
   },
   "file_extension": ".py",
   "mimetype": "text/x-python",
   "name": "python",
   "nbconvert_exporter": "python",
   "pygments_lexer": "ipython3",
   "version": "3.8.13"
  }
 },
 "nbformat": 4,
 "nbformat_minor": 5
}
