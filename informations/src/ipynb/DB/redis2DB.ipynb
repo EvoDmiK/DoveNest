{
 "cells": [
  {
   "cell_type": "code",
   "execution_count": 1,
   "id": "eda93d66-5dc0-437e-8cd2-8129fa1d2c50",
   "metadata": {},
   "outputs": [],
   "source": [
    "import json\n",
    "import os\n",
    "import re\n",
    "\n",
    "from easydict import EasyDict as edict\n",
    "import requests as req\n",
    "import pymysql as sql\n",
    "import redis"
   ]
  },
  {
   "cell_type": "code",
   "execution_count": 2,
   "id": "085a64ae-0ee2-4f59-89e5-50726a003516",
   "metadata": {},
   "outputs": [],
   "source": [
    "SEP       = os.path.sep\n",
    "ROOT_PATH = SEP.join(os.getcwd().split(SEP)[:-5])\n",
    "JSON_PATH = f'{ROOT_PATH}/utils/configs'\n",
    "\n",
    "read_json = lambda path: edict(json.loads(open(path, 'r').read()))\n",
    "REPLACES  = ['<br>', '<strong>*</strong>', '음성이 지원되는 언어']\n",
    "CONFIGS   = read_json(f'{JSON_PATH}/config.json')\n",
    "PORTS     = read_json(f'{JSON_PATH}/ports.json')\n",
    "URLS      = {'appdetail' : 'https://store.steampowered.com/api/appdetails?appids'}\n",
    "\n",
    "CONFIGS   = edict(CONFIGS)\n",
    "PORTS     = edict(PORTS)"
   ]
  },
  {
   "cell_type": "code",
   "execution_count": 3,
   "id": "d552d433-6f46-4149-88cb-4832b426a557",
   "metadata": {},
   "outputs": [],
   "source": [
    "passwd = CONFIGS.sql_passwd\n",
    "rport  = PORTS.redis_port\n",
    "host   = CONFIGS.global_host\n",
    "port   = PORTS.sql_port\n",
    "user   = CONFIGS.sql_user\n",
    "\n",
    "conn   = sql.connect(host = host, user = user, port = port, \n",
    "                     password = passwd, db = 'DoveNest')\n",
    "rconn  = redis.StrictRedis(host = host, port = rport, db = 1)\n",
    "cursor = conn.cursor()"
   ]
  },
  {
   "cell_type": "code",
   "execution_count": 4,
   "id": "677eb34b-8f90-46ed-accd-a9e4c0306141",
   "metadata": {},
   "outputs": [],
   "source": [
    "datas  = rconn.scan()"
   ]
  },
  {
   "cell_type": "code",
   "execution_count": 5,
   "id": "4e51ba19-3c29-4b3a-8abd-a139b59dbdcc",
   "metadata": {},
   "outputs": [
    {
     "name": "stdout",
     "output_type": "stream",
     "text": [
      "Call of Duty 4: Modern Warfare 'data'\n",
      "\n",
      "\n",
      "\n",
      "{'windows': True, 'mac': False, 'linux': False}\n",
      "\n",
      "\n",
      "\n",
      "{'windows': True, 'mac': False, 'linux': False}\n",
      "\n",
      "\n",
      "\n",
      "{'windows': True, 'mac': False, 'linux': True}\n",
      "\n",
      "\n",
      "\n",
      "{'windows': True, 'mac': True, 'linux': True}\n",
      "\n",
      "\n",
      "\n",
      "{'windows': True, 'mac': False, 'linux': False}\n",
      "\n",
      "\n",
      "\n",
      "{'windows': True, 'mac': False, 'linux': False}\n",
      "\n",
      "\n",
      "\n",
      "{'windows': True, 'mac': False, 'linux': False}\n",
      "\n",
      "\n",
      "\n",
      "{'windows': True, 'mac': False, 'linux': False}\n",
      "\n",
      "\n",
      "\n",
      "{'windows': True, 'mac': False, 'linux': False}\n",
      "\n",
      "\n",
      "\n"
     ]
    }
   ],
   "source": [
    "for data in datas[1]:\n",
    "\n",
    "    try:\n",
    "        data      = json.loads(rconn.get(data))\n",
    "        data      = data['data']\n",
    "        name      = data['name']\n",
    "        appid     = data['steam_appid']\n",
    "        thumbnail = data['header_image']\n",
    "        genres    = ', '.join(d['description'] for d in data['genres'])\n",
    "        \n",
    "        if data['is_free']: price = '₩ 0'\n",
    "        else: price = data['price_overview']['final_formatted']\n",
    "\n",
    "        developers = ', '.join(data['developers'])\n",
    "        publishers = ', '.join(data['publishers'])\n",
    "        languages  = data['supported_languages']\n",
    "        \n",
    "        for replace in REPLACES: languages = languages.replace(replace, '')\n",
    "        platforms  = data['platforms']\n",
    "\n",
    "        if data['release_date']['coming_soon']: date = 'N/A'\n",
    "        else: date = data['release_date']['date']\n",
    "\n",
    "        print(platforms)\n",
    "    except Exception as e:\n",
    "        print(data['name'], e)\n",
    "\n",
    "    finally: print('\\n\\n')\n"
   ]
  },
  {
   "cell_type": "code",
   "execution_count": 6,
   "id": "23327009-a2a4-45c2-b9b8-75e51e2855f5",
   "metadata": {},
   "outputs": [
    {
     "data": {
      "text/plain": [
       "10"
      ]
     },
     "execution_count": 6,
     "metadata": {},
     "output_type": "execute_result"
    }
   ],
   "source": [
    "len(datas[1])"
   ]
  },
  {
   "cell_type": "code",
   "execution_count": null,
   "id": "b0d22cdb-bba7-4a22-b784-e4fc495ba319",
   "metadata": {},
   "outputs": [],
   "source": []
  }
 ],
 "metadata": {
  "kernelspec": {
   "display_name": "DS",
   "language": "python",
   "name": "ds"
  },
  "language_info": {
   "codemirror_mode": {
    "name": "ipython",
    "version": 3
   },
   "file_extension": ".py",
   "mimetype": "text/x-python",
   "name": "python",
   "nbconvert_exporter": "python",
   "pygments_lexer": "ipython3",
   "version": "3.11.5"
  }
 },
 "nbformat": 4,
 "nbformat_minor": 5
}
