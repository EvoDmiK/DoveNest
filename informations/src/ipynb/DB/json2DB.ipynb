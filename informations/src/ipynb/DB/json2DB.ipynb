{
 "cells": [
  {
   "cell_type": "code",
   "execution_count": 1,
   "id": "d715d69d-b0c4-446a-98a7-d94a19584003",
   "metadata": {},
   "outputs": [],
   "source": [
    "from imutils.paths import list_files\n",
    "import sqlite3 as sql\n",
    "from tqdm import tqdm \n",
    "import json\n",
    "import time\n",
    "import os"
   ]
  },
  {
   "cell_type": "code",
   "execution_count": 2,
   "id": "232492bc-865f-4f3c-9389-0062e46b5e7a",
   "metadata": {},
   "outputs": [],
   "source": [
    "ROOT_PATH = f'/home/jovyan/project/DoveNest/informations'\n",
    "DB_PATH   = f'{ROOT_PATH}/db'\n",
    "JSON_PATH = f'{ROOT_PATH}/jsons'"
   ]
  },
  {
   "cell_type": "code",
   "execution_count": 3,
   "id": "95e67a41-9039-4e16-a6d8-124081a0f1a6",
   "metadata": {},
   "outputs": [],
   "source": [
    "load_json = lambda path: json.loads(open(path, 'r').read())"
   ]
  },
  {
   "cell_type": "code",
   "execution_count": 4,
   "id": "a412cd0a-35a8-4e2b-a53e-3af600c3b92b",
   "metadata": {},
   "outputs": [],
   "source": [
    "class _DB:\n",
    "    \n",
    "    def __init__(self, db_name, table_name, columns):\n",
    "        \n",
    "        self.db_name    = db_name\n",
    "        self.columns    = columns\n",
    "        self.table_name = table_name\n",
    "        \n",
    "        self.conn, self.cursor = self.conn_db()\n",
    "        \n",
    "        \n",
    "    def conn_db(self):\n",
    "        \n",
    "        conn   = sql.connect(f'{DB_PATH}/{self.db_name}.db')\n",
    "        cursor = conn.cursor()\n",
    "        \n",
    "        return conn, cursor\n",
    "    \n",
    "    \n",
    "    def create_table(self):\n",
    "        \n",
    "        query = f'''\n",
    "                    CREATE TABLE IF NOT EXISTS {self.table_name}(\n",
    "                    \n",
    "                '''\n",
    "        \n",
    "        for idx, column in enumerate(self.columns, 1):\n",
    "            \n",
    "            name, dtype, is_null = column\n",
    "            q      = f'{name} {dtype}' if is_null == False \\\n",
    "                    else f'{name} {dtype} NOT NULL'\n",
    "            query += f'\\t{q},\\n' if idx != len(self.columns) \\\n",
    "                     else f'{q})'\n",
    "\n",
    "        self.cursor.execute(query)\n",
    "        self.conn.commit()\n",
    "    \n",
    "    \n",
    "    def insert_table(self, data_tuple):\n",
    "        \n",
    "        q = ''\n",
    "        for idx, data in enumerate(data_tuple, 1):\n",
    "            q += '?, ' if idx != len(data_tuple) else '?'\n",
    "            \n",
    "        query = f'INSERT INTO {self.table_name} VALUES({q})'\n",
    "        \n",
    "        self.cursor.execute(query, data_tuple)\n",
    "        self.conn.commit()\n",
    "        \n",
    "    \n",
    "    def backup_table(self):\n",
    "        \n",
    "        with self.conn:\n",
    "            with open(f'{DB_PATH}/{self.db_name}.sql', 'w') as f:\n",
    "                \n",
    "                for line in self.conn.iterdump(): f.write('%s\\n' % line)\n",
    "                print(f'[INFO] 테이블 <{self.table_name}> 백업이 완료되었습니다. ')"
   ]
  },
  {
   "cell_type": "code",
   "execution_count": 5,
   "id": "97f075eb-324d-4535-87eb-f0262fbf52fe",
   "metadata": {},
   "outputs": [],
   "source": [
    "json_paths = sorted(list_files(JSON_PATH))\n",
    "test_json  = load_json(json_paths[0])"
   ]
  },
  {
   "cell_type": "code",
   "execution_count": 6,
   "id": "2c12db1d-418f-4f67-a66b-16b065d05d5c",
   "metadata": {},
   "outputs": [],
   "source": [
    "DB = _DB('test', 'games', [['appid', 'INTEGER', True], \n",
    "                           ['name',  'TEXT', True], \n",
    "                           ['json_data', 'json', True]])"
   ]
  },
  {
   "cell_type": "code",
   "execution_count": 7,
   "id": "31a24493-2e74-4876-a38c-bbade3fef670",
   "metadata": {},
   "outputs": [],
   "source": [
    "DB.create_table()"
   ]
  },
  {
   "cell_type": "code",
   "execution_count": 8,
   "id": "0bb74ecc-7211-41e9-abbe-d19b8dfa365c",
   "metadata": {},
   "outputs": [],
   "source": [
    "appid, name = test_json['steam_appid'], test_json['name']\n",
    "DB.insert_table([appid, name, json.dumps(test_json)])"
   ]
  },
  {
   "cell_type": "code",
   "execution_count": 9,
   "id": "1332a370-1568-4115-95b1-974eb89209a0",
   "metadata": {},
   "outputs": [
    {
     "data": {
      "text/plain": [
       "0.001753091812133789"
      ]
     },
     "execution_count": 9,
     "metadata": {},
     "output_type": "execute_result"
    }
   ],
   "source": [
    "s = time.time()\n",
    "data = load_json(json_paths[0])\n",
    "time.time() - s"
   ]
  },
  {
   "cell_type": "code",
   "execution_count": 10,
   "id": "b6d2a4e2-dd8f-4101-959a-cd92c71417cf",
   "metadata": {},
   "outputs": [
    {
     "data": {
      "text/plain": [
       "0.0008060932159423828"
      ]
     },
     "execution_count": 10,
     "metadata": {},
     "output_type": "execute_result"
    }
   ],
   "source": [
    "s = time.time()\n",
    "q = DB.cursor.execute(f'SELECT * FROM games')\n",
    "data = q.fetchone()\n",
    "time.time() - s"
   ]
  },
  {
   "cell_type": "code",
   "execution_count": 11,
   "id": "b85293d9-519d-4eba-801f-8cf3716d4d01",
   "metadata": {},
   "outputs": [
    {
     "data": {
      "text/plain": [
       "10"
      ]
     },
     "execution_count": 11,
     "metadata": {},
     "output_type": "execute_result"
    }
   ],
   "source": [
    "data[0]"
   ]
  },
  {
   "cell_type": "code",
   "execution_count": 12,
   "id": "763531c9-aee7-46de-b636-961d234b8de0",
   "metadata": {},
   "outputs": [
    {
     "name": "stdout",
     "output_type": "stream",
     "text": [
      "[INFO] 테이블 <games> 백업이 완료되었습니다. \n"
     ]
    }
   ],
   "source": [
    "DB.backup_table()"
   ]
  },
  {
   "cell_type": "code",
   "execution_count": 13,
   "id": "c76aa0b7-bff4-46e7-8680-3aeb01456959",
   "metadata": {},
   "outputs": [
    {
     "data": {
      "text/plain": [
       "137078"
      ]
     },
     "execution_count": 13,
     "metadata": {},
     "output_type": "execute_result"
    }
   ],
   "source": [
    "len(json_paths)"
   ]
  },
  {
   "cell_type": "code",
   "execution_count": 14,
   "id": "b21a0d43-f1a1-4006-9664-5974a80c6e9d",
   "metadata": {},
   "outputs": [
    {
     "name": "stderr",
     "output_type": "stream",
     "text": [
      "  5% 6735/137078 [1:30:37<29:13:50,  1.24it/s] \n"
     ]
    },
    {
     "ename": "KeyboardInterrupt",
     "evalue": "",
     "output_type": "error",
     "traceback": [
      "\u001b[0;31m---------------------------------------------------------------------------\u001b[0m",
      "\u001b[0;31mKeyboardInterrupt\u001b[0m                         Traceback (most recent call last)",
      "Cell \u001b[0;32mIn [14], line 8\u001b[0m\n\u001b[1;32m      6\u001b[0m         json_data   \u001b[38;5;241m=\u001b[39m load_json(json_path)\n\u001b[1;32m      7\u001b[0m         appid, name \u001b[38;5;241m=\u001b[39m json_data[\u001b[38;5;124m'\u001b[39m\u001b[38;5;124msteam_appid\u001b[39m\u001b[38;5;124m'\u001b[39m], json_data[\u001b[38;5;124m'\u001b[39m\u001b[38;5;124mname\u001b[39m\u001b[38;5;124m'\u001b[39m]\n\u001b[0;32m----> 8\u001b[0m         \u001b[43mDB\u001b[49m\u001b[38;5;241;43m.\u001b[39;49m\u001b[43minsert_table\u001b[49m\u001b[43m(\u001b[49m\u001b[43m[\u001b[49m\u001b[43mappid\u001b[49m\u001b[43m,\u001b[49m\u001b[43m \u001b[49m\u001b[43mname\u001b[49m\u001b[43m,\u001b[49m\u001b[43m \u001b[49m\u001b[43mjson\u001b[49m\u001b[38;5;241;43m.\u001b[39;49m\u001b[43mdumps\u001b[49m\u001b[43m(\u001b[49m\u001b[43mjson_data\u001b[49m\u001b[43m)\u001b[49m\u001b[43m]\u001b[49m\u001b[43m)\u001b[49m\n\u001b[1;32m     10\u001b[0m     \u001b[38;5;28;01mexcept\u001b[39;00m \u001b[38;5;167;01mException\u001b[39;00m \u001b[38;5;28;01mas\u001b[39;00m e: \u001b[38;5;28mprint\u001b[39m(\u001b[38;5;124mf\u001b[39m\u001b[38;5;124m'\u001b[39m\u001b[38;5;132;01m{\u001b[39;00me\u001b[38;5;132;01m}\u001b[39;00m\u001b[38;5;130;01m\\n\u001b[39;00m\u001b[38;5;124m'\u001b[39m)\n\u001b[1;32m     12\u001b[0m \u001b[38;5;28mprint\u001b[39m(\u001b[38;5;124mf\u001b[39m\u001b[38;5;124m'\u001b[39m\u001b[38;5;124m[INFO] DB 저장 완료 (\u001b[39m\u001b[38;5;132;01m{\u001b[39;00mtime\u001b[38;5;241m.\u001b[39mtime() \u001b[38;5;241m-\u001b[39m s\u001b[38;5;132;01m:\u001b[39;00m\u001b[38;5;124m,.3f\u001b[39m\u001b[38;5;132;01m}\u001b[39;00m\u001b[38;5;124ms)\u001b[39m\u001b[38;5;124m'\u001b[39m)\n",
      "Cell \u001b[0;32mIn [4], line 48\u001b[0m, in \u001b[0;36m_DB.insert_table\u001b[0;34m(self, data_tuple)\u001b[0m\n\u001b[1;32m     45\u001b[0m query \u001b[38;5;241m=\u001b[39m \u001b[38;5;124mf\u001b[39m\u001b[38;5;124m'\u001b[39m\u001b[38;5;124mINSERT INTO \u001b[39m\u001b[38;5;132;01m{\u001b[39;00m\u001b[38;5;28mself\u001b[39m\u001b[38;5;241m.\u001b[39mtable_name\u001b[38;5;132;01m}\u001b[39;00m\u001b[38;5;124m VALUES(\u001b[39m\u001b[38;5;132;01m{\u001b[39;00mq\u001b[38;5;132;01m}\u001b[39;00m\u001b[38;5;124m)\u001b[39m\u001b[38;5;124m'\u001b[39m\n\u001b[1;32m     47\u001b[0m \u001b[38;5;28mself\u001b[39m\u001b[38;5;241m.\u001b[39mcursor\u001b[38;5;241m.\u001b[39mexecute(query, data_tuple)\n\u001b[0;32m---> 48\u001b[0m \u001b[38;5;28;43mself\u001b[39;49m\u001b[38;5;241;43m.\u001b[39;49m\u001b[43mconn\u001b[49m\u001b[38;5;241;43m.\u001b[39;49m\u001b[43mcommit\u001b[49m\u001b[43m(\u001b[49m\u001b[43m)\u001b[49m\n",
      "\u001b[0;31mKeyboardInterrupt\u001b[0m: "
     ]
    }
   ],
   "source": [
    "s = time.time()\n",
    "\n",
    "for json_path in tqdm(json_paths):\n",
    "    \n",
    "    try:\n",
    "        json_data   = load_json(json_path)\n",
    "        appid, name = json_data['steam_appid'], json_data['name']\n",
    "        DB.insert_table([appid, name, json.dumps(json_data)])\n",
    "        \n",
    "    except Exception as e: print(f'{e}\\n')\n",
    "\n",
    "print(f'[INFO] DB 저장 완료 ({time.time() - s:,.3f}s)')"
   ]
  },
  {
   "cell_type": "code",
   "execution_count": null,
   "id": "8df04ce3-7546-4444-ac68-5b9c8cfb9c8d",
   "metadata": {},
   "outputs": [],
   "source": []
  },
  {
   "cell_type": "code",
   "execution_count": 1,
   "id": "2349703e-c3ae-4bc7-a5f2-78c900f14c58",
   "metadata": {},
   "outputs": [
    {
     "data": {
      "text/plain": [
       "'idx, appid, name, json_data'"
      ]
     },
     "execution_count": 1,
     "metadata": {},
     "output_type": "execute_result"
    }
   ],
   "source": [
    "a = ['idx'] + ['appid', 'name', 'json_data']\n",
    "', '.join(a)"
   ]
  },
  {
   "cell_type": "code",
   "execution_count": 2,
   "id": "5b2d2586-2ad5-4280-8e74-22b76892cfbd",
   "metadata": {},
   "outputs": [
    {
     "data": {
      "text/plain": [
       "'%s, %s, %s, %s'"
      ]
     },
     "execution_count": 2,
     "metadata": {},
     "output_type": "execute_result"
    }
   ],
   "source": [
    "', '.join('%s' for _ in enumerate(a))"
   ]
  },
  {
   "cell_type": "code",
   "execution_count": null,
   "id": "f6d1d3de-cf4c-43f7-ba5c-6c8bacde4f13",
   "metadata": {},
   "outputs": [],
   "source": []
  }
 ],
 "metadata": {
  "kernelspec": {
   "display_name": "dove",
   "language": "python",
   "name": "dove"
  },
  "language_info": {
   "codemirror_mode": {
    "name": "ipython",
    "version": 3
   },
   "file_extension": ".py",
   "mimetype": "text/x-python",
   "name": "python",
   "nbconvert_exporter": "python",
   "pygments_lexer": "ipython3",
   "version": "3.8.13"
  }
 },
 "nbformat": 4,
 "nbformat_minor": 5
}
