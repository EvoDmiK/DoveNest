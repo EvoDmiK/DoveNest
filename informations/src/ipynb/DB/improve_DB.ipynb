{
 "cells": [
  {
   "cell_type": "code",
   "execution_count": 1,
   "id": "a2209d02-0ff6-436f-af21-1e21637f0927",
   "metadata": {},
   "outputs": [],
   "source": [
    "from typing import *\n",
    "import json\n",
    "import os\n",
    "\n",
    "from easydict import EasyDict as edict\n",
    "import pymysql as sql"
   ]
  },
  {
   "cell_type": "code",
   "execution_count": 2,
   "id": "d3d896e9-4cf3-4fd3-95f3-ae71e70dc2ca",
   "metadata": {},
   "outputs": [],
   "source": [
    "SEP       = os.path.sep\n",
    "ROOT_PATH = SEP.join(os.getcwd().split(SEP)[:-5])\n",
    "JSON_PATH = f'{ROOT_PATH}/utils/configs'\n",
    "\n",
    "CONFIGS   = json.loads(open(f'{JSON_PATH}/config.json', 'r').read())\n",
    "PORTS     = json.loads(open(f'{JSON_PATH}/ports.json', 'r').read())\n",
    "\n",
    "CONFIGS   = edict(CONFIGS)\n",
    "PORTS     = edict(PORTS)"
   ]
  },
  {
   "cell_type": "code",
   "execution_count": 3,
   "id": "04551679-0cca-4f55-bc88-34dfa860b35e",
   "metadata": {},
   "outputs": [],
   "source": [
    "host      = CONFIGS.global_host\n",
    "port      = PORTS.sql_port\n",
    "user      = CONFIGS.sql_user\n",
    "passwd    = CONFIGS.sql_passwd"
   ]
  },
  {
   "cell_type": "code",
   "execution_count": 4,
   "id": "52fad87e-b297-4f05-bdcb-fecc2ed65b22",
   "metadata": {},
   "outputs": [],
   "source": [
    "conn      = sql.connect(host = host, password = passwd, user = user,\n",
    "                        port = port, db       = 'DoveNest')\n",
    "cursor    = conn.cursor()"
   ]
  },
  {
   "cell_type": "code",
   "execution_count": 5,
   "id": "8f9bde7d-2f80-4efd-9faf-4bf9e1b04f97",
   "metadata": {},
   "outputs": [],
   "source": [
    "def print_result(results: tuple):\n",
    "\n",
    "    for idx, result in enumerate(results, 1): print(f'[{str(idx).zfill(3)}] {result}')\n",
    "    print('\\n')\n",
    "\n",
    "\n",
    "def select(cursor, table_name: str, column: str = '*', \n",
    "           order  : Union[None, str] = None, cond:  Union[None, str] = None,\n",
    "           limit_k: Union[None, str] = None, group: Union[None, str] = None):\n",
    "\n",
    "    query = f'select distinct {column} from {table_name}'\n",
    "\n",
    "    if    cond: query += f' where {cond}'\n",
    "    if   group: query += f' group by {group}'\n",
    "    if   order: query += f' order by {order}'\n",
    "    if limit_k: query += f' limit {limit_k}'\n",
    "\n",
    "    print(f'[QUERY] {query};')\n",
    "    cursor.execute(query)\n",
    "\n",
    "    print_result(cursor.fetchall())"
   ]
  },
  {
   "cell_type": "code",
   "execution_count": 9,
   "id": "4e555734-7198-4fcd-ae12-4d067873eb1d",
   "metadata": {},
   "outputs": [
    {
     "name": "stdout",
     "output_type": "stream",
     "text": [
      "[QUERY] select distinct original, discounted, percent, date from discount_info where (platform = \"nintendo\") and (date like \"202308%\") order by percent desc, title asc, idx asc limit 15;\n",
      "[001] ('₩ 39,000', '₩ 1,000', 97, '20230801')\n",
      "[002] ('₩ 33,990', '₩ 1,010', 97, '20230801')\n",
      "[003] ('₩ 25,000', '₩ 1,000', 96, '20230801')\n",
      "[004] ('₩ 19,990', '₩ 1,000', 95, '20230801')\n",
      "[005] ('₩ 19,990', '₩ 1,030', 95, '20230801')\n",
      "[006] ('₩ 20,500', '₩ 1,000', 95, '20230801')\n",
      "[007] ('₩ 18,990', '₩ 1,000', 95, '20230801')\n",
      "[008] ('₩ 25,000', '₩ 1,250', 95, '20230801')\n",
      "[009] ('₩ 16,200', '₩ 1,000', 94, '20230801')\n",
      "[010] ('₩ 15,990', '₩ 1,000', 94, '20230801')\n",
      "[011] ('₩ 16,700', '₩ 1,000', 94, '20230801')\n",
      "[012] ('₩ 33,430', '₩ 1,990', 94, '20230801')\n",
      "[013] ('₩ 14,990', '₩ 1,000', 93, '20230801')\n",
      "[014] ('₩ 13,990', '₩ 1,000', 93, '20230801')\n",
      "[015] ('₩ 15,000', '₩ 1,050', 93, '20230801')\n",
      "\n",
      "\n"
     ]
    }
   ],
   "source": [
    "select(cursor, 'discount_info', column = 'original, discounted, percent, date',\n",
    "       cond  = '(platform = \"nintendo\") and (date like \"202308%\")', limit_k = '15',\n",
    "       order = 'percent desc, title asc, idx asc')"
   ]
  },
  {
   "cell_type": "code",
   "execution_count": 7,
   "id": "fa88442c-f268-4e34-bec5-916dc36eb8c1",
   "metadata": {},
   "outputs": [
    {
     "name": "stdout",
     "output_type": "stream",
     "text": [
      "[QUERY] select distinct platform from discount_info group by platform;\n",
      "[001] ('nintendo',)\n",
      "[002] ('steam',)\n",
      "\n",
      "\n"
     ]
    }
   ],
   "source": [
    "select(cursor, 'discount_info', column = 'platform', group = 'platform')"
   ]
  },
  {
   "cell_type": "code",
   "execution_count": 8,
   "id": "2ed1ddef-26c2-447d-9ee4-329c9db927cc",
   "metadata": {},
   "outputs": [
    {
     "data": {
      "text/plain": [
       "(('idx', 'int(11)', 'NO', '', None, ''),\n",
       " ('appid', 'text', 'NO', '', None, ''),\n",
       " ('title', 'text', 'NO', '', None, ''),\n",
       " ('percent', 'int(11)', 'NO', '', None, ''),\n",
       " ('discounted', 'text', 'NO', '', None, ''),\n",
       " ('original', 'text', 'NO', '', None, ''),\n",
       " ('platform', 'text', 'NO', '', None, ''),\n",
       " ('storepage', 'text', 'YES', '', None, ''),\n",
       " ('thumbnail', 'text', 'YES', '', None, ''),\n",
       " ('date', 'text', 'NO', '', None, ''),\n",
       " ('review', 'text', 'YES', '', None, ''))"
      ]
     },
     "execution_count": 8,
     "metadata": {},
     "output_type": "execute_result"
    }
   ],
   "source": [
    "cursor.execute('show columns from discount_info')\n",
    "cursor.fetchall()"
   ]
  },
  {
   "cell_type": "code",
   "execution_count": null,
   "id": "ad465d03-d859-4da4-959a-976a4cb4b9c8",
   "metadata": {},
   "outputs": [],
   "source": []
  }
 ],
 "metadata": {
  "kernelspec": {
   "display_name": "DS",
   "language": "python",
   "name": "ds"
  },
  "language_info": {
   "codemirror_mode": {
    "name": "ipython",
    "version": 3
   },
   "file_extension": ".py",
   "mimetype": "text/x-python",
   "name": "python",
   "nbconvert_exporter": "python",
   "pygments_lexer": "ipython3",
   "version": "3.10.12"
  }
 },
 "nbformat": 4,
 "nbformat_minor": 5
}
