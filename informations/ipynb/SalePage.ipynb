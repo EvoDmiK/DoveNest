{
 "cells": [
  {
   "cell_type": "code",
   "execution_count": 11,
   "id": "5d840e27-87d1-4560-ab2d-1c88c42749a2",
   "metadata": {},
   "outputs": [],
   "source": [
    "from bs4 import BeautifulSoup as bs\n",
    "from datetime import datetime\n",
    "from pandasql import sqldf\n",
    "import requests as req\n",
    "import pandas as pd\n",
    "import numpy as np\n",
    "import sqlite3\n",
    "import time\n",
    "import os\n",
    "import re"
   ]
  },
  {
   "cell_type": "code",
   "execution_count": 2,
   "id": "a1b4a7da-0be3-409a-93eb-2bf75f77a3cd",
   "metadata": {},
   "outputs": [],
   "source": [
    "NOW     = datetime.now()\n",
    "Y, M, D = NOW.year, NOW.month, NOW.day"
   ]
  },
  {
   "cell_type": "code",
   "execution_count": 3,
   "id": "355d9a20-5576-4e04-8569-043d7a9b991a",
   "metadata": {},
   "outputs": [
    {
     "data": {
      "text/plain": [
       "2.700230836868286"
      ]
     },
     "execution_count": 3,
     "metadata": {},
     "output_type": "execute_result"
    }
   ],
   "source": [
    "whole_page = \"\"\n",
    "\n",
    "start_time = time.time()\n",
    "\n",
    "for idx in range(5):\n",
    "    url = f'https://store.steampowered.com/search/?specials=1&filter=topsellers&page={idx}'\n",
    "    res = req.get(url)\n",
    "    whole_page += res.text\n",
    "\n",
    "time.time() - start_time"
   ]
  },
  {
   "cell_type": "code",
   "execution_count": 4,
   "id": "52587173-9340-41a2-aeee-625ad03b2bbb",
   "metadata": {},
   "outputs": [
    {
     "data": {
      "text/plain": [
       "10.572810411453247"
      ]
     },
     "execution_count": 4,
     "metadata": {},
     "output_type": "execute_result"
    }
   ],
   "source": [
    "start_time = time.time()\n",
    "soup       = bs(whole_page, 'html.parser')\n",
    "sales      = soup.select('div#search_resultsRows > a') \n",
    "time.time() - start_time"
   ]
  },
  {
   "cell_type": "code",
   "execution_count": 5,
   "id": "7fcee425-5657-4599-8e79-43189f2559f4",
   "metadata": {},
   "outputs": [],
   "source": [
    "dbpath = '../db/test.db'\n",
    "conn   = sqlite3.connect(dbpath)\n",
    "cursor = conn.cursor()"
   ]
  },
  {
   "cell_type": "code",
   "execution_count": 6,
   "id": "0c8eab89-6bac-473f-8e05-f355a2f83d6a",
   "metadata": {},
   "outputs": [
    {
     "data": {
      "text/plain": [
       "<sqlite3.Cursor at 0x7fce4c1e5b90>"
      ]
     },
     "execution_count": 6,
     "metadata": {},
     "output_type": "execute_result"
    }
   ],
   "source": [
    "query = \"\"\"\n",
    "CREATE TABLE IF NOT EXISTS steamsale(\n",
    "id INTEGER PRIMARY KEY AUTOINCREMENT,\n",
    "appid INTEGER NOT NULL,\n",
    "percent INTEGER NOT NULL,\n",
    "original INTEGER NOT NULL,\n",
    "discounted INTEGER NOT NULL,\n",
    "date TEXT NOT NULL);\"\"\"\n",
    "\n",
    "cursor.execute(query)"
   ]
  },
  {
   "cell_type": "code",
   "execution_count": 7,
   "id": "e1e66d0a-f0e5-4bf7-aae0-5464a0a01c62",
   "metadata": {},
   "outputs": [
    {
     "name": "stdout",
     "output_type": "stream",
     "text": [
      "list index out of range\n",
      "list index out of range\n",
      "list index out of range\n",
      "list index out of range\n",
      "list index out of range\n",
      "list index out of range\n",
      "list index out of range\n",
      "list index out of range\n",
      "list index out of range\n",
      "list index out of range\n",
      "list index out of range\n"
     ]
    }
   ],
   "source": [
    "def preprop(string, dtype = 'discount'): \n",
    "    \n",
    "    if dtype == 'discount': string = string.replace(' ', '').split('₩')[-1]\n",
    "    string = string.replace(',', '').replace('₩', '')\n",
    "    \n",
    "    return int(string)\n",
    "    \n",
    "\n",
    "sale_list = []\n",
    "for idx, sale in enumerate(sales):\n",
    "    try:\n",
    "        appid      = sale['data-ds-appid']\n",
    "\n",
    "        percent    = sale.select('.search_discount > span')[0].text\n",
    "        percent    = int(percent.replace('-', '').replace('%', ''))\n",
    "\n",
    "        original   = preprop(sale.select('strike')[0].text)\n",
    "        discounted = preprop(sale.select(\".discounted\")[0].text)\n",
    "\n",
    "        today = f'{Y}{str(M).zfill(2)}{str(D).zfill(2)}'\n",
    "        query = f\"\"\"\n",
    "                INSERT INTO steamsale\n",
    "                (appid, percent, original, discounted, date)\n",
    "                VALUES({appid}, {percent}, {original}, {discounted}, {today});\n",
    "                \"\"\"\n",
    "\n",
    "        cursor.execute(query)\n",
    "              \n",
    "    except Exception as e: print(e)"
   ]
  },
  {
   "cell_type": "code",
   "execution_count": 8,
   "id": "2f842956-e5fa-447d-a061-75b4d4311ede",
   "metadata": {},
   "outputs": [
    {
     "name": "stdout",
     "output_type": "stream",
     "text": [
      "Completed\n"
     ]
    }
   ],
   "source": [
    "with conn:\n",
    "    with open('../db/test_backup.sql', 'w') as f:\n",
    "        for line in conn.iterdump():\n",
    "            f.write('%s\\n' % line)\n",
    "        print('Completed')"
   ]
  },
  {
   "cell_type": "code",
   "execution_count": 9,
   "id": "198ec8bb-d57f-4dca-83db-750d5089c2ef",
   "metadata": {},
   "outputs": [],
   "source": [
    "\n",
    "## DB에 있는 데이터를 조회하는 함수\n",
    "## 고급 쿼리 부분은 좀 더 구현해야 한다.\n",
    "def search_table(cursor, table_name, columns = '*', **kwargs):\n",
    "\n",
    "    sorting_col = kwargs['sorting_col'] if 'sorting_col' in kwargs.keys() else 'original'\n",
    "    conditions  = kwargs['conditions']  if 'conditions' in kwargs.keys() else None\n",
    "    how_many    = kwargs['how_many']    if 'how_many' in kwargs.keys() else 1\n",
    "    reverse     = kwargs['desc']         if 'desc' in kwargs.keys() else False\n",
    " \n",
    "    col_indexes = {k : v for v, k in enumerate(['id', 'appid', 'percent', 'original', \n",
    "                                                 'discounted', 'date'])}\n",
    "    col_splited = columns.replace(' ','').split(',')\n",
    "    col_indexes = col_indexes if columns == '*' else \\\n",
    "                  {k : v for v, k in enumerate(col_splited)}\n",
    "    assert sorting_col in columns, f'''[ERR.Col-0001] 선택하신 조건에 맞는 컬럼이 존재하지 않아 선택 하신 옵션으로 정렬 할 수 없었습니다. {columns}에서 골라 주십시오.'''\n",
    "    \n",
    "    \n",
    "    if conditions == None:\n",
    "        query = f\"\"\"\n",
    "                    SELECT {columns} FROM {table_name}\n",
    "                \"\"\"\n",
    "    else:\n",
    "        ## WHERE 문으로 찾을 column, 조건, 데이터를 받아 조회해준다.\n",
    "        conditions = np.array(conditions)\n",
    "        \n",
    "        if len(conditions) == 3:\n",
    "            col, cond, data = conditions\n",
    "\n",
    "            symbols = ['>', '<', '!=', '=', '>=', '<=', 'IN']\n",
    "            assert cond in symbols, f'[ERR.Co-0001] 조건이 올바르지 않습니다. {symbols}에서 선택해 넣어주십시오.'\n",
    "    \n",
    "            \n",
    "            query = f\"\"\"\n",
    "                        SELECT {columns} FROM {table_name}\n",
    "                        WHERE {col} {cond} {data};\n",
    "                    \"\"\"\n",
    "            \n",
    "        elif len(conditions) == 2:\n",
    "            col, data = conditions\n",
    "            query = f\"\"\"\n",
    "                        SELECT {columns} FROM {table_name}\n",
    "                        WHERE {col}={data};\n",
    "                    \"\"\"\n",
    "            \n",
    "            q = cursor.execute('select * from steamsale')\n",
    "    \n",
    "            \n",
    "    cursor.execute(query)\n",
    "    \n",
    "    ## how_many가 0을 포함한 음의 정수가 된다면 모든 데이터를 조회해준다.\n",
    "    col_index = col_indexes[sorting_col]\n",
    "    return sorted(cursor.fetchmany(how_many), key = lambda x: (x[col_index], x[0]), \n",
    "                                              reverse = reverse) "
   ]
  },
  {
   "cell_type": "code",
   "execution_count": 16,
   "id": "fac1286b-ece8-498f-a7b0-c0dd27ee521a",
   "metadata": {},
   "outputs": [],
   "source": [
    "search_table(cursor, 'steamsale', columns = 'appid, original, discounted', \n",
    "             desc = True, how_many = 0, sorting_col = 'original', \n",
    "             conditions = ['original', '>=', '65000'])\n",
    "\n",
    "conn.close()"
   ]
  },
  {
   "cell_type": "code",
   "execution_count": 17,
   "id": "96619b04-b546-465e-9b0a-54ceb22686e7",
   "metadata": {},
   "outputs": [],
   "source": [
    "ROOT_PATH  = '/config/workspace/project'\n",
    "DB_PATH     = f'{ROOT_PATH}/DoveNest/informations/db'"
   ]
  },
  {
   "cell_type": "code",
   "execution_count": 18,
   "id": "8d3beee6-bb64-42de-901e-4ba2bd99e5ae",
   "metadata": {},
   "outputs": [],
   "source": [
    "class salesDB:\n",
    "\n",
    "    def __init__(self, table_name, db_name):\n",
    "\n",
    "        self.table_name = table_name\n",
    "        self.db_name    = db_name\n",
    "        \n",
    "        ## DataBase 연결\n",
    "        self.connect_db()\n",
    "\n",
    "\n",
    "    ## DB와 연결시켜주는 함수\n",
    "    def connect_db(self):\n",
    "\n",
    "        dbpath = f'{DB_PATH}/{self.db_name}.db'\n",
    "        self.conn   = sqlite3.connect(dbpath, check_same_thread = False)\n",
    "        self.cursor = self.conn.cursor()\n",
    "\n",
    "\n",
    "    ## DB에 있는 데이터를 조회하는 함수 고급 쿼리 부분은 좀 더 구현해야 한다.\n",
    "    def search_table(self, columns = '*', **kwargs):\n",
    "\n",
    "        ## keyword argument 값에서 데이터가 없는 경우 기본값 지정\n",
    "\n",
    "        ## 이부분도 너무 킹받게 짜졌다,, 안되는거 그냥 덕지덕지 수정했더니...\n",
    "        sorting_col = kwargs['sorting_col'] if 'sorting_col' in kwargs.keys() else columns\n",
    "        sorting_col = sorting_col if sorting_col != '*' else  \\\n",
    "                    ('appid' if type(sorting_col) != list else sorting_col[0])\n",
    "\n",
    "        conditions  = kwargs['conditions']  if 'conditions' in kwargs.keys() else None\n",
    "        how_many    = kwargs['how_many']    if 'how_many' in kwargs.keys() else 1\n",
    "        reverse     = kwargs['desc']        if 'desc' in kwargs.keys() else False\n",
    "\n",
    "        \n",
    "        col_indexes = {k : v for v, k in enumerate(['id', 'appid', 'percent', 'original', \n",
    "                                                    'discounted', 'date'])}\n",
    "\n",
    "        ## 코드가 너무 킹받게 짜졌다..\n",
    "        col_indexes = col_indexes if columns == '*' else \\\n",
    "                    ({k : v for v, k in enumerate(columns)} \\\n",
    "                    if type(columns) == list else {columns : 0})\n",
    "\n",
    "        col_keys = [col for col in col_indexes.keys()]\n",
    "        try:\n",
    "            print(sorting_col, col_keys)\n",
    "            assert sorting_col in col_keys, f'''\\n[ERR.DB.Co-0001] 선택하신 조건에 맞는 컬럼이 존재하지 않아 선택 하신 옵션으로 정렬 할 수 없었습니다. \\\n",
    "                                                {col_keys}에서 골라 주십시오.'''\n",
    "\n",
    "            columns = ', '.join(columns) if type(columns) == list else columns\n",
    "\n",
    "\n",
    "            ## 데이터 조회할 때 그 어떤 조건도 없는 경우 그냥 테이블에서 컬럼만 받아 사용\n",
    "            if conditions == None:\n",
    "                query = f\"\"\"\n",
    "                            SELECT DISTINCT {columns} FROM {self.table_name}\n",
    "                        \"\"\"\n",
    "            \n",
    "            else:\n",
    "                ## 고급 쿼리에 사용할 거\n",
    "                conditions = np.array(conditions)\n",
    "\n",
    "                ## WHERE 문으로 찾을 column, 조건, 데이터를 받아 조회해준다.\n",
    "                if len(conditions) == 3:\n",
    "                    col, cond, data = conditions\n",
    "\n",
    "                    symbols = ['>', '<', '!=', '=', '>=', '<=', 'IN']\n",
    "                    assert cond in symbols, f'\\n[ERR.DB.Co-0002] 조건이 올바르지 않습니다. {symbols}에서 선택해 넣어주십시오.'\n",
    "            \n",
    "                    \n",
    "                    query = f\"\"\"\n",
    "                                SELECT DISTINCT {columns} FROM {self.table_name}\n",
    "                                WHERE {col} {cond} {data};\n",
    "                            \"\"\"\n",
    "                \n",
    "                ## 데이터를 찾을 column과 찾을 data만 있는 경우\n",
    "                ## 기본값으로 동일한 데이터만 찾도록 지정해주었다.\n",
    "                elif len(conditions) == 2:\n",
    "                    col, data = conditions\n",
    "                    query = f\"\"\"\n",
    "                                SELECT DISTINCT {columns} FROM {self.table_name}\n",
    "                                WHERE {col}={data};\n",
    "                            \"\"\"\n",
    "\n",
    "            self.cursor.execute(query)\n",
    "            \n",
    "            ## 데이터 정렬에 사용할 인덱스 값들.\n",
    "            col_index = col_indexes[sorting_col]\n",
    "\n",
    "        except Exception as e:\n",
    "            print(f'[ERR.DB.Q-0001] 쿼리에 문제가 발생하였습니다. 확인 후 수정바랍니다. {e}')\n",
    "            query     = f'SELECT * FROM {self.table_name}'\n",
    "            col_index = 0\n",
    "\n",
    "        ## how_many가 0을 포함한 음의 정수가 된다면 모든 데이터를 조회해준다.\n",
    "        return sorted(self.cursor.fetchmany(how_many), \n",
    "                      key = lambda x: x[col_index], reverse = reverse) \n"
   ]
  },
  {
   "cell_type": "code",
   "execution_count": 21,
   "id": "980f94a9-ed6c-4e59-994f-de654eb6b8d2",
   "metadata": {},
   "outputs": [
    {
     "ename": "OperationalError",
     "evalue": "unable to open database file",
     "output_type": "error",
     "traceback": [
      "\u001b[0;31m---------------------------------------------------------------------------\u001b[0m",
      "\u001b[0;31mOperationalError\u001b[0m                          Traceback (most recent call last)",
      "Cell \u001b[0;32mIn [21], line 1\u001b[0m\n\u001b[0;32m----> 1\u001b[0m DB \u001b[38;5;241m=\u001b[39m \u001b[43msalesDB\u001b[49m\u001b[43m(\u001b[49m\u001b[43mtable_name\u001b[49m\u001b[43m \u001b[49m\u001b[38;5;241;43m=\u001b[39;49m\u001b[43m \u001b[49m\u001b[38;5;124;43m'\u001b[39;49m\u001b[38;5;124;43msaleinfo\u001b[39;49m\u001b[38;5;124;43m'\u001b[39;49m\u001b[43m,\u001b[49m\u001b[43m \u001b[49m\u001b[43mdb_name\u001b[49m\u001b[43m \u001b[49m\u001b[38;5;241;43m=\u001b[39;49m\u001b[43m \u001b[49m\u001b[38;5;124;43m'\u001b[39;49m\u001b[38;5;124;43mgame_informations_\u001b[39;49m\u001b[38;5;124;43m'\u001b[39;49m\u001b[43m)\u001b[49m\n",
      "Cell \u001b[0;32mIn [18], line 9\u001b[0m, in \u001b[0;36msalesDB.__init__\u001b[0;34m(self, table_name, db_name)\u001b[0m\n\u001b[1;32m      6\u001b[0m \u001b[38;5;28mself\u001b[39m\u001b[38;5;241m.\u001b[39mdb_name    \u001b[38;5;241m=\u001b[39m db_name\n\u001b[1;32m      8\u001b[0m \u001b[38;5;66;03m## DataBase 연결\u001b[39;00m\n\u001b[0;32m----> 9\u001b[0m \u001b[38;5;28;43mself\u001b[39;49m\u001b[38;5;241;43m.\u001b[39;49m\u001b[43mconnect_db\u001b[49m\u001b[43m(\u001b[49m\u001b[43m)\u001b[49m\n",
      "Cell \u001b[0;32mIn [18], line 16\u001b[0m, in \u001b[0;36msalesDB.connect_db\u001b[0;34m(self)\u001b[0m\n\u001b[1;32m     13\u001b[0m \u001b[38;5;28;01mdef\u001b[39;00m \u001b[38;5;21mconnect_db\u001b[39m(\u001b[38;5;28mself\u001b[39m):\n\u001b[1;32m     15\u001b[0m     dbpath \u001b[38;5;241m=\u001b[39m \u001b[38;5;124mf\u001b[39m\u001b[38;5;124m'\u001b[39m\u001b[38;5;132;01m{\u001b[39;00mDB_PATH\u001b[38;5;132;01m}\u001b[39;00m\u001b[38;5;124m/\u001b[39m\u001b[38;5;132;01m{\u001b[39;00m\u001b[38;5;28mself\u001b[39m\u001b[38;5;241m.\u001b[39mdb_name\u001b[38;5;132;01m}\u001b[39;00m\u001b[38;5;124m.db\u001b[39m\u001b[38;5;124m'\u001b[39m\n\u001b[0;32m---> 16\u001b[0m     \u001b[38;5;28mself\u001b[39m\u001b[38;5;241m.\u001b[39mconn   \u001b[38;5;241m=\u001b[39m \u001b[43msqlite3\u001b[49m\u001b[38;5;241;43m.\u001b[39;49m\u001b[43mconnect\u001b[49m\u001b[43m(\u001b[49m\u001b[43mdbpath\u001b[49m\u001b[43m,\u001b[49m\u001b[43m \u001b[49m\u001b[43mcheck_same_thread\u001b[49m\u001b[43m \u001b[49m\u001b[38;5;241;43m=\u001b[39;49m\u001b[43m \u001b[49m\u001b[38;5;28;43;01mFalse\u001b[39;49;00m\u001b[43m)\u001b[49m\n\u001b[1;32m     17\u001b[0m     \u001b[38;5;28mself\u001b[39m\u001b[38;5;241m.\u001b[39mcursor \u001b[38;5;241m=\u001b[39m \u001b[38;5;28mself\u001b[39m\u001b[38;5;241m.\u001b[39mconn\u001b[38;5;241m.\u001b[39mcursor()\n",
      "\u001b[0;31mOperationalError\u001b[0m: unable to open database file"
     ]
    }
   ],
   "source": [
    "DB = salesDB(table_name = 'saleinfo', db_name = 'game_informations_')"
   ]
  },
  {
   "cell_type": "code",
   "execution_count": null,
   "id": "da28c647-368a-4649-a8bd-72483ae777b9",
   "metadata": {},
   "outputs": [],
   "source": []
  },
  {
   "cell_type": "code",
   "execution_count": null,
   "id": "314c0694-f738-441e-9f02-3379aa07edb5",
   "metadata": {},
   "outputs": [],
   "source": []
  },
  {
   "cell_type": "code",
   "execution_count": null,
   "id": "6ff6b410-05e0-4b51-9d30-9ff7b378dc4d",
   "metadata": {},
   "outputs": [],
   "source": []
  }
 ],
 "metadata": {
  "kernelspec": {
   "display_name": "dove",
   "language": "python",
   "name": "dove"
  },
  "language_info": {
   "codemirror_mode": {
    "name": "ipython",
    "version": 3
   },
   "file_extension": ".py",
   "mimetype": "text/x-python",
   "name": "python",
   "nbconvert_exporter": "python",
   "pygments_lexer": "ipython3",
   "version": "3.8.13"
  }
 },
 "nbformat": 4,
 "nbformat_minor": 5
}
