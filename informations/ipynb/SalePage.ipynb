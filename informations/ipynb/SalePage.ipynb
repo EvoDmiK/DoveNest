{
 "cells": [
  {
   "cell_type": "code",
   "execution_count": 1,
   "id": "5d840e27-87d1-4560-ab2d-1c88c42749a2",
   "metadata": {},
   "outputs": [],
   "source": [
    "from bs4 import BeautifulSoup as bs\n",
    "from datetime import datetime\n",
    "from pandasql import sqldf\n",
    "import requests as req\n",
    "import pandas as pd\n",
    "import sqlite3\n",
    "import time\n",
    "import os\n",
    "import re"
   ]
  },
  {
   "cell_type": "code",
   "execution_count": 2,
   "id": "a1b4a7da-0be3-409a-93eb-2bf75f77a3cd",
   "metadata": {},
   "outputs": [],
   "source": [
    "NOW     = datetime.now()\n",
    "Y, M, D = NOW.year, NOW.month, NOW.day"
   ]
  },
  {
   "cell_type": "code",
   "execution_count": 3,
   "id": "355d9a20-5576-4e04-8569-043d7a9b991a",
   "metadata": {},
   "outputs": [
    {
     "data": {
      "text/plain": [
       "2.133146047592163"
      ]
     },
     "execution_count": 3,
     "metadata": {},
     "output_type": "execute_result"
    }
   ],
   "source": [
    "whole_page = \"\"\n",
    "\n",
    "start_time = time.time()\n",
    "\n",
    "for idx in range(5):\n",
    "    url = f'https://store.steampowered.com/search/?specials=1&filter=topsellers&page={idx}'\n",
    "    res = req.get(url)\n",
    "    whole_page += res.text\n",
    "\n",
    "time.time() - start_time"
   ]
  },
  {
   "cell_type": "code",
   "execution_count": 4,
   "id": "52587173-9340-41a2-aeee-625ad03b2bbb",
   "metadata": {},
   "outputs": [
    {
     "data": {
      "text/plain": [
       "10.620344877243042"
      ]
     },
     "execution_count": 4,
     "metadata": {},
     "output_type": "execute_result"
    }
   ],
   "source": [
    "start_time = time.time()\n",
    "soup       = bs(whole_page, 'html.parser')\n",
    "sales      = soup.select('div#search_resultsRows > a') \n",
    "time.time() - start_time"
   ]
  },
  {
   "cell_type": "code",
   "execution_count": 5,
   "id": "7fcee425-5657-4599-8e79-43189f2559f4",
   "metadata": {},
   "outputs": [],
   "source": [
    "dbpath = 'steamsale.db'\n",
    "conn   = sqlite3.connect(dbpath)\n",
    "cursor = conn.cursor()"
   ]
  },
  {
   "cell_type": "code",
   "execution_count": 6,
   "id": "0c8eab89-6bac-473f-8e05-f355a2f83d6a",
   "metadata": {},
   "outputs": [
    {
     "data": {
      "text/plain": [
       "<sqlite3.Cursor at 0x7f05f88eaea0>"
      ]
     },
     "execution_count": 6,
     "metadata": {},
     "output_type": "execute_result"
    }
   ],
   "source": [
    "query = \"\"\"\n",
    "CREATE TABLE IF NOT EXISTS steamsale(\n",
    "id INTEGER PRIMARY KEY AUTOINCREMENT,\n",
    "appid INTEGER NOT NULL,\n",
    "percent INTEGER NOT NULL,\n",
    "original INTEGER NOT NULL,\n",
    "discounted INTEGER NOT NULL,\n",
    "date DATE NOT NULL);\"\"\"\n",
    "\n",
    "cursor.execute(query)"
   ]
  },
  {
   "cell_type": "code",
   "execution_count": 7,
   "id": "e1e66d0a-f0e5-4bf7-aae0-5464a0a01c62",
   "metadata": {},
   "outputs": [
    {
     "name": "stdout",
     "output_type": "stream",
     "text": [
      "list index out of range\n",
      "list index out of range\n",
      "list index out of range\n",
      "list index out of range\n",
      "list index out of range\n",
      "list index out of range\n",
      "list index out of range\n",
      "list index out of range\n",
      "list index out of range\n",
      "list index out of range\n",
      "list index out of range\n",
      "list index out of range\n"
     ]
    }
   ],
   "source": [
    "def preprop(string, dtype = 'discount'): \n",
    "    \n",
    "    if dtype == 'discount': string = string.replace(' ', '').split('₩')[-1]\n",
    "    string = string.replace(',', '').replace('₩', '')\n",
    "    \n",
    "    return int(string)\n",
    "    \n",
    "\n",
    "sale_list = []\n",
    "for idx, sale in enumerate(sales):\n",
    "    try:\n",
    "        appid      = sale['data-ds-appid']\n",
    "\n",
    "        percent    = sale.select('.search_discount > span')[0].text\n",
    "        percent    = int(percent.replace('-', '').replace('%', ''))\n",
    "\n",
    "        original   = preprop(sale.select('strike')[0].text)\n",
    "        discounted = preprop(sale.select(\".discounted\")[0].text)\n",
    "\n",
    "        today = f'{Y}-{str(M).zfill(2)}-{str(D).zfill(2)}'\n",
    "        query = f\"\"\"\n",
    "                INSERT INTO steamsale\n",
    "                (appid, percent, original, discounted, date)\n",
    "                VALUES({appid}, {percent}, {original}, {discounted}, {today});\n",
    "                \"\"\"\n",
    "\n",
    "        cursor.execute(query)\n",
    "              \n",
    "    except Exception as e: print(e)"
   ]
  },
  {
   "cell_type": "code",
   "execution_count": 8,
   "id": "e72e2ca8-3878-4b7c-8490-868abc0efcc1",
   "metadata": {},
   "outputs": [
    {
     "data": {
      "text/plain": [
       "'2023-01-11'"
      ]
     },
     "execution_count": 8,
     "metadata": {},
     "output_type": "execute_result"
    }
   ],
   "source": [
    "today"
   ]
  },
  {
   "cell_type": "code",
   "execution_count": 9,
   "id": "2f842956-e5fa-447d-a061-75b4d4311ede",
   "metadata": {},
   "outputs": [
    {
     "name": "stdout",
     "output_type": "stream",
     "text": [
      "Completed\n"
     ]
    }
   ],
   "source": [
    "with conn:\n",
    "    with open('backup.sql', 'w') as f:\n",
    "        for line in conn.iterdump():\n",
    "            f.write('%s\\n' % line)\n",
    "        print('Completed')"
   ]
  },
  {
   "cell_type": "code",
   "execution_count": 24,
   "id": "198ec8bb-d57f-4dca-83db-750d5089c2ef",
   "metadata": {},
   "outputs": [],
   "source": [
    "from collections import defaultdict\n",
    "\n",
    "## DB에 있는 데이터를 조회하는 함수\n",
    "def search_table(cursor, table_name, column = '*', **kwargs):\n",
    "    \n",
    "    try:\n",
    "        \n",
    "    if condition == None:\n",
    "        query = f\"\"\"\n",
    "                    SELECT {column} FROM {table_name}\n",
    "                \"\"\"\n",
    "        \n",
    "    else:\n",
    "        ## WHERE 문으로 찾을 column과 데이터를  \n",
    "        column, data = condition\n",
    "    cursor.execute(query)\n",
    "    \n",
    "    ## how_many가 음수가 된다면 모든 데이터를 조회해준다.\n",
    "    return cursor.fetchmany(how_many)"
   ]
  },
  {
   "cell_type": "code",
   "execution_count": 27,
   "id": "fac1286b-ece8-498f-a7b0-c0dd27ee521a",
   "metadata": {},
   "outputs": [
    {
     "data": {
      "text/plain": [
       "(1, 648800, 33, 21000, 14070, 2011)"
      ]
     },
     "execution_count": 27,
     "metadata": {},
     "output_type": "execute_result"
    }
   ],
   "source": [
    "search_table(cursor, 'steamsale', how_many = 1)"
   ]
  },
  {
   "cell_type": "code",
   "execution_count": null,
   "id": "2ff02c09-7525-4306-826f-3fd2249bf213",
   "metadata": {},
   "outputs": [],
   "source": []
  }
 ],
 "metadata": {
  "kernelspec": {
   "display_name": "dove",
   "language": "python",
   "name": "dove"
  },
  "language_info": {
   "codemirror_mode": {
    "name": "ipython",
    "version": 3
   },
   "file_extension": ".py",
   "mimetype": "text/x-python",
   "name": "python",
   "nbconvert_exporter": "python",
   "pygments_lexer": "ipython3",
   "version": "3.8.13"
  }
 },
 "nbformat": 4,
 "nbformat_minor": 5
}
