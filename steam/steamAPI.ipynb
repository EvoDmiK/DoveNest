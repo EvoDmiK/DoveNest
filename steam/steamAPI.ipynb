{
 "cells": [
  {
   "cell_type": "markdown",
   "id": "2eb8b9bc-f4d0-4f71-bd9a-6b026049fea1",
   "metadata": {},
   "source": [
    "# 99. 자료 출처\n",
    "## 99-1. 블로그\n",
    "- 위저원의 블로그 : Build a Steam Game Recomend Model (1/?) - 데이터 수집 경로 설정하기 | [[블로그 링크]](https://weejw.tistory.com/555)"
   ]
  },
  {
   "cell_type": "code",
   "execution_count": 1,
   "id": "ae3d4c64-975f-4e81-afc0-3c92eebd7dcd",
   "metadata": {},
   "outputs": [],
   "source": [
    "from multiprocessing import Pool, Process\n",
    "import pandas as pd\n",
    "import requests\n",
    "import os, re\n",
    "import time\n",
    "import json"
   ]
  },
  {
   "cell_type": "code",
   "execution_count": 2,
   "id": "d77620c8-fc16-446f-aca8-ecc3626224fa",
   "metadata": {},
   "outputs": [],
   "source": [
    "def return_or_print(response):\n",
    "    \n",
    "    if response.status_code == 200: return response.json()\n",
    "    else: print(f'no response data with code : {response.status_code}')\n",
    "\n",
    "    \n",
    "get_api  = lambda url: return_or_print(requests.get(url))\n",
    "\n",
    "def get_info(appid):\n",
    "    \n",
    "    response = requests.get(f'https://store.steampowered.com/api/appdetails?appids={appid}&l=korean')\n",
    "    return return_or_print(response)\n",
    "    \n",
    "    \n",
    "def get_reviews(appid):\n",
    "    \n",
    "    response = requests.get(f'https://store.steampowered.com/appreviews/{appid}?json=1')\n",
    "    return return_or_print(response)\n",
    "\n",
    "\n",
    "def get_requirements(info, platform = 'pc', typeof = 'minimum'):\n",
    "    \n",
    "    assert platform in ['pc', 'linux', 'mac'], 'platform must be pc, linux and mac'\n",
    "    assert typeof in ['minimum', 'recommended'], 'type of must be minimum, recommended'\n",
    "    \n",
    "    requirements = info[f'{platform}_requirements'][typeof]\n",
    "    requirements = re.sub('(<([^>]+)>)', '\\n', requirements)\n",
    "    \n",
    "    requirements = requirements.split('\\n')\n",
    "    requirements = [req for req in requirements if req != '']\n",
    "    \n",
    "    result = {}\n",
    "    for idx in range(1, len(requirements), 2): \n",
    "        \n",
    "        print(requirements[idx: idx + 2])\n",
    "        key, value = requirements[idx: idx + 2]\n",
    "        result[key] = value\n",
    "        \n",
    "    return result"
   ]
  },
  {
   "cell_type": "code",
   "execution_count": 3,
   "id": "7c093577-98af-4ad8-beaf-5c7caefce0f0",
   "metadata": {},
   "outputs": [],
   "source": [
    "steam_games = get_api('https://api.steampowered.com/ISteamApps/GetAppList/v2')['applist']['apps']"
   ]
  },
  {
   "cell_type": "code",
   "execution_count": 4,
   "id": "04baecca-4f25-44ec-b4d3-e80411b0ae3f",
   "metadata": {},
   "outputs": [],
   "source": [
    "appid = steam_games[-3]['appid']\n",
    "info  = get_info(appid)[str(appid)]['data']"
   ]
  },
  {
   "cell_type": "code",
   "execution_count": 5,
   "id": "b354c0ab-3ef1-4855-9d95-3c3a2dd43bc5",
   "metadata": {},
   "outputs": [],
   "source": [
    "name, typeof      = info['name'], info['type']\n",
    "appid, is_free    = info['steam_appid'], info['is_free']\n",
    "short_description = info['short_description']\n",
    "languages         = info['supported_languages']\n",
    "image             = info['header_image']\n",
    "web_site          = info['website']\n",
    "platforms         = info['platforms']\n",
    "release_date      = info['release_date']"
   ]
  },
  {
   "cell_type": "code",
   "execution_count": null,
   "id": "6d379ca7-7727-4f36-a38e-96e3e23ede7a",
   "metadata": {},
   "outputs": [],
   "source": [
    "get_reviews(appid)"
   ]
  },
  {
   "cell_type": "code",
   "execution_count": null,
   "id": "7e7d37d9-3dfd-4962-822a-cb1219992cad",
   "metadata": {},
   "outputs": [],
   "source": [
    "get_info(appid)[str(appid)]"
   ]
  },
  {
   "cell_type": "code",
   "execution_count": 10,
   "id": "ffbe4efa-4af8-4c9b-9d77-9b109ae9e404",
   "metadata": {},
   "outputs": [
    {
     "data": {
      "text/plain": [
       "{'type': 'game',\n",
       " 'name': 'Tonikk Tycoon',\n",
       " 'steam_appid': 1941400,\n",
       " 'required_age': 0,\n",
       " 'is_free': False,\n",
       " 'controller_support': 'full',\n",
       " 'detailed_description': 'TONIKK TYCOON은 일련의 직업으로 돈을 벌 수있는 오픈 월드 거물 시뮬레이터입니다.<br />\\r\\n그 돈을 사용하여 회사와 공장을 건설하십시오. 주위를 돌아 다닐 수있는 완전한 자유가 주어집니다.<br />\\r\\n도시, 분석 작업의 번호를 완료하고, 당신이 제공 한 도구로 주위를 나사.<br />\\r\\n<br />\\r\\n고도로 사용자 정의 할 수있는 샌드 박스를 사용하면 얼마나 빨리 억만 장자가 될 수 있는지 스스로 시간을 할애 할 수 있습니다.<br />\\r\\n진행 시스템과 함께 당신은 부자가되는 다양한 방법, 올바른 방법을 배울 수 있습니다!<br />\\r\\n<br />\\r\\n주요 기능<br />\\r\\n<br />\\r\\n- 개인 자동차 구매 및 수정<br />\\r\\n<br />\\r\\n- 주택 구매 및 장식<br />\\r\\n<br />\\r\\n- 보석 가게 나 은행을 강탈하는 것과 같은 범죄 행위를 견뎌내어 빠른 현금을 만드십시오.<br />\\r\\n수많은 경찰과 싸우는 동안]<br />\\r\\n<br />\\r\\n- 이익을 창출하기 위해 주식을 사고 파는 것<br />\\r\\n<br />\\r\\n- 도로에서 자동차를 훔쳐서 대리점에서 판매하십시오.<br />\\r\\n<br />\\r\\n- 석유 타이쿤에 거대한 석유 굴착 장치와 저장 컨테이너를 건설하고 도시 전역을 운행하는 열차에서 석유를 판매하십시오.',\n",
       " 'about_the_game': 'TONIKK TYCOON은 일련의 직업으로 돈을 벌 수있는 오픈 월드 거물 시뮬레이터입니다.<br />\\r\\n그 돈을 사용하여 회사와 공장을 건설하십시오. 주위를 돌아 다닐 수있는 완전한 자유가 주어집니다.<br />\\r\\n도시, 분석 작업의 번호를 완료하고, 당신이 제공 한 도구로 주위를 나사.<br />\\r\\n<br />\\r\\n고도로 사용자 정의 할 수있는 샌드 박스를 사용하면 얼마나 빨리 억만 장자가 될 수 있는지 스스로 시간을 할애 할 수 있습니다.<br />\\r\\n진행 시스템과 함께 당신은 부자가되는 다양한 방법, 올바른 방법을 배울 수 있습니다!<br />\\r\\n<br />\\r\\n주요 기능<br />\\r\\n<br />\\r\\n- 개인 자동차 구매 및 수정<br />\\r\\n<br />\\r\\n- 주택 구매 및 장식<br />\\r\\n<br />\\r\\n- 보석 가게 나 은행을 강탈하는 것과 같은 범죄 행위를 견뎌내어 빠른 현금을 만드십시오.<br />\\r\\n수많은 경찰과 싸우는 동안]<br />\\r\\n<br />\\r\\n- 이익을 창출하기 위해 주식을 사고 파는 것<br />\\r\\n<br />\\r\\n- 도로에서 자동차를 훔쳐서 대리점에서 판매하십시오.<br />\\r\\n<br />\\r\\n- 석유 타이쿤에 거대한 석유 굴착 장치와 저장 컨테이너를 건설하고 도시 전역을 운행하는 열차에서 석유를 판매하십시오.',\n",
       " 'short_description': 'Tonikk Tycoon은 돈을 벌 수 있는 오픈 월드 시뮬레이터입니다. 식당에서 일하는 평범한 직장에서 여러 사업체를 소유하고 개인 자동차로 가득 찬 차고가 있는 거대한 집을 소유하십시오!',\n",
       " 'supported_languages': '영어<strong>*</strong><br><strong>*</strong>음성이 지원되는 언어',\n",
       " 'header_image': 'https://cdn.akamai.steamstatic.com/steam/apps/1941400/header.jpg?t=1669584771',\n",
       " 'website': None,\n",
       " 'pc_requirements': {'minimum': '<strong>최소:</strong><br><ul class=\"bb_ul\"><li><strong>운영체제:</strong> Windows 10 64 Bit, Windows 8.1 64 Bit<br></li><li><strong>프로세서:</strong> Intel Core 2 Quad CPU Q6600 @ 2.40GHz (4 CPUs) / AMD Phenom 9850 Quad-Core Processor (4 CPUs) @ 2.5GHz<br></li><li><strong>메모리:</strong> 4 GB RAM<br></li><li><strong>그래픽:</strong> NVIDIA 9800 GT 1GB<br></li><li><strong>DirectX:</strong> 버전 10<br></li><li><strong>저장공간:</strong> 850 MB 사용 가능 공간<br></li><li><strong>사운드카드:</strong> DirectX 10 Compatible</li></ul>',\n",
       "  'recommended': '<strong>권장:</strong><br><ul class=\"bb_ul\"><li><strong>운영체제:</strong> Windows 10 64 Bit, Windows 8.1 64 Bit<br></li><li><strong>프로세서:</strong> Intel Core i5 3470 @ 3.2GHz (4 CPUs) / AMD X8 FX-8350 @ 4GHz (8 CPUs)<br></li><li><strong>메모리:</strong> 8 GB RAM<br></li><li><strong>그래픽:</strong> NVIDIA GTX 660 2GB<br></li><li><strong>DirectX:</strong> 버전 10<br></li><li><strong>저장공간:</strong> 850 MB 사용 가능 공간<br></li><li><strong>사운드카드:</strong> DirectX 10 Compatible</li></ul>'},\n",
       " 'mac_requirements': [],\n",
       " 'linux_requirements': [],\n",
       " 'developers': ['Devin Carlson'],\n",
       " 'publishers': ['CyberTonikk Studio'],\n",
       " 'price_overview': {'currency': 'KRW',\n",
       "  'initial': 1050000,\n",
       "  'final': 315000,\n",
       "  'discount_percent': 70,\n",
       "  'initial_formatted': '₩ 10,500',\n",
       "  'final_formatted': '₩ 3,150'},\n",
       " 'packages': [705162],\n",
       " 'package_groups': [{'name': 'default',\n",
       "   'title': 'Tonikk Tycoon 구매',\n",
       "   'description': '',\n",
       "   'selection_text': '구매 옵션을 선택하세요',\n",
       "   'save_text': '',\n",
       "   'display_type': 0,\n",
       "   'is_recurring_subscription': 'false',\n",
       "   'subs': [{'packageid': 705162,\n",
       "     'percent_savings_text': '-70% ',\n",
       "     'percent_savings': 0,\n",
       "     'option_text': 'Tonikk Tycoon - <span class=\"discount_original_price\">₩ 10,500</span> ₩ 3,150',\n",
       "     'option_description': '',\n",
       "     'can_get_free_license': '0',\n",
       "     'is_free_license': False,\n",
       "     'price_in_cents_with_discount': 315000}]}],\n",
       " 'platforms': {'windows': True, 'mac': False, 'linux': False},\n",
       " 'categories': [{'id': 2, 'description': '싱글 플레이어'},\n",
       "  {'id': 22, 'description': 'Steam 도전 과제'},\n",
       "  {'id': 28, 'description': '컨트롤러 완벽 지원'},\n",
       "  {'id': 25, 'description': 'Steam 순위표'}],\n",
       " 'genres': [{'id': '1', 'description': '액션'},\n",
       "  {'id': '4', 'description': '캐주얼'},\n",
       "  {'id': '23', 'description': '인디'},\n",
       "  {'id': '9', 'description': '레이싱'},\n",
       "  {'id': '28', 'description': '시뮬레이션'},\n",
       "  {'id': '2', 'description': '전략'}],\n",
       " 'screenshots': [{'id': 0,\n",
       "   'path_thumbnail': 'https://cdn.akamai.steamstatic.com/steam/apps/1941400/ss_842d545418f5bbd845afeab02f8f42d35394bc6f.600x338.jpg?t=1669584771',\n",
       "   'path_full': 'https://cdn.akamai.steamstatic.com/steam/apps/1941400/ss_842d545418f5bbd845afeab02f8f42d35394bc6f.1920x1080.jpg?t=1669584771'},\n",
       "  {'id': 1,\n",
       "   'path_thumbnail': 'https://cdn.akamai.steamstatic.com/steam/apps/1941400/ss_8ddafd4b417eaef37fa29ed155420e7d47111c70.600x338.jpg?t=1669584771',\n",
       "   'path_full': 'https://cdn.akamai.steamstatic.com/steam/apps/1941400/ss_8ddafd4b417eaef37fa29ed155420e7d47111c70.1920x1080.jpg?t=1669584771'},\n",
       "  {'id': 2,\n",
       "   'path_thumbnail': 'https://cdn.akamai.steamstatic.com/steam/apps/1941400/ss_3412f904df2534f764e6c188b762b62ea17e3d3a.600x338.jpg?t=1669584771',\n",
       "   'path_full': 'https://cdn.akamai.steamstatic.com/steam/apps/1941400/ss_3412f904df2534f764e6c188b762b62ea17e3d3a.1920x1080.jpg?t=1669584771'},\n",
       "  {'id': 3,\n",
       "   'path_thumbnail': 'https://cdn.akamai.steamstatic.com/steam/apps/1941400/ss_5c293fb295a1511dcf82fb243fa0185796f09459.600x338.jpg?t=1669584771',\n",
       "   'path_full': 'https://cdn.akamai.steamstatic.com/steam/apps/1941400/ss_5c293fb295a1511dcf82fb243fa0185796f09459.1920x1080.jpg?t=1669584771'},\n",
       "  {'id': 4,\n",
       "   'path_thumbnail': 'https://cdn.akamai.steamstatic.com/steam/apps/1941400/ss_d3254b4a750a7137a35eac0bfb9ce48c7ed93b61.600x338.jpg?t=1669584771',\n",
       "   'path_full': 'https://cdn.akamai.steamstatic.com/steam/apps/1941400/ss_d3254b4a750a7137a35eac0bfb9ce48c7ed93b61.1920x1080.jpg?t=1669584771'},\n",
       "  {'id': 5,\n",
       "   'path_thumbnail': 'https://cdn.akamai.steamstatic.com/steam/apps/1941400/ss_4fb3d6f86846dd47439de23e62a51d82c4ecd668.600x338.jpg?t=1669584771',\n",
       "   'path_full': 'https://cdn.akamai.steamstatic.com/steam/apps/1941400/ss_4fb3d6f86846dd47439de23e62a51d82c4ecd668.1920x1080.jpg?t=1669584771'},\n",
       "  {'id': 6,\n",
       "   'path_thumbnail': 'https://cdn.akamai.steamstatic.com/steam/apps/1941400/ss_b47fb660e6cbe39b53d66390185849a801497717.600x338.jpg?t=1669584771',\n",
       "   'path_full': 'https://cdn.akamai.steamstatic.com/steam/apps/1941400/ss_b47fb660e6cbe39b53d66390185849a801497717.1920x1080.jpg?t=1669584771'},\n",
       "  {'id': 7,\n",
       "   'path_thumbnail': 'https://cdn.akamai.steamstatic.com/steam/apps/1941400/ss_5fb7247563f6b71a1155f1aaf9a7fa03f60a0ad9.600x338.jpg?t=1669584771',\n",
       "   'path_full': 'https://cdn.akamai.steamstatic.com/steam/apps/1941400/ss_5fb7247563f6b71a1155f1aaf9a7fa03f60a0ad9.1920x1080.jpg?t=1669584771'},\n",
       "  {'id': 8,\n",
       "   'path_thumbnail': 'https://cdn.akamai.steamstatic.com/steam/apps/1941400/ss_ffffe53bc17af5a1ff05c7bf22261777427536c6.600x338.jpg?t=1669584771',\n",
       "   'path_full': 'https://cdn.akamai.steamstatic.com/steam/apps/1941400/ss_ffffe53bc17af5a1ff05c7bf22261777427536c6.1920x1080.jpg?t=1669584771'},\n",
       "  {'id': 9,\n",
       "   'path_thumbnail': 'https://cdn.akamai.steamstatic.com/steam/apps/1941400/ss_9a2004a7cbc54fd459b336b644544fd35f11d244.600x338.jpg?t=1669584771',\n",
       "   'path_full': 'https://cdn.akamai.steamstatic.com/steam/apps/1941400/ss_9a2004a7cbc54fd459b336b644544fd35f11d244.1920x1080.jpg?t=1669584771'},\n",
       "  {'id': 10,\n",
       "   'path_thumbnail': 'https://cdn.akamai.steamstatic.com/steam/apps/1941400/ss_027e869dee758db58041609d2b9d3c9a5ef6e610.600x338.jpg?t=1669584771',\n",
       "   'path_full': 'https://cdn.akamai.steamstatic.com/steam/apps/1941400/ss_027e869dee758db58041609d2b9d3c9a5ef6e610.1920x1080.jpg?t=1669584771'},\n",
       "  {'id': 11,\n",
       "   'path_thumbnail': 'https://cdn.akamai.steamstatic.com/steam/apps/1941400/ss_72c36cae2df7160579507aca09259952366937a4.600x338.jpg?t=1669584771',\n",
       "   'path_full': 'https://cdn.akamai.steamstatic.com/steam/apps/1941400/ss_72c36cae2df7160579507aca09259952366937a4.1920x1080.jpg?t=1669584771'},\n",
       "  {'id': 12,\n",
       "   'path_thumbnail': 'https://cdn.akamai.steamstatic.com/steam/apps/1941400/ss_83ab07e86a61ba6bcd6af282d1251068cf07964f.600x338.jpg?t=1669584771',\n",
       "   'path_full': 'https://cdn.akamai.steamstatic.com/steam/apps/1941400/ss_83ab07e86a61ba6bcd6af282d1251068cf07964f.1920x1080.jpg?t=1669584771'},\n",
       "  {'id': 13,\n",
       "   'path_thumbnail': 'https://cdn.akamai.steamstatic.com/steam/apps/1941400/ss_079385ce4da60555018c986c1b80e66e65c61ee5.600x338.jpg?t=1669584771',\n",
       "   'path_full': 'https://cdn.akamai.steamstatic.com/steam/apps/1941400/ss_079385ce4da60555018c986c1b80e66e65c61ee5.1920x1080.jpg?t=1669584771'},\n",
       "  {'id': 14,\n",
       "   'path_thumbnail': 'https://cdn.akamai.steamstatic.com/steam/apps/1941400/ss_513a8972bf9915113c14a96d536d27a505dde980.600x338.jpg?t=1669584771',\n",
       "   'path_full': 'https://cdn.akamai.steamstatic.com/steam/apps/1941400/ss_513a8972bf9915113c14a96d536d27a505dde980.1920x1080.jpg?t=1669584771'},\n",
       "  {'id': 15,\n",
       "   'path_thumbnail': 'https://cdn.akamai.steamstatic.com/steam/apps/1941400/ss_954df4cff8e4da76ed6ac80bb69e50534ef4ec07.600x338.jpg?t=1669584771',\n",
       "   'path_full': 'https://cdn.akamai.steamstatic.com/steam/apps/1941400/ss_954df4cff8e4da76ed6ac80bb69e50534ef4ec07.1920x1080.jpg?t=1669584771'},\n",
       "  {'id': 16,\n",
       "   'path_thumbnail': 'https://cdn.akamai.steamstatic.com/steam/apps/1941400/ss_ae056cde518674329942652848c002e2c04fd8db.600x338.jpg?t=1669584771',\n",
       "   'path_full': 'https://cdn.akamai.steamstatic.com/steam/apps/1941400/ss_ae056cde518674329942652848c002e2c04fd8db.1920x1080.jpg?t=1669584771'},\n",
       "  {'id': 17,\n",
       "   'path_thumbnail': 'https://cdn.akamai.steamstatic.com/steam/apps/1941400/ss_9191d9e5932c3edece0fd86e44862372963104c3.600x338.jpg?t=1669584771',\n",
       "   'path_full': 'https://cdn.akamai.steamstatic.com/steam/apps/1941400/ss_9191d9e5932c3edece0fd86e44862372963104c3.1920x1080.jpg?t=1669584771'},\n",
       "  {'id': 18,\n",
       "   'path_thumbnail': 'https://cdn.akamai.steamstatic.com/steam/apps/1941400/ss_a0ed389448e5c1b1e0fcbe8011d18982891f14da.600x338.jpg?t=1669584771',\n",
       "   'path_full': 'https://cdn.akamai.steamstatic.com/steam/apps/1941400/ss_a0ed389448e5c1b1e0fcbe8011d18982891f14da.1920x1080.jpg?t=1669584771'}],\n",
       " 'achievements': {'total': 11,\n",
       "  'highlighted': [{'name': '10 Points!',\n",
       "    'path': 'https://cdn.akamai.steamstatic.com/steamcommunity/public/images/apps/1941400/671eeb445229c53f94c2df388cc4de88bdc43a71.jpg'},\n",
       "   {'name': \"Something doesn't feel right...\",\n",
       "    'path': 'https://cdn.akamai.steamstatic.com/steamcommunity/public/images/apps/1941400/1c0ee8c18416f35e8cd2c2fee12d86772002a41c.jpg'},\n",
       "   {'name': 'First time home buyer!',\n",
       "    'path': 'https://cdn.akamai.steamstatic.com/steamcommunity/public/images/apps/1941400/039326e328bee66379490d9fcc38720d7fbd3e4a.jpg'},\n",
       "   {'name': 'Real Estate Tycoon!!!',\n",
       "    'path': 'https://cdn.akamai.steamstatic.com/steamcommunity/public/images/apps/1941400/0c98c82d5159d3671f78e24056f1c41f2e23ba4b.jpg'},\n",
       "   {'name': 'An honest living',\n",
       "    'path': 'https://cdn.akamai.steamstatic.com/steamcommunity/public/images/apps/1941400/7dd057499e95851285384198a85f55c195b886d2.jpg'},\n",
       "   {'name': 'A Literal God',\n",
       "    'path': 'https://cdn.akamai.steamstatic.com/steamcommunity/public/images/apps/1941400/fe7acfef1cacef42eac36179f9bd08c2425d929a.jpg'},\n",
       "   {'name': 'TURKEY',\n",
       "    'path': 'https://cdn.akamai.steamstatic.com/steamcommunity/public/images/apps/1941400/04eb175649b6dc22a50ee56de957db0980266f42.jpg'},\n",
       "   {'name': 'Pimp my ride',\n",
       "    'path': 'https://cdn.akamai.steamstatic.com/steamcommunity/public/images/apps/1941400/3713125818d6a2df7f72945676983481594aa325.jpg'},\n",
       "   {'name': \"I've got a problem.\",\n",
       "    'path': 'https://cdn.akamai.steamstatic.com/steamcommunity/public/images/apps/1941400/309809b9d6b7a6c50d252a38be3a927c47fefe28.jpg'},\n",
       "   {'name': 'TO THE MOON',\n",
       "    'path': 'https://cdn.akamai.steamstatic.com/steamcommunity/public/images/apps/1941400/aab339d78f859a331fc2087b51fb5eac88ee5b61.jpg'}]},\n",
       " 'release_date': {'coming_soon': False, 'date': '2022년 4월 13일'},\n",
       " 'support_info': {'url': 'https://www.reddit.com/r/TonikkTyc/',\n",
       "  'email': 'devin1810@gmail.com'},\n",
       " 'background': 'https://cdn.akamai.steamstatic.com/steam/apps/1941400/page_bg_generated_v6b.jpg?t=1669584771',\n",
       " 'background_raw': 'https://cdn.akamai.steamstatic.com/steam/apps/1941400/page.bg.jpg?t=1669584771',\n",
       " 'content_descriptors': {'ids': [], 'notes': None}}"
      ]
     },
     "execution_count": 10,
     "metadata": {},
     "output_type": "execute_result"
    }
   ],
   "source": [
    "info"
   ]
  },
  {
   "cell_type": "code",
   "execution_count": 11,
   "id": "4d34cb82-966c-4de6-80a5-ff6b5e677f15",
   "metadata": {},
   "outputs": [
    {
     "data": {
      "text/plain": [
       "('Tonikk Tycoon',\n",
       " [{'id': '1', 'description': '액션'},\n",
       "  {'id': '4', 'description': '캐주얼'},\n",
       "  {'id': '23', 'description': '인디'},\n",
       "  {'id': '9', 'description': '레이싱'},\n",
       "  {'id': '28', 'description': '시뮬레이션'},\n",
       "  {'id': '2', 'description': '전략'}])"
      ]
     },
     "execution_count": 11,
     "metadata": {},
     "output_type": "execute_result"
    }
   ],
   "source": [
    "info['name'], info['genres']"
   ]
  },
  {
   "cell_type": "code",
   "execution_count": null,
   "id": "e19fe468-6881-4caa-b131-d4e3d29bf4c7",
   "metadata": {},
   "outputs": [],
   "source": []
  }
 ],
 "metadata": {
  "kernelspec": {
   "display_name": "dove",
   "language": "python",
   "name": "dove"
  },
  "language_info": {
   "codemirror_mode": {
    "name": "ipython",
    "version": 3
   },
   "file_extension": ".py",
   "mimetype": "text/x-python",
   "name": "python",
   "nbconvert_exporter": "python",
   "pygments_lexer": "ipython3",
   "version": "3.8.13"
  }
 },
 "nbformat": 4,
 "nbformat_minor": 5
}
