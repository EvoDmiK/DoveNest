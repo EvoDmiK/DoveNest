{
 "cells": [
  {
   "cell_type": "code",
   "execution_count": 1,
   "id": "0be284f5-de5b-49e8-adc2-e02170fe3afb",
   "metadata": {},
   "outputs": [],
   "source": [
    "from multiprocessing import Pool, Process\n",
    "from datetime import datetime\n",
    "import traceback\n",
    "import requests\n",
    "import os, re\n",
    "import time\n",
    "import json"
   ]
  },
  {
   "cell_type": "code",
   "execution_count": 2,
   "id": "8401c146-9dca-4359-ae0e-c209cbd6aaae",
   "metadata": {},
   "outputs": [],
   "source": [
    "IS_JUPYTER = True\n",
    "ROOT_PATH  = '/home/jovyan/project' if IS_JUPYTER else '/config/workspace/project'\n",
    "\n",
    "JSON_PATH        = f'{ROOT_PATH}/utils/keys'\n",
    "JSON_BACKUP_PATH = f'{ROOT_PATH}/BACKUPS/keys'"
   ]
  },
  {
   "cell_type": "code",
   "execution_count": 3,
   "id": "5eca5a9f-3b81-469b-8f8c-ce332553c0ae",
   "metadata": {},
   "outputs": [],
   "source": [
    "load_json = lambda json_path: json.loads(open(json_path, 'r').read())\n",
    "save_json = lambda data, json_path: json.dump(data, open(json_path, 'w'))\n",
    "\n",
    "def repair_keys(json_path):\n",
    "    try: keys = load_json(f'{json_path}/keys.json')\n",
    "        \n",
    "    except Exception as e:\n",
    "        print(f'[ERR.K-002] json 파일이 깨져 열 수 없습니다. {e}')\n",
    "        text = open(f'{JSON_BACKUP_PATH}/keys.txt', 'r').read().split('\\n')\n",
    "        keys = {platform : key \n",
    "                for platform, key in zip(['youtube', 'steam'], text)}\n",
    "        \n",
    "        save_paths = [JSON_PATH, JSON_BACKUP_PATH]\n",
    "        \n",
    "        print(save_paths)\n",
    "        for save_path in save_paths:\n",
    "            \n",
    "            print(save_path)\n",
    "            os.makedirs(save_path, exist_ok = True)\n",
    "            save_json(keys, f'{save_path}/keys.json')\n",
    "        \n",
    "    finally: return keys\n",
    "\n",
    "def return_or_print(response):\n",
    "    \n",
    "    if response.status_code == 200: return response.json()\n",
    "    else: print(f'no response data with code : {response.status_code}')\n",
    "\n",
    "    \n",
    "get_api  = lambda url: return_or_print(requests.get(url))\n",
    "\n",
    "def get_info(appid):\n",
    "    \n",
    "    response = requests.get(f'https://store.steampowered.com/api/appdetails?appids={appid}&l=korean')\n",
    "    return return_or_print(response)"
   ]
  },
  {
   "cell_type": "code",
   "execution_count": 4,
   "id": "ffb3b3b2-e533-451e-9587-268ee74d6927",
   "metadata": {},
   "outputs": [],
   "source": [
    "if os.path.isfile(f'{JSON_PATH}/keys.json'):\n",
    "    key = repair_keys(JSON_PATH)['steam']\n",
    "        \n",
    "else:\n",
    "    print(f'[ERR.K-001] json 파일이 존재하지 않아 백업 데이터를 로딩합니다.')\n",
    "    key = repair_keys(JSON_BACKUP_PATH)['steam']"
   ]
  },
  {
   "cell_type": "code",
   "execution_count": 5,
   "id": "49b6c208-cb53-4d5f-a6aa-b060f184c52f",
   "metadata": {},
   "outputs": [],
   "source": [
    "unix2datetime = lambda unixtime: str(datetime.fromtimestamp(unixtime))\n",
    "def get_user_library(key, games):\n",
    "    \n",
    "    library_url = f'''https://api.steampowered.com/IPlayerService/GetOwnedGames/v0001/?key={key}&steamid={user_id}&format=json'''\n",
    "    games = get_api(library_url)['response']['games']\n",
    "    \n",
    "    user_datas = []\n",
    "    for game in games:\n",
    "        try:\n",
    "            last_play_time = unix2datetime(game['rtime_last_played'])\n",
    "            \n",
    "            info = [game['appid'], game['playtime_forever'], str(last_play_time)]\n",
    "            user_datas.append(info)\n",
    "            \n",
    "        except Exception as e:\n",
    "            print(traceback.format_exc(), e)\n",
    "            \n",
    "    return user_datas\n"
   ]
  },
  {
   "cell_type": "code",
   "execution_count": 6,
   "id": "f76b2707-53cc-49e3-b3ec-999c1361438d",
   "metadata": {},
   "outputs": [],
   "source": [
    "\n",
    "user_id = 76561198032052956\n",
    "game_info  = get_user_library(key, user_id)\n"
   ]
  },
  {
   "cell_type": "code",
   "execution_count": 7,
   "id": "8d90751b-251c-4e58-a252-b134e144dec1",
   "metadata": {},
   "outputs": [
    {
     "data": {
      "text/plain": [
       "152392"
      ]
     },
     "execution_count": 7,
     "metadata": {},
     "output_type": "execute_result"
    }
   ],
   "source": [
    "len(requests.get('https://api.steampowered.com/ISteamApps/GetAppList/v2/').json()['applist']['apps'])"
   ]
  },
  {
   "cell_type": "code",
   "execution_count": 9,
   "id": "2ef40872-2c63-4eec-ba37-b5c649454e19",
   "metadata": {},
   "outputs": [
    {
     "data": {
      "text/plain": [
       "0.07257914543151855"
      ]
     },
     "execution_count": 9,
     "metadata": {},
     "output_type": "execute_result"
    }
   ],
   "source": [
    "s = time.time()\n",
    "json.loads(open(f'jsons/1181910/1181910.json', 'r').read())\n",
    "time.time() - s"
   ]
  },
  {
   "cell_type": "code",
   "execution_count": null,
   "id": "8a0032c0-a6c9-4d63-8212-6e3c7d0cc435",
   "metadata": {},
   "outputs": [],
   "source": [
    "s = time.time()\n",
    "get_info(1647670)\n",
    "time.time() - s"
   ]
  },
  {
   "cell_type": "code",
   "execution_count": null,
   "id": "e52fb969-4f88-4680-bb5a-ac5707a734e9",
   "metadata": {},
   "outputs": [],
   "source": [
    "get_news = lambda appid: get_api(f'http://api.steampowered.com/ISteamNews/GetNewsForApp/v0002/?appid={appid}')\n"
   ]
  },
  {
   "cell_type": "code",
   "execution_count": null,
   "id": "afa1d504-3899-4fcc-be09-34775790e6fc",
   "metadata": {},
   "outputs": [],
   "source": [
    "news = get_news(1244370)\n",
    "news"
   ]
  },
  {
   "cell_type": "code",
   "execution_count": 16,
   "id": "a76965b1-8cb2-4712-b252-fcb03aa54f01",
   "metadata": {},
   "outputs": [],
   "source": [
    "from xml.dom.minidom import parseString"
   ]
  },
  {
   "cell_type": "code",
   "execution_count": 15,
   "id": "8442d7fc-c6f4-4d9c-ad4f-7b579c1cacf3",
   "metadata": {},
   "outputs": [],
   "source": [
    "response = requests.get('http://steamcommunity.com/id/KimHippo/games?tab=all&xml=1')"
   ]
  },
  {
   "cell_type": "code",
   "execution_count": 18,
   "id": "afe75a94-2bee-4762-afbf-3dcca76d71a0",
   "metadata": {},
   "outputs": [],
   "source": [
    "steamid = str(parseString(response.text.encode('utf-8')).getElementsByTagName('steamID64'))"
   ]
  },
  {
   "cell_type": "code",
   "execution_count": 24,
   "id": "66bf00b0-2a3a-4394-b7fa-95d35571815e",
   "metadata": {},
   "outputs": [
    {
     "data": {
      "text/plain": [
       "'<?xml version=\"1.0\" encoding=\"UTF-8\" standalone=\"yes\"?><response><error><![CDATA[The specified profile could not be found.]]></error></response>'"
      ]
     },
     "execution_count": 24,
     "metadata": {},
     "output_type": "execute_result"
    }
   ],
   "source": [
    "response.text"
   ]
  },
  {
   "cell_type": "code",
   "execution_count": null,
   "id": "3ebb122a-0659-4806-bc15-7ca617c9c1f7",
   "metadata": {},
   "outputs": [],
   "source": []
  }
 ],
 "metadata": {
  "kernelspec": {
   "display_name": "dove",
   "language": "python",
   "name": "dove"
  },
  "language_info": {
   "codemirror_mode": {
    "name": "ipython",
    "version": 3
   },
   "file_extension": ".py",
   "mimetype": "text/x-python",
   "name": "python",
   "nbconvert_exporter": "python",
   "pygments_lexer": "ipython3",
   "version": "3.8.13"
  }
 },
 "nbformat": 4,
 "nbformat_minor": 5
}
