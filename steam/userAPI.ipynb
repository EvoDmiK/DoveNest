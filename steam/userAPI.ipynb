{
 "cells": [
  {
   "cell_type": "code",
   "execution_count": 1,
   "id": "0be284f5-de5b-49e8-adc2-e02170fe3afb",
   "metadata": {},
   "outputs": [],
   "source": [
    "from imutils.paths import list_files\n",
    "from datetime import datetime\n",
    "import traceback\n",
    "import requests\n",
    "import os, re\n",
    "import time\n",
    "import json"
   ]
  },
  {
   "cell_type": "code",
   "execution_count": 2,
   "id": "8401c146-9dca-4359-ae0e-c209cbd6aaae",
   "metadata": {},
   "outputs": [],
   "source": [
    "IS_JUPYTER = True\n",
    "ROOT_PATH  = '/home/jovyan/project' if IS_JUPYTER else '/config/workspace/project'\n",
    "DATA_PATH  = f'{ROOT_PATH}/DoveNest/steam/jsons'\n",
    "\n",
    "JSON_PATH        = f'{ROOT_PATH}/utils/keys'\n",
    "JSON_BACKUP_PATH = f'{ROOT_PATH}/BACKUPS/keys'"
   ]
  },
  {
   "cell_type": "code",
   "execution_count": 3,
   "id": "5eca5a9f-3b81-469b-8f8c-ce332553c0ae",
   "metadata": {},
   "outputs": [],
   "source": [
    "unix2datetime = lambda unixtime: str(datetime.fromtimestamp(unixtime))\n",
    "load_json = lambda json_path: json.loads(open(json_path, 'r').read())\n",
    "save_json = lambda data, json_path: json.dump(data, open(json_path, 'w'))\n",
    "\n",
    "def repair_keys(json_path):\n",
    "    try: keys = load_json(f'{json_path}/keys.json')\n",
    "        \n",
    "    except Exception as e:\n",
    "        print(f'[ERR.K-002] json 파일이 깨져 열 수 없습니다. {e}')\n",
    "        text = open(f'{JSON_BACKUP_PATH}/keys.txt', 'r').read().split('\\n')\n",
    "        keys = {platform : key \n",
    "                for platform, key in zip(['youtube', 'steam'], text)}\n",
    "        \n",
    "        save_paths = [JSON_PATH, JSON_BACKUP_PATH]\n",
    "        \n",
    "        print(save_paths)\n",
    "        for save_path in save_paths:\n",
    "            \n",
    "            print(save_path)\n",
    "            os.makedirs(save_path, exist_ok = True)\n",
    "            save_json(keys, f'{save_path}/keys.json')\n",
    "        \n",
    "    finally: return keys\n",
    "\n",
    "def return_or_print(response):\n",
    "    \n",
    "    if response.status_code == 200: return response.json()\n",
    "    else: print(f'no response data with code : {response.status_code}')\n",
    "\n",
    "    \n",
    "get_api  = lambda url: return_or_print(requests.get(url))\n",
    "\n",
    "def get_info(appid):\n",
    "    \n",
    "    response = requests.get(f'https://store.steampowered.com/api/appdetails?appids={appid}&l=korean')\n",
    "    return return_or_print(response)"
   ]
  },
  {
   "cell_type": "code",
   "execution_count": 4,
   "id": "ffb3b3b2-e533-451e-9587-268ee74d6927",
   "metadata": {},
   "outputs": [],
   "source": [
    "if os.path.isfile(f'{JSON_PATH}/keys.json'):\n",
    "    key = repair_keys(JSON_PATH)['steam']\n",
    "        \n",
    "else:\n",
    "    print(f'[ERR.K-001] json 파일이 존재하지 않아 백업 데이터를 로딩합니다.')\n",
    "    key = repair_keys(JSON_BACKUP_PATH)['steam']"
   ]
  },
  {
   "cell_type": "code",
   "execution_count": 5,
   "id": "49b6c208-cb53-4d5f-a6aa-b060f184c52f",
   "metadata": {},
   "outputs": [],
   "source": [
    "\n",
    "def get_user_library(key, games):\n",
    "    \n",
    "    library_url = f'''https://api.steampowered.com/IPlayerService/GetOwnedGames/v0001/?key={key}&steamid={user_id}&format=json'''\n",
    "    games = get_api(library_url)['response']['games']\n",
    "    \n",
    "    user_datas = []\n",
    "    for game in games:\n",
    "        try:\n",
    "            last_play_time = unix2datetime(game['rtime_last_played'])\n",
    "            \n",
    "            info = [game['appid'], game['playtime_forever'], str(last_play_time)]\n",
    "            user_datas.append(info)\n",
    "            \n",
    "        except Exception as e:\n",
    "            print(traceback.format_exc(), e)\n",
    "            \n",
    "    return user_datas\n"
   ]
  },
  {
   "cell_type": "code",
   "execution_count": 6,
   "id": "f76b2707-53cc-49e3-b3ec-999c1361438d",
   "metadata": {},
   "outputs": [],
   "source": [
    "user_id   = 76561198032052956\n",
    "game_info = get_user_library(key, user_id)\n",
    "game_info = sorted(game_info, key = lambda x: x[1], reverse = True)"
   ]
  },
  {
   "cell_type": "code",
   "execution_count": 7,
   "id": "8d90751b-251c-4e58-a252-b134e144dec1",
   "metadata": {},
   "outputs": [
    {
     "data": {
      "text/plain": [
       "152736"
      ]
     },
     "execution_count": 7,
     "metadata": {},
     "output_type": "execute_result"
    }
   ],
   "source": [
    "## '23.01.06 10:41분 기준 152,735개\n",
    "len(requests.get('https://api.steampowered.com/ISteamApps/GetAppList/v2/').json()['applist']['apps'])"
   ]
  },
  {
   "cell_type": "code",
   "execution_count": 8,
   "id": "2ef40872-2c63-4eec-ba37-b5c649454e19",
   "metadata": {},
   "outputs": [],
   "source": [
    "def get_json(appid):\n",
    "    \n",
    "    json_path = f'{DATA_PATH}/{appid}/{appid}.json'\n",
    "    if os.path.isfile(json_path):\n",
    "        json_data = json.loads(open(json_path, 'r').read())\n",
    "        \n",
    "        return json_data\n",
    "\n",
    "    else:\n",
    "        print(f'[ERR-J0001] <{appid}> json 파일이 존재하지 않습니다.')\n",
    "        return {}"
   ]
  },
  {
   "cell_type": "code",
   "execution_count": 9,
   "id": "b4002199-e024-46d1-b4bd-23bb035164db",
   "metadata": {},
   "outputs": [
    {
     "name": "stdout",
     "output_type": "stream",
     "text": [
      "[ERR-J0001] <24840> json 파일이 존재하지 않습니다.\n",
      "[ERR-K0001] <24840> 가격정보를 제공하지 않습니다.\n",
      "\n",
      "[ERR-J0001] <21970> json 파일이 존재하지 않습니다.\n",
      "[ERR-K0001] <21970> 가격정보를 제공하지 않습니다.\n",
      "\n",
      "[ERR-K0001] <342370> 가격정보를 제공하지 않습니다.\n",
      "\n",
      "[ERR-J0001] <287450> json 파일이 존재하지 않습니다.\n",
      "[ERR-K0001] <287450> 가격정보를 제공하지 않습니다.\n",
      "\n",
      "[ERR-K0001] <730> 가격정보를 제공하지 않습니다.\n",
      "\n",
      "[ERR-K0001] <63380> 가격정보를 제공하지 않습니다.\n",
      "\n",
      "[ERR-K0001] <317600> 가격정보를 제공하지 않습니다.\n",
      "\n",
      "[ERR-K0001] <236390> 가격정보를 제공하지 않습니다.\n",
      "\n",
      "[ERR-K0001] <314420> 가격정보를 제공하지 않습니다.\n",
      "\n",
      "[ERR-K0001] <208480> 가격정보를 제공하지 않습니다.\n",
      "\n",
      "[ERR-K0001] <681590> 가격정보를 제공하지 않습니다.\n",
      "\n",
      "[ERR-K0001] <21910> 가격정보를 제공하지 않습니다.\n",
      "\n",
      "[ERR-J0001] <33910> json 파일이 존재하지 않습니다.\n",
      "[ERR-K0001] <33910> 가격정보를 제공하지 않습니다.\n",
      "\n",
      "[ERR-K0001] <44350> 가격정보를 제공하지 않습니다.\n",
      "\n",
      "[ERR-K0001] <44340> 가격정보를 제공하지 않습니다.\n",
      "\n",
      "[ERR-K0001] <230410> 가격정보를 제공하지 않습니다.\n",
      "\n",
      "[ERR-K0001] <304930> 가격정보를 제공하지 않습니다.\n",
      "\n",
      "[ERR-K0001] <21760> 가격정보를 제공하지 않습니다.\n",
      "\n",
      "[ERR-K0001] <335330> 가격정보를 제공하지 않습니다.\n",
      "\n",
      "[ERR-K0001] <1097150> 가격정보를 제공하지 않습니다.\n",
      "\n",
      "[ERR-J0001] <304050> json 파일이 존재하지 않습니다.\n",
      "[ERR-K0001] <304050> 가격정보를 제공하지 않습니다.\n",
      "\n",
      "[ERR-K0001] <547180> 가격정보를 제공하지 않습니다.\n",
      "\n",
      "[ERR-K0001] <2420> 가격정보를 제공하지 않습니다.\n",
      "\n",
      "[ERR-K0001] <341300> 가격정보를 제공하지 않습니다.\n",
      "\n",
      "[ERR-K0001] <98510> 가격정보를 제공하지 않습니다.\n",
      "\n",
      "[ERR-K0001] <317470> 가격정보를 제공하지 않습니다.\n",
      "\n",
      "[ERR-K0001] <4760> 가격정보를 제공하지 않습니다.\n",
      "\n",
      "[ERR-K0001] <672680> 가격정보를 제공하지 않습니다.\n",
      "\n",
      "[ERR-K0001] <224580> 가격정보를 제공하지 않습니다.\n",
      "\n",
      "[ERR-J0001] <2430> json 파일이 존재하지 않습니다.\n",
      "[ERR-K0001] <2430> 가격정보를 제공하지 않습니다.\n",
      "\n",
      "[ERR-K0001] <223710> 가격정보를 제공하지 않습니다.\n",
      "\n",
      "[ERR-K0001] <223750> 가격정보를 제공하지 않습니다.\n",
      "\n",
      "[ERR-K0001] <222900> 가격정보를 제공하지 않습니다.\n",
      "\n",
      "[ERR-J0001] <254000> json 파일이 존재하지 않습니다.\n",
      "[ERR-K0001] <254000> 가격정보를 제공하지 않습니다.\n",
      "\n",
      "[ERR-J0001] <254040> json 파일이 존재하지 않습니다.\n",
      "[ERR-K0001] <254040> 가격정보를 제공하지 않습니다.\n",
      "\n",
      "[ERR-J0001] <37030> json 파일이 존재하지 않습니다.\n",
      "[ERR-K0001] <37030> 가격정보를 제공하지 않습니다.\n",
      "\n",
      "[ERR-J0001] <219540> json 파일이 존재하지 않습니다.\n",
      "[ERR-K0001] <219540> 가격정보를 제공하지 않습니다.\n",
      "\n",
      "[ERR-K0001] <227940> 가격정보를 제공하지 않습니다.\n",
      "\n",
      "[ERR-J0001] <524440> json 파일이 존재하지 않습니다.\n",
      "[ERR-K0001] <524440> 가격정보를 제공하지 않습니다.\n",
      "\n",
      "[ERR-K0001] <368230> 가격정보를 제공하지 않습니다.\n",
      "\n",
      "[ERR-K0001] <588430> 가격정보를 제공하지 않습니다.\n",
      "\n",
      "[ERR-K0001] <203770> 가격정보를 제공하지 않습니다.\n",
      "\n",
      "[ERR-J0001] <654310> json 파일이 존재하지 않습니다.\n",
      "[ERR-K0001] <654310> 가격정보를 제공하지 않습니다.\n",
      "\n"
     ]
    }
   ],
   "source": [
    "for game in game_info:\n",
    "    \n",
    "    appid, _, _ = game\n",
    "    \n",
    "    try:\n",
    "        json_data           = get_json(appid)\n",
    "        \n",
    "        if 'price_overview' in json_data.keys():\n",
    "            discount_percentage = json_data['price_overview']['discount_percent']\n",
    "            if json_data == 0: print(discount_percentage, '\\n')\n",
    "            \n",
    "        else:\n",
    "            print(f'[ERR-K0001] <{appid}> 가격정보를 제공하지 않습니다.\\n')\n",
    "        \n",
    "    except Exception as e:\n",
    "        print(f'[ERR]<{appid}> {e}\\n')"
   ]
  },
  {
   "cell_type": "code",
   "execution_count": 10,
   "id": "a84e15bb-0791-4982-ab62-154e365cca45",
   "metadata": {},
   "outputs": [
    {
     "data": {
      "text/plain": [
       "['Ensemble Studios']"
      ]
     },
     "execution_count": 10,
     "metadata": {},
     "output_type": "execute_result"
    }
   ],
   "source": [
    "get_json(105450)['developers']"
   ]
  },
  {
   "cell_type": "code",
   "execution_count": 11,
   "id": "c1d0fadc-2317-4237-9a31-0d8103a0f0a0",
   "metadata": {},
   "outputs": [],
   "source": [
    "from bs4 import BeautifulSoup as bs"
   ]
  },
  {
   "cell_type": "code",
   "execution_count": 20,
   "id": "6db9e3e6-43ab-4cc3-b07b-49de9fe3e139",
   "metadata": {},
   "outputs": [
    {
     "data": {
      "text/plain": [
       "'tab1'"
      ]
     },
     "execution_count": 20,
     "metadata": {},
     "output_type": "execute_result"
    }
   ],
   "source": [
    "req  = requests.get('https://dove-nest.duckdns.org:333/exp/').text\n",
    "soup = bs(req, 'html.parser') \n",
    "soup.select('li.is_on > div')[0]['id']"
   ]
  },
  {
   "cell_type": "code",
   "execution_count": null,
   "id": "48894850-f06d-41a4-9b64-9b88e89501ba",
   "metadata": {},
   "outputs": [],
   "source": []
  }
 ],
 "metadata": {
  "kernelspec": {
   "display_name": "dove",
   "language": "python",
   "name": "dove"
  },
  "language_info": {
   "codemirror_mode": {
    "name": "ipython",
    "version": 3
   },
   "file_extension": ".py",
   "mimetype": "text/x-python",
   "name": "python",
   "nbconvert_exporter": "python",
   "pygments_lexer": "ipython3",
   "version": "3.8.13"
  }
 },
 "nbformat": 4,
 "nbformat_minor": 5
}
