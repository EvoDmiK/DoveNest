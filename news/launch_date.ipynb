{
 "cells": [
  {
   "cell_type": "code",
   "execution_count": 1,
   "id": "f40037c2-f7b1-4eac-8297-1fa8ee8b0a7b",
   "metadata": {},
   "outputs": [],
   "source": [
    "from bs4 import BeautifulSoup as bs\n",
    "from datetime import datetime\n",
    "import requests as req\n",
    "import time"
   ]
  },
  {
   "cell_type": "code",
   "execution_count": 2,
   "id": "d040de89-9c4b-4678-af39-003e462fd9ee",
   "metadata": {},
   "outputs": [],
   "source": [
    "response = req.get('https://www.nintendo.co.kr/software/release/').text\n",
    "soup     = bs(response, 'html.parser')\n",
    "\n",
    "def preprocessing(string, dtype = 'date'):\n",
    "    \n",
    "    string     = string.replace('\\n', '').replace('  ', '')\n",
    "    if dtype == 'date':\n",
    "        string = string.replace('(', '').replace(')', '')\n",
    "        \n",
    "    return string"
   ]
  },
  {
   "cell_type": "code",
   "execution_count": 3,
   "id": "afc37a65-c832-48cd-b222-e36a0c046fd4",
   "metadata": {},
   "outputs": [],
   "source": [
    "rel_dates  = soup.select('div.info-box > p.releaseInfo > span.rel-date')\n",
    "rel_titles = soup.select('div.info-box > span.tit')\n",
    "rel_makers = soup.select('div.info-box > p > span.rel-maker')"
   ]
  },
  {
   "cell_type": "code",
   "execution_count": 4,
   "id": "1b11f5b7-2d35-4779-a225-e4df95388c5d",
   "metadata": {},
   "outputs": [
    {
     "name": "stdout",
     "output_type": "stream",
     "text": [
      "디즈니 스피드스톰 -- 스탠다드 파운더스 팩 : Gameloft \n",
      "2023.04.18\n",
      "\n",
      "마력 척결관: 리그 오브 레전드 이야기™ : Riot Forge \n",
      "2023.04.19\n",
      "\n",
      "Minecraft Legends : MOJANGAB \n",
      "2023.04.19\n",
      "\n",
      "AKIBA'S TRIP2 Director's Cut(아키바스 트립2 DC) : Clouded Leopard Entertainment \n",
      "2023.04.20\n",
      "\n",
      "Arcana of Paradise —The Tower— : SHUEISHA GAMES \n",
      "2023.04.20\n",
      "\n",
      "FINAL FANTASY III : SQUARE ENIX \n",
      "2023.04.20\n",
      "\n",
      "FINAL FANTASY IV : SQUARE ENIX \n",
      "2023.04.20\n",
      "\n",
      "FINAL FANTASY V : SQUARE ENIX \n",
      "2023.04.20\n",
      "\n",
      "FINAL FANTASY VI : SQUARE ENIX \n",
      "2023.04.20\n",
      "\n",
      "LOST EPIC : oneoreight \n",
      "2023.04.20\n",
      "\n",
      "Fitness Boxing Fist of the North Star : IMAGINEER \n",
      "2023.04.21\n",
      "\n",
      "SD 신 가면라이더 난무 : 반다이남코 엔터테인먼트 코리아 \n",
      "2023.04.27\n",
      "\n",
      "가제트 2 (Contraptions 2) : Funbox Media \n",
      "2023.04.27\n",
      "\n",
      "오메가 스트라이커스 : Odyssey Interactive \n",
      "2023.04.27\n",
      "\n",
      "엘리멘탈 워 2 (Elemental War 2) : Clockwork Origins \n",
      "2023.05.11\n",
      "\n",
      "젤다의 전설 티어스 오브 더 킹덤 : 한국닌텐도 \n",
      "2023.05.12\n",
      "\n",
      "Farming Simulator 23: Nintendo Switch™ Edition : GIANTS Software \n",
      "2023.05.23\n",
      "\n",
      "아바마마와 돌아온 데굴데굴~쫀득쫀득~ 괴혼 : 반다이남코 엔터테인먼트 코리아 \n",
      "2023.06.01\n",
      "\n",
      "세계수의 미궁 HD REMASTER : SEGA \n",
      "2023.06.01\n",
      "\n",
      "세계수의 미궁2 제왕의 성배 HD REMASTER : SEGA \n",
      "2023.06.01\n",
      "\n",
      "세계수의 미궁3 성해의 방문자 HD REMASTER : SEGA \n",
      "2023.06.01\n",
      "\n",
      "목장이야기 Welcome! 원더풀 라이프 : SEGA \n",
      "2023.06.22\n",
      "\n",
      "피크민 4 : 한국닌텐도 \n",
      "2023.07.21\n",
      "\n",
      "디즈니 일루전 아일랜드（Disney Illusion Island）（원제） : Disney \n",
      "2023.07.28\n",
      "\n",
      "Undying : Skystone Games \n",
      "2022년\n",
      "\n",
      "Star Wars: Hunters™ : Zynga Inc. \n",
      "2022년\n",
      "\n",
      "Chicory: A Colorful Tale : Finji \n",
      "2022년\n",
      "\n",
      "Coffee Talk Episode 2: Hibiscus & Butterfly : Chorus Worldwide Games \n",
      "2023년 봄\n",
      "\n",
      "Ib : PLAYISM \n",
      "2023년 봄\n",
      "\n",
      "Samba de Amigo : 즐거운 파티 : SEGA \n",
      "2023년 여름\n",
      "\n",
      "마리의 아틀리에 Remake ～잘부르그의 연금술사～ : KOEI TECMO GAMES \n",
      "2023년 여름\n",
      "\n",
      "Baten KaitosⅠ＆Ⅱ HD Remaster : 반다이남코 엔터테인먼트 코리아 \n",
      "2023년 여름\n",
      "\n",
      "Ghost Trick (고스트 트릭) : CAPCOM \n",
      "2023년 여름\n",
      "\n",
      "SANABI : NEOWIZ \n",
      "2023년 상반기\n",
      "\n",
      "SUPER BOMBERMAN R 2 : KONAMI \n",
      "2023년\n",
      "\n",
      "패션 드리머 : Marvelous Inc. \n",
      "2023년\n",
      "\n",
      "Outer Wilds - 발매일 미정\n",
      "TerraTech - 발매일 미정\n"
     ]
    }
   ],
   "source": [
    "for rel_title, rel_date, rel_maker in zip(rel_titles, rel_dates, rel_makers):\n",
    "    \n",
    "    rel_title = preprocessing(rel_title.text, dtype = 'title')\n",
    "    rel_maker = preprocessing(rel_maker.text, dtype = 'maker')\n",
    "    rel_date  = preprocessing(rel_date.text)\n",
    "    \n",
    "    if rel_date == '': print(f'{rel_title} - 발매일 미정')\n",
    "    else: print(f'{rel_title} : {rel_maker} \\n {rel_date}\\n')"
   ]
  },
  {
   "cell_type": "code",
   "execution_count": 5,
   "id": "9043f1cd-9ef8-4343-b2e8-6d7e391c0e9d",
   "metadata": {},
   "outputs": [
    {
     "name": "stdout",
     "output_type": "stream",
     "text": [
      "2023-01-10 00:00:00\n"
     ]
    }
   ],
   "source": [
    "time2unix = lambda t: time.mktime(t.timetuple())\n",
    "unix2time = lambda t: datetime.fromtimestamp(int(t))\n",
    "\n",
    "today     = time2unix(datetime(2023, 1, 3))\n",
    "next_week = unix2time(today + 604800)\n",
    "\n",
    "print(next_week)"
   ]
  },
  {
   "cell_type": "code",
   "execution_count": null,
   "id": "d631befd-dbf6-462b-a24b-62139531b9bb",
   "metadata": {},
   "outputs": [],
   "source": []
  }
 ],
 "metadata": {
  "kernelspec": {
   "display_name": "dove",
   "language": "python",
   "name": "dove"
  },
  "language_info": {
   "codemirror_mode": {
    "name": "ipython",
    "version": 3
   },
   "file_extension": ".py",
   "mimetype": "text/x-python",
   "name": "python",
   "nbconvert_exporter": "python",
   "pygments_lexer": "ipython3",
   "version": "3.8.13"
  }
 },
 "nbformat": 4,
 "nbformat_minor": 5
}
